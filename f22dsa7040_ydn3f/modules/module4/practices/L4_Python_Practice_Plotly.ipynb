{
 "cells": [
  {
   "cell_type": "markdown",
   "metadata": {},
   "source": [
    "# Using Plotly in Python\n",
    "\n",
    "This notebook has examples to illustrate how to use Plotly library in Python."
   ]
  },
  {
   "cell_type": "code",
   "execution_count": null,
   "metadata": {},
   "outputs": [],
   "source": [
    "import pandas as pd\n",
    "import numpy as np\n",
    "import scipy as sp\n",
    "from plotnine.data import diamonds\n",
    "\n",
    "# Plotly in Python \n",
    "from plotly.offline import download_plotlyjs, init_notebook_mode, plot, iplot\n",
    "import plotly.graph_objs as go\n",
    "\n",
    "init_notebook_mode(connected=True)"
   ]
  },
  {
   "cell_type": "markdown",
   "metadata": {},
   "source": [
    "### Plotting Inline\n",
    "\n",
    "You can use Plotly's python API to plot inside your Jupyter Notebook. Calling the plot with iplot automaticallly generates an interactive version of the plot inside the notebook in an iframe. \n",
    "\n",
    "Make sure to call ```init_notebook_mode``` function as above in the beginning of each notebook where you use a Plotly function. \n",
    "\n",
    "Diamonds dataset has over 50k rows. Create a sample dataframe out of it so the plots are rendered faster. "
   ]
  },
  {
   "cell_type": "code",
   "execution_count": null,
   "metadata": {},
   "outputs": [],
   "source": [
    "sample = diamonds.sample(n=1000)\n",
    "\n",
    "sample.head()"
   ]
  },
  {
   "cell_type": "code",
   "execution_count": null,
   "metadata": {},
   "outputs": [],
   "source": [
    "trace = go.Scattergl(\n",
    "    x = sample.carat,\n",
    "    y = sample.price,\n",
    "    text= sample.clarity,\n",
    "    mode = 'markers',\n",
    "    \n",
    "    marker = dict(\n",
    "#         size = sample.carat*5,\n",
    "        color = sample.depth,\n",
    "        colorscale='Viridis',\n",
    "        showscale=True\n",
    "    )\n",
    ")\n",
    "\n",
    "data = [trace]\n",
    "\n",
    "iplot(data)"
   ]
  },
  {
   "cell_type": "code",
   "execution_count": null,
   "metadata": {},
   "outputs": [],
   "source": [
    "trace = go.Scattergl(\n",
    "    x = sample.carat,\n",
    "    y = sample.price,\n",
    "    text= sample.depth,\n",
    "    mode = 'markers',\n",
    "    \n",
    "    marker = dict(\n",
    "#         size = sample.carat*5,\n",
    "        color = sample.depth,\n",
    "        colorscale='Viridis',\n",
    "        showscale=True\n",
    "    )\n",
    ")\n",
    "\n",
    "data = [trace]\n",
    "\n",
    "iplot(data)"
   ]
  },
  {
   "cell_type": "code",
   "execution_count": null,
   "metadata": {},
   "outputs": [],
   "source": [
    "import plotly.figure_factory as ff\n",
    "\n",
    "colorscale = ['#7A4579', '#D56073', 'rgb(236,158,105)', (1, 1, 0.2), (0.98,0.98,0.98)]\n",
    "\n",
    "fig = ff.create_2d_density(\n",
    "    sample.carat,sample.price, colorscale=colorscale,\n",
    "    hist_color='rgb(255, 237, 222)', point_size=3\n",
    ")\n",
    "\n",
    "iplot(fig)"
   ]
  },
  {
   "cell_type": "code",
   "execution_count": null,
   "metadata": {},
   "outputs": [],
   "source": [
    "trace0 = go.Box(\n",
    "    y=sample.price\n",
    ")\n",
    "\n",
    "data = [trace0]\n",
    "iplot(data)"
   ]
  },
  {
   "cell_type": "markdown",
   "metadata": {},
   "source": [
    "You can also plot multiple variables like this: "
   ]
  },
  {
   "cell_type": "code",
   "execution_count": null,
   "metadata": {},
   "outputs": [],
   "source": [
    "trace0 = go.Box(\n",
    "    y=sample.x\n",
    ")\n",
    "trace1 = go.Box(\n",
    "    y=sample.y\n",
    ")\n",
    "trace2 = go.Box(\n",
    "    y=sample.z\n",
    ")\n",
    "\n",
    "\n",
    "data = [trace0, trace1, trace2]\n",
    "iplot(data)"
   ]
  },
  {
   "cell_type": "markdown",
   "metadata": {},
   "source": [
    "### Bubble chart\n",
    "\n",
    "\n",
    "This is an example of a bubble chart in Python using plotly. "
   ]
  },
  {
   "cell_type": "code",
   "execution_count": null,
   "metadata": {},
   "outputs": [],
   "source": [
    "\n",
    "trace0 = go.Scatter(\n",
    "    x=[1, 2, 3, 4],\n",
    "    y=[10, 11, 12, 13],\n",
    "    mode='markers',\n",
    "    marker=dict(\n",
    "        size=[40, 60, 80, 100],\n",
    "    )\n",
    ")\n",
    "\n",
    "data = [trace0]\n",
    "iplot(data)"
   ]
  },
  {
   "cell_type": "code",
   "execution_count": null,
   "metadata": {},
   "outputs": [],
   "source": [
    "# or we can setup the data like this: \n",
    "data = [\n",
    "    {\n",
    "        'x': [1, 3.2, 5.4, 7.6, 9.8, 12.5],\n",
    "        'y': [1, 3.2, 5.4, 7.6, 9.8, 12.5],\n",
    "        'mode': 'markers',\n",
    "        'marker': {\n",
    "            'color': [120, 125, 130, 135, 140, 145],\n",
    "            'size': [15, 30, 55, 70, 90, 110],\n",
    "            'showscale': True\n",
    "        }\n",
    "    }\n",
    "]\n",
    "\n",
    "iplot(data)"
   ]
  },
  {
   "cell_type": "code",
   "execution_count": null,
   "metadata": {},
   "outputs": [],
   "source": [
    "# Now let's do a real example: \n",
    "sdata = pd.read_csv('https://raw.githubusercontent.com/plotly/datasets/master/school_earnings.csv')\n",
    "\n",
    "sdata.head()"
   ]
  },
  {
   "cell_type": "code",
   "execution_count": null,
   "metadata": {},
   "outputs": [],
   "source": [
    "\n",
    "trace0 = go.Scatter(\n",
    "    x=sdata.Women,\n",
    "    y=sdata.Men,\n",
    "    mode='markers',\n",
    "    marker=dict(\n",
    "        size=sdata.Gap,\n",
    "        color=sdata.Gap\n",
    "    )\n",
    ")\n",
    "\n",
    "pdata = [trace0]\n",
    "iplot(pdata)"
   ]
  }
 ],
 "metadata": {
  "kernelspec": {
   "display_name": "Python 3",
   "language": "python",
   "name": "python3"
  },
  "language_info": {
   "codemirror_mode": {
    "name": "ipython",
    "version": 3
   },
   "file_extension": ".py",
   "mimetype": "text/x-python",
   "name": "python",
   "nbconvert_exporter": "python",
   "pygments_lexer": "ipython3",
   "version": "3.7.3"
  }
 },
 "nbformat": 4,
 "nbformat_minor": 2
}
