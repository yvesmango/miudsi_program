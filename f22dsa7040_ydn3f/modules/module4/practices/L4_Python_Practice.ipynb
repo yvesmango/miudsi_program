{
 "cells": [
  {
   "cell_type": "markdown",
   "metadata": {},
   "source": [
    "# Plotting Heatmaps and Histograms in Python\n",
    "\n",
    "This notebook has examples to replicate some of the plots you have seen in R practice notebooks in Python. Study the notation, syntax, and output of the plots to see the implementation differences between R and Python. \n",
    "\n",
    "## Heatmaps"
   ]
  },
  {
   "cell_type": "code",
   "execution_count": null,
   "metadata": {},
   "outputs": [],
   "source": [
    "import numpy as np\n",
    "import seaborn as sns\n",
    "import pandas as pd\n",
    "import matplotlib\n",
    "%matplotlib inline\n",
    "import pandas\n",
    "\n",
    "matplotlib.style.use('ggplot')       # Use ggplot style plots*"
   ]
  },
  {
   "cell_type": "code",
   "execution_count": null,
   "metadata": {},
   "outputs": [],
   "source": [
    "# Generate random 2D for plotting a heatmap. Below command will generate a 2D matrix of 10 rows and 12 columns.\n",
    "uniform_data = np.random.rand(10, 12)\n",
    "\n",
    "# Display first two rows of data\n",
    "uniform_data[0:2,:]"
   ]
  },
  {
   "cell_type": "markdown",
   "metadata": {},
   "source": [
    "Seaborn's heatmap plots rectangular data as a color-encoded matrix. It is an axes-level function and will draw the heatmap into the currently-active axes if none is provided to the ```ax``` argument. Below, the heatmap is assigned to ```ax``` handle. "
   ]
  },
  {
   "cell_type": "code",
   "execution_count": null,
   "metadata": {},
   "outputs": [],
   "source": [
    "ax = sns.heatmap(uniform_data)"
   ]
  },
  {
   "cell_type": "markdown",
   "metadata": {},
   "source": [
    "So, the map inferred the values for colormap from the data. But if you want to anchor the values for the colormap, you can do it using vmin and vmax arguments. "
   ]
  },
  {
   "cell_type": "code",
   "execution_count": null,
   "metadata": {},
   "outputs": [],
   "source": [
    "ax = sns.heatmap(uniform_data, vmin=0, vmax=1)"
   ]
  },
  {
   "cell_type": "markdown",
   "metadata": {},
   "source": [
    "Here's an example on how to plot a heatmap using ```flights``` dataset. Load the data that comes with Seaborn package. Create a pivoted table which is just a matrix representation of the heatmap that the ```heatmap()``` function plots. Finally, use that pivot table to plot. "
   ]
  },
  {
   "cell_type": "code",
   "execution_count": null,
   "metadata": {},
   "outputs": [],
   "source": [
    "flights = sns.load_dataset(\"flights\")\n",
    "flightsp = flights.pivot(\"month\", \"year\", \"passengers\")\n",
    "ax = sns.heatmap(flightsp, annot=True, fmt=\"d\")"
   ]
  },
  {
   "cell_type": "markdown",
   "metadata": {},
   "source": [
    "The above plot is an **annotated heatmap** because we can see the numbers in the cells. \n",
    "\n",
    "For more examples, check the [Seaborn documentation](https://seaborn.pydata.org/generated/seaborn.heatmap.html) for heatmaps.\n",
    "\n",
    "\n",
    "**We can create similar plot with plotnine as following:** "
   ]
  },
  {
   "cell_type": "code",
   "execution_count": null,
   "metadata": {},
   "outputs": [],
   "source": [
    "from plotnine import *\n",
    "\n",
    "# We use geom_tile to create the heatmap, and geom_text to annotate it. \n",
    "# We use 'factor(year)' to have discrete values shown along the x-axis instead of 'year'.\n",
    "# .95 spacing between the tiles.\n",
    "\n",
    "(ggplot(flights, aes('factor(year)', 'month', fill='passengers'))\n",
    " + geom_tile(aes(width=.95, height=.95))\n",
    " + geom_text(aes(label='passengers'), size=10)\n",
    ")\n"
   ]
  },
  {
   "cell_type": "markdown",
   "metadata": {},
   "source": [
    "**Take a look at [here](https://plotnine.readthedocs.io/en/stable/generated/plotnine.geoms.geom_tile.html#annotated-heatmap) for other cool things you can do with geom_tile.** \n",
    "\n",
    "Let's load the Kings county data for house prices. we will plot a heatmap to show the distribution of houses between floors and the year in which the house is built. The blue tiles represent larger number of houses built and white tiles represent fewer number of houses built.\n"
   ]
  },
  {
   "cell_type": "code",
   "execution_count": null,
   "metadata": {},
   "outputs": [],
   "source": [
    "kc_house_data = pd.read_csv(\"/dsa/data/all_datasets/house_sales_in_king_county/kc_house_data.csv\")\n",
    "yr_built_floors = kc_house_data[[\"yr_built\", \"floors\"]]\n",
    "yr_built_floors.head()\n",
    "yr_built_floors.groupby([\"yr_built\", \"floors\"]).size().reset_index()\n",
    "\n",
    "# Get the frequency of each combination of yr_built and floors\n",
    "\n",
    "yr_built_floors=yr_built_floors.groupby([\"yr_built\", \"floors\"]).size().reset_index()\n",
    "yr_built_floors = yr_built_floors.rename({0:\"Freq\"}, axis=1)\n",
    "\n",
    "p = ggplot(yr_built_floors, aes(x=\"floors\", y=\"yr_built\")) + geom_tile(aes(fill=\"Freq\")) \n",
    "p = p + scale_fill_gradient(name = \"Yr built and floors\", low = \"white\", high=\"blue\") \n",
    "p = p + xlab(\"Floors\") + ylab(\"Built Year\")+labs(title=\"Houses built from 1900 to 2015\") + coord_fixed(ratio = 0.05) + theme_minimal()\n",
    "p\n"
   ]
  },
  {
   "cell_type": "markdown",
   "metadata": {},
   "source": [
    "## Histograms\n",
    "\n"
   ]
  },
  {
   "cell_type": "code",
   "execution_count": null,
   "metadata": {},
   "outputs": [],
   "source": [
    "usda_data=pd.read_csv(\"/dsa/data/all_datasets/USDA.csv\")\n",
    "usda_data.head()"
   ]
  },
  {
   "cell_type": "code",
   "execution_count": null,
   "metadata": {},
   "outputs": [],
   "source": [
    "usda_data.describe()"
   ]
  },
  {
   "cell_type": "markdown",
   "metadata": {},
   "source": [
    "### Qplot in ggplot\n",
    "\n",
    "Qplot is a convenient wrapper for ggplot to create a number of different types of plots using a consistent calling scheme that is similar to the base graphics capability of R. It is also referred to as quick plot. \n",
    "\n",
    "In below plot, a histogram is plotted using the string **`histogram`** supplied to **`geom`** parameter. Binwidth tells ggplot to form bins of specified width. With a binwidth of 10, each bin in below plot represents a range of calories like (50-59) on x axis, and the data items falling within these ranges are counted and depicted as the frequencies of corresponding bins."
   ]
  },
  {
   "cell_type": "code",
   "execution_count": null,
   "metadata": {},
   "outputs": [],
   "source": [
    "qplot(data=usda_data, x=\"Calories\",  geom=\"histogram\", binwidth=10)"
   ]
  },
  {
   "cell_type": "markdown",
   "metadata": {},
   "source": [
    "The **`weight`** aesthetic when used with histograms or bar charts can be used to create weighted histograms and bar charts. Here the height of the bar no longer represents count of observations, but a sum over some other variable."
   ]
  },
  {
   "cell_type": "code",
   "execution_count": null,
   "metadata": {},
   "outputs": [],
   "source": [
    "qplot(data=usda_data, x=\"Calories\",  geom=\"histogram\",weight = \"Protein\", binwidth=10)"
   ]
  },
  {
   "cell_type": "markdown",
   "metadata": {},
   "source": [
    "#### Layered Grammar of ggplot\n",
    "\n",
    "We can use the ggplot syntax instead of qplot to create plots that follow the layered grammar convention of ggplot. The histogram can be also plotted like this:"
   ]
  },
  {
   "cell_type": "code",
   "execution_count": null,
   "metadata": {},
   "outputs": [],
   "source": [
    "ggplot(usda_data, aes(x=\"Calories\")) + geom_histogram(binwidth=10, fill=\"lightblue\") + ylab(\"Freqeuncy\")"
   ]
  },
  {
   "cell_type": "markdown",
   "metadata": {},
   "source": [
    "#### Density Curve on Histogram\n",
    "\n",
    "A density curve can be plotted on a histogram that represents the probability density function of that variable. Density can be overlayed on histogram with a transparent density plot. The alpha value controls the level of transparency as shown in below example. This shows the layered structure of ggplot where two layers (histogram and density) can be plotted on the same plot. Also, **..density..** is a derived variable computed by the ggplot on the fly."
   ]
  },
  {
   "cell_type": "code",
   "execution_count": null,
   "metadata": {},
   "outputs": [],
   "source": [
    "ggplot(usda_data, aes(x=\"Calories\")) + \\\n",
    "    geom_histogram(aes(y=\"..density..\"), colour = \"black\", fill=\"lightblue\", binwidth=10) +\\\n",
    "    geom_density(alpha = .2, fill=\"red\")"
   ]
  }
 ],
 "metadata": {
  "kernelspec": {
   "display_name": "Python 3",
   "language": "python",
   "name": "python3"
  },
  "language_info": {
   "codemirror_mode": {
    "name": "ipython",
    "version": 3
   },
   "file_extension": ".py",
   "mimetype": "text/x-python",
   "name": "python",
   "nbconvert_exporter": "python",
   "pygments_lexer": "ipython3",
   "version": "3.7.3"
  }
 },
 "nbformat": 4,
 "nbformat_minor": 2
}
