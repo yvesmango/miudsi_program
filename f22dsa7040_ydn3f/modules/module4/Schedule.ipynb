{
 "cells": [
  {
   "cell_type": "markdown",
   "metadata": {},
   "source": [
    "# Module Four: Visualization Design Principles\n",
    "\n",
    "\n",
    "## Topics covered \n",
    " - Tufte's design principles\n",
    "   - Lie factor\n",
    "   - Graphical integrity\n",
    "   - Data-ink ratio\n",
    "   - Data density, chart junk\n",
    "   - Visualization analysis\n",
    "   - Practice and exercise\n",
    "     - introduction to plot.ly: module 3 examples done in plot.ly\n",
    "     - ggplot2 practice: Histograms, heat maps, bubble charts     \n",
    "\n",
    "\n",
    "## Notebook Shortcuts\n",
    "\n",
    "### Labs\n",
    "- [Elements of Visualization](labs/L4_DataViz_Principles.ipynb)\n",
    "- [Lecture Slides](labs/L4_DataViz_Principles.pdf)\n",
    "\n",
    "\n",
    "### Practices\n",
    "- [L4 Heatmap Practice](practices/L4_Heatmap_Practice.ipynb)\n",
    "- [L4 Histogram Practice](practices/L4_Histogram_Practice.ipynb)\n",
    "- [L4 Plotly1 Practice](practices/L4_Plotly1_Practice.ipynb)\n",
    "- [L4 Plotly2 Practice](practices/L4_Plotly2_Practice.ipynb)\n",
    "- [L4 Python Practice](practices/L4_Python_Practice.ipynb)\n",
    "- [L4 Python Practice_Plotly](practices/L4_Python_Practice_Plotly.ipynb)\n",
    "\n",
    "\n",
    "\n",
    "### Exercises\n",
    "- [L4 Exercise](exercises/L4_Exercise.ipynb)\n",
    "\n",
    "\n",
    "\n",
    "## Readings and Links\n",
    "- Embedded in the lab and practice notebooks\n",
    "\n",
    "\n",
    "## Video topics\n",
    "- **Concept Video**: Visualization Design Principles\n",
    "\n"
   ]
  }
 ],
 "metadata": {
  "kernelspec": {
   "display_name": "Python 3",
   "language": "python",
   "name": "python3"
  },
  "language_info": {
   "codemirror_mode": {
    "name": "ipython",
    "version": 3
   },
   "file_extension": ".py",
   "mimetype": "text/x-python",
   "name": "python",
   "nbconvert_exporter": "python",
   "pygments_lexer": "ipython3",
   "version": "3.7.3"
  }
 },
 "nbformat": 4,
 "nbformat_minor": 1
}
