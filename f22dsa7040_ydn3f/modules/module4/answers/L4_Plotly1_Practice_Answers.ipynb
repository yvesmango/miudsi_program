{
 "cells": [
  {
   "cell_type": "markdown",
   "metadata": {},
   "source": [
    "# Plotly\n",
    "\n",
    "Plotly is a visualization tool to create online, interactive charts and dashboards. It also provides libraries for other languages including R and Python to create visualizations from within these languages. We will use Plotly R library to locally create plotly objects in our jupyter notebooks. The following links are good references for learning plotly:\n",
    "\n",
    "* **Reference** [Plotly R cheat sheet](https://images.plot.ly/plotly-documentation/images/r_cheat_sheet.pdf)\n",
    "* **Reference** [Plotly R reference](https://plot.ly/r/reference/)\n",
    "\n",
    "We can use plotly in two different ways in R: \n",
    " 1. By calling plot_ly function to create the graphics in as plotly object,\n",
    " 2. By creating a ggplot object and converting it to plotly object. Let's see how we do that.\n",
    "\n",
    "It takes a little longer than usual to create plotly objects, but the result is worth the wait. **The plots are interactive**, you can hover your mouse pointer over them to see the data points, and you can zoom in and pan some plotly objects. \n",
    "\n",
    "**Run the following cells and hover the mouse over to see the information on data points, and try zooming and panning. If a plot does not appear in the first run, re-run the cell and it should appear in the second run.** "
   ]
  },
  {
   "cell_type": "code",
   "execution_count": null,
   "metadata": {},
   "outputs": [],
   "source": [
    "library(ggplot2)\n",
    "library(plotly)\n",
    "\n",
    "# Let's start with the diamonds data set and create a scatterplot by directly using plotly functions. \n",
    "set.seed(100)\n",
    "d <- diamonds[sample(nrow(diamonds),1000),]\n",
    "head(d)"
   ]
  },
  {
   "cell_type": "code",
   "execution_count": null,
   "metadata": {},
   "outputs": [],
   "source": [
    "plot_ly(d, x = ~carat, y = ~price, color = ~carat, size = ~carat, text = ~paste(\"Clarity: \", clarity), type=\"scatter\", mode=\"markers\")"
   ]
  },
  {
   "cell_type": "code",
   "execution_count": null,
   "metadata": {},
   "outputs": [],
   "source": [
    "# We can change what to print when the mouse pointer hovers over data points. \n",
    "plot_ly(d, x = ~carat, y = ~price, color = ~carat, size = ~carat, \n",
    "        text = ~paste(\"Clarity: \", clarity), \n",
    "        #text = ~paste(\"Price: \", price, '$<br>Cut:', cut),\n",
    "        type=\"scatter\", mode=\"markers\")"
   ]
  },
  {
   "cell_type": "code",
   "execution_count": null,
   "metadata": {},
   "outputs": [],
   "source": [
    "# We can also create complex ggplot objects and render them with plotly \n",
    "\n",
    "pf <- ggplot(data = d, aes(x = carat, y = price)) + geom_point(aes(text = paste(\"Clarity:\", clarity))) \n",
    "pf <- pf + geom_smooth(aes(colour = cut, fill = cut)) + facet_wrap(~ cut)\n",
    "\n",
    "\n",
    "ggplotly(pf)"
   ]
  },
  {
   "cell_type": "markdown",
   "metadata": {},
   "source": [
    "**Now, let's use ggplot to create multiple density plots and send that to plotly to create an interactive plot.**\n"
   ]
  },
  {
   "cell_type": "code",
   "execution_count": null,
   "metadata": {},
   "outputs": [],
   "source": [
    "\n",
    "p <- ggplot(diamonds, aes(x = price)) + geom_density(aes(fill = color), alpha = 0.5) + \n",
    "     ggtitle(\"Kernel Density estimates by group\")\n",
    "\n",
    "ggplotly(p)"
   ]
  },
  {
   "cell_type": "code",
   "execution_count": null,
   "metadata": {},
   "outputs": [],
   "source": [
    "# We can also create a 2D density plot over scatterplot\n",
    "\n",
    "# Let's create a toy data set for this purpose\n",
    "set.seed(123)\n",
    "df <- data.frame(x <- rchisq(1000, 10, 10), y <- rnorm(1000))\n",
    "\n",
    "# Now use ggplot\n",
    "p2 <- ggplot(df, aes(x, y)) + geom_point(alpha = 0.5) + geom_density_2d()\n",
    "p2 <- p2 + theme(panel.background = element_rect(fill = '#ffffff')) + ggtitle(\"2D density plot with scatterplot overlay\")\n",
    "# and send it to plotly\n",
    "ggplotly(p2)"
   ]
  },
  {
   "cell_type": "code",
   "execution_count": null,
   "metadata": {},
   "outputs": [],
   "source": [
    "\n",
    "# We can create a boxplot by using plotly, we should define the type as \"box\"\n",
    "p3 <- plot_ly(midwest, x = ~percollege, color = ~state, type = \"box\")\n",
    "p3"
   ]
  },
  {
   "cell_type": "markdown",
   "metadata": {},
   "source": [
    "---\n",
    "\n",
    "## Heatmap Examples with Plotly"
   ]
  },
  {
   "cell_type": "code",
   "execution_count": null,
   "metadata": {},
   "outputs": [],
   "source": [
    "# The volcano data set can be plotted in 3D; you can zoom and rotate. Try it. \n",
    "\n",
    "plot_ly(z = ~volcano, type = \"surface\")"
   ]
  },
  {
   "cell_type": "code",
   "execution_count": null,
   "metadata": {},
   "outputs": [],
   "source": [
    "# Or it can be mapped to a heat map. Now it's a 2D plot where colors encode height. \n",
    "plot_ly(z = volcano, type = \"heatmap\")"
   ]
  },
  {
   "cell_type": "code",
   "execution_count": null,
   "metadata": {},
   "outputs": [],
   "source": [
    "# We can also change colors.  \n",
    "plot_ly(z = volcano, colors = colorRamp(c(\"blue\", \"red\")), type = \"heatmap\")"
   ]
  },
  {
   "cell_type": "code",
   "execution_count": null,
   "metadata": {},
   "outputs": [],
   "source": [
    "# We  can create a heatmap with categorical axes. This can be used to visualize a correlation matrix for example.\n",
    "\n",
    "# First create some random 3x3 matrix \n",
    "m <- matrix(rnorm(9), nrow = 3, ncol = 3)\n",
    "# And plot it with categories in axes' labels. \n",
    "plot_ly(x = c(\"a\", \"b\", \"c\"), y = c(\"d\", \"e\", \"f\"), z = m, type = \"heatmap\")"
   ]
  },
  {
   "cell_type": "code",
   "execution_count": null,
   "metadata": {},
   "outputs": [],
   "source": [
    "# Now, we can create a heatmap to represent density, it's actually a 2D histogram where frequency is coded with color.\n",
    "\n",
    "# Create some data \n",
    "s <- matrix(c(1, -.75, -.75, 1), ncol = 2)\n",
    "obs <- mvtnorm::rmvnorm(500, sigma = s)\n",
    "\n",
    "\n",
    "pd <- plot_ly(x = obs[,1], y = obs[,2])\n",
    "ppd <- subplot(\n",
    "  pd %>% add_markers(alpha = 0.2),\n",
    "  pd %>% add_histogram2d()\n",
    ")\n",
    "ppd"
   ]
  },
  {
   "cell_type": "code",
   "execution_count": null,
   "metadata": {},
   "outputs": [],
   "source": [
    "# Let's do the same with diamonds data set. \n",
    "cnt <- with(diamonds, table(cut, clarity))\n",
    "pd <- plot_ly(diamonds, x = ~cut, y = ~clarity, z = ~cnt) %>%\n",
    "  add_histogram2d()\n",
    "pd"
   ]
  },
  {
   "cell_type": "markdown",
   "metadata": {},
   "source": [
    "\n",
    "---\n",
    "\n",
    "## Cluster Visualization Example"
   ]
  },
  {
   "cell_type": "markdown",
   "metadata": {},
   "source": [
    "Let's do a little more complicated plot. \n",
    "\n",
    "We'll create a random data set, cluster it into **six clusters, and visualize these clusters** by using geom_polygon in ggplot and render with plotly."
   ]
  },
  {
   "cell_type": "code",
   "execution_count": null,
   "metadata": {},
   "outputs": [],
   "source": [
    "library(\"RColorBrewer\")\n",
    "\n",
    "# Create random data\n",
    "nn <- 500\n",
    "myData <- data.frame(X = rnorm(nn),\n",
    "                     Y = rnorm(nn))\n",
    "head(myData)"
   ]
  },
  {
   "cell_type": "code",
   "execution_count": null,
   "metadata": {},
   "outputs": [],
   "source": [
    "# Do kmeans clustering and find six clusters \n",
    "setK = 6  \n",
    "clusterSolution <- kmeans(myData, centers = setK)\n",
    "\n",
    "# Add an attribute to show cluster numbers for aech data point \n",
    "myData$whichCluster <- factor(clusterSolution$cluster)\n",
    "\n",
    "str(clusterSolution)"
   ]
  },
  {
   "cell_type": "code",
   "execution_count": null,
   "metadata": {},
   "outputs": [],
   "source": [
    "# These following lines find the \"convex hull\" of each cluster; that is finding the smallest polygon\n",
    "# that contains all data points in that cluster.\n",
    "splitData <- split(myData, myData$whichCluster)\n",
    "appliedData <- lapply(splitData, function(df){\n",
    "  df[chull(df), ]  \n",
    "  })\n",
    "combinedData <- do.call(rbind, appliedData)"
   ]
  },
  {
   "cell_type": "code",
   "execution_count": null,
   "metadata": {},
   "outputs": [],
   "source": [
    "# Now create the ggplot: we'll do a scatter plot with a layer of polygon on top. \n",
    "cp <- ggplot(data = myData,\n",
    "                     aes(x = X, y = Y))\n",
    "cp <- cp + geom_polygon(data = combinedData,  # This is also a nice example of how to plot\n",
    "                          aes(x = X, y = Y, fill = whichCluster),  # two superimposed geoms\n",
    "                          alpha = 1/2)                             # from different data.frames\n",
    "cp <- cp + geom_point(size=1)\n",
    "cp <- cp + coord_equal()\n",
    "cp <- cp + scale_fill_manual(values = colorRampPalette(rev(brewer.pal(11, \"Spectral\")))(setK))"
   ]
  },
  {
   "cell_type": "code",
   "execution_count": null,
   "metadata": {},
   "outputs": [],
   "source": [
    "# now plot it. \n",
    "ggplotly(cp)"
   ]
  },
  {
   "cell_type": "markdown",
   "metadata": {},
   "source": [
    "### YOUR TURN:\n",
    "\n",
    "**Create a similar clustering visualization for the iris data set**. Use `Petal.Length` and `Petal.Width` as X and Y coordinates, find **three clusters**, and visualize them.  "
   ]
  },
  {
   "cell_type": "code",
   "execution_count": null,
   "metadata": {},
   "outputs": [],
   "source": [
    "str(iris)\n",
    "head(iris)"
   ]
  },
  {
   "cell_type": "code",
   "execution_count": null,
   "metadata": {},
   "outputs": [],
   "source": [
    "ggplot(iris, aes(x=Petal.Length,y=Petal.Width, color=Species)) + geom_point()"
   ]
  },
  {
   "cell_type": "code",
   "execution_count": null,
   "metadata": {},
   "outputs": [],
   "source": [
    "\n",
    "# You can use the following to create a 2D data set from the iris data and run the code for clustering and visualization. \n",
    "myData=data.frame(X=iris$Petal.Length, Y=iris$Petal.Width)"
   ]
  },
  {
   "cell_type": "code",
   "execution_count": null,
   "metadata": {},
   "outputs": [],
   "source": [
    "str(myData)\n",
    "\n",
    "setK=3\n",
    "\n",
    "clusterSolution <- kmeans(myData, centers = setK)\n",
    "\n",
    "# Add an attribute to show cluster numbers for aech data point \n",
    "myData$whichCluster <- factor(clusterSolution$cluster)\n",
    "\n",
    "str(clusterSolution)\n",
    "\n",
    "# These following lines find the \"convex hull\" of each cluster; that is finding the smallest polygon\n",
    "# that contains all data points in that cluster.\n",
    "splitData <- split(myData, myData$whichCluster)\n",
    "appliedData <- lapply(splitData, function(df){\n",
    "  df[chull(df), ]  \n",
    "  })\n",
    "combinedData <- do.call(rbind, appliedData)\n",
    "\n",
    "# Now create the ggplot: we'll do a scatter plot with a layer of polygon on top. \n",
    "cp2 <- ggplot(data = myData,\n",
    "                     aes(x = X, y = Y))\n",
    "cp2 <- cp2 + geom_polygon(data = combinedData,  # This is also a nice example of how to plot\n",
    "                          aes(x = X, y = Y, fill = whichCluster),  # two superimposed geoms\n",
    "                          alpha = 1/2)                             # from different data.frames\n",
    "cp2 <- cp2 + geom_point(size=1)\n",
    "cp2 <- cp2 + geom_point(data=iris, aes(x=Petal.Length, y=Petal.Width, color=Species)) \n",
    "\n",
    "cp2 <- cp2 + coord_equal()\n",
    "cp2 <- cp2 + scale_fill_manual(values = colorRampPalette(rev(brewer.pal(11, \"Spectral\")))(setK))\n",
    "\n",
    "ggplotly(cp2)"
   ]
  },
  {
   "cell_type": "code",
   "execution_count": null,
   "metadata": {},
   "outputs": [],
   "source": []
  }
 ],
 "metadata": {
  "kernelspec": {
   "display_name": "R",
   "language": "R",
   "name": "ir"
  },
  "language_info": {
   "codemirror_mode": "r",
   "file_extension": ".r",
   "mimetype": "text/x-r-source",
   "name": "R",
   "pygments_lexer": "r",
   "version": "3.5.1"
  }
 },
 "nbformat": 4,
 "nbformat_minor": 2
}
