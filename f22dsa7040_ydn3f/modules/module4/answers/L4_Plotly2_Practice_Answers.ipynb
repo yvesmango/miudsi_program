{
 "cells": [
  {
   "cell_type": "markdown",
   "metadata": {},
   "source": [
    "# Bubble Charts in Plotly\n",
    "\n",
    "Now, we will create interactive bubble charts in Plotly. Again, have these references handy to understand how Plotly functions work:\n",
    "\n",
    "\n",
    "* **Reference** [Plotly R cheat sheet](https://images.plot.ly/plotly-documentation/images/r_cheat_sheet.pdf)\n",
    "* **Reference** [Plotly R reference](https://plot.ly/r/reference/)\n",
    "\n",
    "**Run each cell below and examine the output (you may have to run them twice for the plot to appear).** \n"
   ]
  },
  {
   "cell_type": "code",
   "execution_count": null,
   "metadata": {},
   "outputs": [],
   "source": [
    "library(ggplot2)\n",
    "library(plotly)"
   ]
  },
  {
   "cell_type": "markdown",
   "metadata": {},
   "source": [
    "Let's read the school earnings data set from the online resource and plot the earning gap between genders. "
   ]
  },
  {
   "cell_type": "code",
   "execution_count": null,
   "metadata": {},
   "outputs": [],
   "source": [
    "data <- read.csv(\"https://raw.githubusercontent.com/plotly/datasets/master/school_earnings.csv\")\n",
    "head(data)\n",
    "summary(data)\n",
    "str(data)"
   ]
  },
  {
   "cell_type": "markdown",
   "metadata": {},
   "source": [
    "**We will use plot_ly function to create a scatter plot and the size of the mark will encode the gap.**"
   ]
  },
  {
   "cell_type": "code",
   "execution_count": null,
   "metadata": {},
   "outputs": [],
   "source": [
    "p <- plot_ly(data, x = ~Women, y = ~Men, text = ~School, type = 'scatter', mode = 'markers',\n",
    "             marker = list(size = ~Gap, opacity = 0.5)) %>%\n",
    "     layout(title = 'Gender Gap in Earnings per University',\n",
    "            xaxis = list(showgrid = FALSE), # NO grid for clarity and data-ink ratio \n",
    "            yaxis = list(showgrid = FALSE))\n",
    "\n",
    "p"
   ]
  },
  {
   "cell_type": "markdown",
   "metadata": {},
   "source": [
    "**Let's use color to encode the gap.**"
   ]
  },
  {
   "cell_type": "code",
   "execution_count": null,
   "metadata": {},
   "outputs": [],
   "source": [
    "p2 <- plot_ly(data, x = ~Women, y = ~Men, text = ~School, color = ~Gap, type = 'scatter', mode = 'markers', \n",
    "              colors = 'Reds',\n",
    "              marker = list(size = ~Gap, opacity = 0.5)) %>%\n",
    "      layout(title = 'Gender Gap in Earnings per University',\n",
    "             xaxis = list(showgrid = FALSE),\n",
    "             yaxis = list(showgrid = FALSE))\n",
    "p2"
   ]
  },
  {
   "cell_type": "markdown",
   "metadata": {},
   "source": [
    "**We can also encode the states by color, let's add states to the data.** "
   ]
  },
  {
   "cell_type": "code",
   "execution_count": null,
   "metadata": {},
   "outputs": [],
   "source": [
    "data$State <- as.factor(c('Massachusetts', 'California', 'Massachusetts', 'Pennsylvania', 'New Jersey', 'Illinois', 'Washington DC',\n",
    "                          'Massachusetts', 'Connecticut', 'New York', 'North Carolina', 'New Hampshire', 'New York', 'Indiana',\n",
    "                          'New York', 'Michigan', 'Rhode Island', 'California', 'Georgia', 'California', 'California'))\n",
    "\n",
    "p3 <- plot_ly(data, x = ~Women, y = ~Men, type = 'scatter', mode = 'markers', size = ~Gap, color = ~State, \n",
    "              colors = 'Paired',\n",
    "              sizes = c(10, 50), marker = list(opacity = 0.5, sizemode = 'diameter'),\n",
    "              hoverinfo = 'text', text = ~paste('School:', School, '<br>Gender gap:', Gap)) %>%\n",
    "      layout(title = 'Gender Gap in Earnings per University',\n",
    "             xaxis = list(showgrid = FALSE),\n",
    "             yaxis = list(showgrid = FALSE),\n",
    "             showlegend = FALSE)\n",
    "\n",
    "p3"
   ]
  },
  {
   "cell_type": "markdown",
   "metadata": {},
   "source": [
    "## NOW YOUR TURN: \n",
    "\n",
    "\n",
    "A famous interactive and animated bubble chart is the **Gapminder** that you can see and interact with [here](http://gapminder.org/tools). \n",
    "\n",
    "**Let's create a Gapminder-like plot by using 2007 data only.**\n"
   ]
  },
  {
   "cell_type": "code",
   "execution_count": null,
   "metadata": {},
   "outputs": [],
   "source": [
    "data <- read.csv(\"https://raw.githubusercontent.com/plotly/datasets/master/gapminderDataFiveYear.csv\")\n",
    "str(data)"
   ]
  },
  {
   "cell_type": "code",
   "execution_count": null,
   "metadata": {},
   "outputs": [],
   "source": [
    "# PICK 2007 DATA ONLY \n",
    "data_2007 <- data[which(data$year == 2007),]\n",
    "\n",
    "\n",
    "# SORT IT \n",
    "data_2007 <- data_2007[order(data_2007$continent, data_2007$country),]"
   ]
  },
  {
   "cell_type": "code",
   "execution_count": null,
   "metadata": {},
   "outputs": [],
   "source": [
    "slope <- 2.666051223553066e-05\n",
    "data_2007$size <- sqrt(data_2007$pop * slope)\n",
    "colors <- c('#4AC6B7', '#1972A4', '#965F8A', '#FF7070', '#C61951')\n",
    "\n",
    "\n",
    "\n",
    "# X AND Y AXES WILL BE GDP PER CAP AND LIFE EXPECTANCY, RESPECTIVELY. \n",
    "# MAP THE CONTINENT ATTRIBUTE TO COLOR VISUAL VARIABLE, \n",
    "# AND THE SIZE ATTRIBUTE TO SIZE VISUAL VARIABLE. \n",
    "\n",
    "pg <- plot_ly(data_2007, x = ~gdpPercap, y = ~lifeExp, color = ~continent, size = ~size, colors = colors, \n",
    "              \n",
    "              type = 'scatter', mode = 'markers', \n",
    "\n",
    "              #sizes = c(min(data_2007$size), max(data_2007$size)),        \n",
    "              sizes = c(10, 100), # limit the size of the bubbles in order to make them easily visible \n",
    "              marker = list(symbol = 'circle', sizemode = 'diameter', line = list(width = 2, color = '#FFFFFF')),\n",
    "\n",
    "              # add hover text for bubbles               \n",
    "              text = ~paste('Country:', country, '<br>Life Expectancy:', lifeExp, '<br>GDP:', gdpPercap,\n",
    "                      '<br>Pop.:', pop)) %>%\n",
    "      layout(title = 'Life Expectancy v. Per Capita GDP, 2007',\n",
    "             xaxis = list(title = 'GDP per capita (2000 dollars)',\n",
    "                      gridcolor = 'rgb(255, 255, 255)',\n",
    "                      range = c(2.003297660701705, 5.191505530708712),\n",
    "                      type = 'log',\n",
    "                      zerolinewidth = 1,\n",
    "                      ticklen = 5,\n",
    "                      gridwidth = 2),\n",
    "             yaxis = list(title = 'Life Expectancy (years)',\n",
    "                      gridcolor = 'rgb(255, 255, 255)',\n",
    "                      range = c(36.12621671352166, 91.72921793264332),\n",
    "                      zerolinewidth = 1,\n",
    "                      ticklen = 5,\n",
    "                      gridwith = 2),\n",
    "             paper_bgcolor = 'rgb(243, 243, 243)',\n",
    "             plot_bgcolor = 'rgb(243, 243, 243)')\n",
    "pg"
   ]
  },
  {
   "cell_type": "code",
   "execution_count": null,
   "metadata": {},
   "outputs": [],
   "source": []
  }
 ],
 "metadata": {
  "kernelspec": {
   "display_name": "R",
   "language": "R",
   "name": "ir"
  },
  "language_info": {
   "codemirror_mode": "r",
   "file_extension": ".r",
   "mimetype": "text/x-r-source",
   "name": "R",
   "pygments_lexer": "r",
   "version": "3.5.1"
  }
 },
 "nbformat": 4,
 "nbformat_minor": 2
}
