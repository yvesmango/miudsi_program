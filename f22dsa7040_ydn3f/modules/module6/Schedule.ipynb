{
 "cells": [
  {
   "cell_type": "markdown",
   "metadata": {},
   "source": [
    "# Module Six: Spatial Visualization\n",
    "\n",
    "\n",
    "## Topics covered    \n",
    "- Maps and projections\n",
    "   - Choropleth maps\n",
    "   - Visualizing trajectory data\n",
    "   - Practice and exercise\n",
    "     - Choropleth map examples in R and plot.ly (election map, population map, etc.)\n",
    "     - Spatial data examples: Drawing vector and spatial data in R using ggplot and Google Maps. \n",
    "\n",
    "\n",
    "## Notebook Shortcuts\n",
    "\n",
    "### Labs\n",
    "- [Spatial Visualization](labs/L6_DataViz_Spatial.ipynb)\n",
    "- No slides.\n",
    "\n",
    "\n",
    "### Practices\n",
    "- [L6 Projections Practice](practices/L6_Projections_Practice.ipynb)\n",
    "- [L6 Choropleth Practice](practices/L6_Choropleth_Practice.ipynb)\n",
    "- [L6 Counties_Choropleth_Practice](practices/L6_Counties_Choropleth_Practice.ipynb)\n",
    "- [L6 Plotly Practice](practices/L6_Plotly_Practice.ipynb)\n",
    "- [L6 Spatial Practice](practices/L6_Spatial_Practice.ipynb)\n",
    "- [L6 Python Practice](practices/L6_Python_Practice.ipynb)\n",
    "\n",
    "\n",
    "\n",
    "### Exercises\n",
    "- [L6 Exercise](exercises/L6_Exercise.ipynb)\n",
    "\n",
    "\n",
    "\n",
    "## Readings and Links\n",
    "- Embedded in the lab and practice notebooks\n",
    "\n",
    "\n",
    "## Video topics\n",
    "- **Concept Video**: None.\n"
   ]
  }
 ],
 "metadata": {
  "kernelspec": {
   "display_name": "Python 3",
   "language": "python",
   "name": "python3"
  },
  "language_info": {
   "codemirror_mode": {
    "name": "ipython",
    "version": 3
   },
   "file_extension": ".py",
   "mimetype": "text/x-python",
   "name": "python",
   "nbconvert_exporter": "python",
   "pygments_lexer": "ipython3",
   "version": "3.7.3"
  }
 },
 "nbformat": 4,
 "nbformat_minor": 1
}
