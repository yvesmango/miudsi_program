{
 "cells": [
  {
   "cell_type": "markdown",
   "metadata": {},
   "source": [
    "## Module 6 Practice - Maps and Overlaying Spatial Data\n",
    "\n",
    "\n",
    "In this notebook, we will see examples of **how to obtain map images and visualize data as layers on them using ggplot and Google maps.** \n",
    "\n",
    "**Google maps requires an API key to download its data and to use its geolocation services.** \n",
    "\n",
    "We will use DSA's api key as shown in the following examples. You can also obtain your own api key that comes with some free credit. \n",
    "\n",
    "Take a look at the [ggmap reference](https://journal.r-project.org/archive/2013-1/kahle-wickham.pdf)."
   ]
  },
  {
   "cell_type": "code",
   "execution_count": null,
   "metadata": {},
   "outputs": [],
   "source": [
    "library(ggplot2)\n",
    "library(ggmap)\n",
    "library(maps)\n",
    "library(maptools)\n",
    "library(sp)\n",
    "\n",
    "# Read the api key and register it. You have to run this at least once in a notebook \n",
    "# to be able to call ggmap functions below. \n",
    "apikey <- scan(\"/dsa/data/all_datasets/ggmap_api_key.txt\", what=\"character\")\n",
    "register_google(key = apikey)\n"
   ]
  },
  {
   "cell_type": "markdown",
   "metadata": {},
   "source": [
    "**There are different ways of getting map images and display them in R.** \n",
    "\n",
    "\n",
    "We will start with **qmap()**; it is an easy mapping tool using ggmap library. "
   ]
  },
  {
   "cell_type": "code",
   "execution_count": null,
   "metadata": {},
   "outputs": [],
   "source": [
    "# get a map of Columbia, MO postal code 65201\n",
    "qmap('65201', zoom = 14)"
   ]
  },
  {
   "cell_type": "code",
   "execution_count": null,
   "metadata": {},
   "outputs": [],
   "source": [
    "qmap('65201', zoom = 14, maptype = 'satellite')"
   ]
  },
  {
   "cell_type": "code",
   "execution_count": null,
   "metadata": {},
   "outputs": [],
   "source": [
    "qmap('65201', zoom = 14, maptype = 'hybrid')"
   ]
  },
  {
   "cell_type": "markdown",
   "metadata": {},
   "source": [
    "---\n",
    "\n",
    "\n",
    "**get_map()** is a general function to grab map images from many online sources including Google Maps as default. We can also use **GetMap()** function of RgoogleMaps library. "
   ]
  },
  {
   "cell_type": "code",
   "execution_count": null,
   "metadata": {},
   "outputs": [],
   "source": [
    "# Let's get a map of Houston\n",
    "hdf <- get_map(\"houston, texas\")\n",
    "# and display it \n",
    "ggmap(hdf, extent = \"device\")"
   ]
  },
  {
   "cell_type": "markdown",
   "metadata": {},
   "source": [
    "**Let's make some fake spatial data to show how to display it on the map.**\n"
   ]
  },
  {
   "cell_type": "code",
   "execution_count": null,
   "metadata": {},
   "outputs": [],
   "source": [
    "mu <- c(-95.3632715, 29.7632836); nDataSets <- sample(4:10,1)\n",
    "chkpts <- NULL\n",
    "for(k in 1:nDataSets){\n",
    " a <- rnorm(2); b <- rnorm(2);\n",
    " si <- 1/3000 * (outer(a,a) + outer(b,b))\n",
    " chkpts <- rbind(chkpts,cbind(MASS::mvrnorm(rpois(1,50), jitter(mu, .01), si), k))\n",
    "}\n",
    "\n",
    "chkpts <- data.frame(chkpts)\n",
    "names(chkpts) <- c(\"lon\", \"lat\",\"class\")\n",
    "chkpts$class <- factor(chkpts$class)\n",
    "\n",
    "# qmplot is easier to use in this case: it'l collect the map from an online resource\n",
    "qmplot(lon, lat, data = chkpts, color = class, darken = .6)"
   ]
  },
  {
   "cell_type": "code",
   "execution_count": null,
   "metadata": {},
   "outputs": [],
   "source": [
    "\n",
    "# Let's create a density plot:\n",
    "qmplot(lon, lat, data = chkpts, geom = \"density2d\", color = class, darken = .6)"
   ]
  },
  {
   "cell_type": "code",
   "execution_count": null,
   "metadata": {},
   "outputs": [],
   "source": [
    "# or overlay it on a satellite image with ggplot \n",
    "\n",
    "ggmap(get_map(maptype = \"satellite\"), extent = \"device\") +\n",
    "\n",
    "stat_density2d(aes(x = lon, y = lat, colour = class), data = chkpts, bins = 5)"
   ]
  },
  {
   "cell_type": "markdown",
   "metadata": {},
   "source": [
    "---\n",
    "\n",
    "**We can also create a shapefile-like layers on satellite image.**"
   ]
  },
  {
   "cell_type": "code",
   "execution_count": null,
   "metadata": {},
   "outputs": [],
   "source": [
    "data(zips) # zip code areas\n",
    "\n",
    "# remove the extra column \n",
    "df <- zips[-3]\n",
    "head(df)"
   ]
  },
  {
   "cell_type": "code",
   "execution_count": null,
   "metadata": {},
   "outputs": [],
   "source": [
    "ggmap(get_map(maptype = \"satellite\", zoom = 8), extent = \"device\") +\n",
    "\n",
    "geom_polygon(aes(x=lon, y=lat, group=plotOrder), data=df, color=\"white\", fill=\"red\", alpha=.2, size=.4) \n",
    "\n",
    "#geom_path(aes(x=lon, y=lat, group=plotOrder), data=df, color=\"white\", alpha=.4, size=.4)\n"
   ]
  },
  {
   "cell_type": "markdown",
   "metadata": {},
   "source": [
    "---\n",
    "\n",
    "### Let's do a crime plot on downtown Houston "
   ]
  },
  {
   "cell_type": "code",
   "execution_count": null,
   "metadata": {},
   "outputs": [],
   "source": [
    "# pick only violent crimes\n",
    "violent_crimes <- subset(crime,offense != \"auto theft\" & offense != \"theft\" & offense != \"burglary\")\n",
    "\n",
    "# rank violent crimes\n",
    "violent_crimes$offense <- factor(violent_crimes$offense, levels = c(\"robbery\", \"aggravated assault\",\"rape\", \"murder\"))\n",
    "\n",
    "# restrict to downtown\n",
    "violent_crimes <- subset(violent_crimes, -95.39681 <= lon & lon <= -95.34188 & 29.73631 <= lat & lat <= 29.78400)"
   ]
  },
  {
   "cell_type": "code",
   "execution_count": null,
   "metadata": {},
   "outputs": [],
   "source": [
    "# get map and bounding box\n",
    "theme_set(theme_bw(16))\n",
    "\n",
    "HoustonMap <- ggmap(get_map(\"houston\", zoom = 14, color = \"bw\"),extent = \"device\", legend = \"topleft\")"
   ]
  },
  {
   "cell_type": "code",
   "execution_count": null,
   "metadata": {},
   "outputs": [],
   "source": [
    "# the bubble chart\n",
    "\n",
    "HoustonMap +\n",
    "\n",
    "geom_point(aes(x = lon, y = lat, colour = offense, size = offense), data = violent_crimes, alpha=0.6) +\n",
    "\n",
    "scale_colour_discrete(\"Offense\", labels = c(\"Robbery\",\"Aggravated Assault\",\"Rape\",\"Murder\")) +\n",
    "\n",
    "scale_size_discrete(\"Offense\", labels = c(\"Robbery\",\"Aggravated Assault\",\"Rape\",\"Murder\"), range = c(1.75,6)) +\n",
    "\n",
    "guides(size = guide_legend(override.aes = list(size = 6))) +\n",
    "\n",
    "theme(\n",
    "   legend.key.size = grid::unit(1.8,\"lines\"),\n",
    "   legend.title = element_text(size = 16, face = \"bold\"),\n",
    "   legend.text = element_text(size = 14)\n",
    "   ) +\n",
    "\n",
    "labs(colour = \"Offense\", size = \"Offense\")"
   ]
  },
  {
   "cell_type": "code",
   "execution_count": null,
   "metadata": {},
   "outputs": [],
   "source": [
    "# doing it with qmplot is even easier - let's use a toner friendly map \n",
    "qmplot(lon, lat, data = violent_crimes, maptype = \"toner-lite\", color = offense, alpha = 0.8, size = offense, legend = \"topleft\")\n"
   ]
  },
  {
   "cell_type": "code",
   "execution_count": null,
   "metadata": {},
   "outputs": [],
   "source": [
    "# Let's do a contour plot\n",
    "HoustonMap +\n",
    "\n",
    "stat_density2d(aes(x = lon, y = lat, colour = offense),\n",
    "               \n",
    "size = 3, bins = 2, alpha = 3/4, data = violent_crimes) +\n",
    "\n",
    "scale_colour_discrete(\"Offense\", labels = c(\"Robery\",\"Aggravated Assault\",\"Rape\",\"Murder\")) +\n",
    "\n",
    "theme(\n",
    "   legend.text = element_text(size = 15, vjust = .5),\n",
    "   legend.title = element_text(size = 15,face=\"bold\"),\n",
    "   legend.key.size = grid::unit(1.8,\"lines\")\n",
    ")\n"
   ]
  },
  {
   "cell_type": "code",
   "execution_count": null,
   "metadata": {},
   "outputs": [],
   "source": [
    "# and a 2d histogram:\n",
    "\n",
    "HoustonMap +\n",
    "\n",
    "stat_bin2d(aes(x = lon, y = lat, colour = offense, fill = offense), size = .5, bins = 30, alpha = 0.4, data = violent_crimes) +\n",
    "\n",
    "scale_colour_discrete(\"Offense\",labels = c(\"Robery\",\"Aggravated Assault\",\"Rape\",\"Murder\"),guide = FALSE) +\n",
    "\n",
    "scale_fill_discrete(\"Offense\", labels = c(\"Robery\",\"Aggravated Assault\",\"Rape\",\"Murder\")) +\n",
    "\n",
    "theme(\n",
    "   legend.text = element_text(size = 15, vjust = .5),\n",
    "   legend.title = element_text(size = 15,face=\"bold\"),\n",
    "   legend.key.size = grid::unit(1.8,\"lines\")\n",
    ")"
   ]
  },
  {
   "cell_type": "markdown",
   "metadata": {},
   "source": [
    "**You may notice all the messages produced by different map servers get_map() is getting data from. To suppress them, you can use the suppressMessages() function.** \n",
    "\n",
    "### Let's do a crime density visualization."
   ]
  },
  {
   "cell_type": "code",
   "execution_count": null,
   "metadata": {},
   "outputs": [],
   "source": [
    "# Let's get a color map and do a density plot with stat_density2d\n",
    "\n",
    "houston <- suppressMessages(get_map(\"houston\", zoom = 14))\n",
    "\n",
    "HoustonMap <- ggmap(houston, extent = \"device\", legend = \"topleft\", darken = c(.5,\"white\")) # this whitens the map "
   ]
  },
  {
   "cell_type": "code",
   "execution_count": null,
   "metadata": {},
   "outputs": [],
   "source": [
    "HoustonMap +\n",
    "\n",
    "stat_density2d(aes(x = lon, y = lat, fill = ..level.., alpha = ..level..),size = 2, bins = 4, data = violent_crimes, geom = \"polygon\") +\n",
    "\n",
    "scale_fill_gradient(\"Violent\\nCrime\\nDensity\",low = \"green\", high = \"red\") + \n",
    "\n",
    "scale_alpha(range = c(0.4, 0.7), guide = FALSE) +\n",
    "\n",
    "guides(fill = guide_colorbar(barwidth = 1.5, barheight = 10))\n"
   ]
  },
  {
   "cell_type": "code",
   "execution_count": null,
   "metadata": {},
   "outputs": [],
   "source": [
    "# Let's do a finer plot with 16 bins and add boundaries, too\n",
    "\n",
    "HoustonMap +\n",
    "\n",
    "geom_density2d(data = violent_crimes, aes(x = lon, y = lat), size = 0.3) + \n",
    "\n",
    "stat_density2d(data = violent_crimes, aes(x = lon, y = lat, fill = ..level.., alpha = ..level..), size = 0.01, bins = 16, geom = \"polygon\") + \n",
    "\n",
    "scale_fill_gradient(\"Violent\\nCrime\\nDensity\",low = \"green\", high = \"red\") + \n",
    "\n",
    "scale_alpha(range = c(0.1, 0.4), guide = FALSE)\n"
   ]
  },
  {
   "cell_type": "markdown",
   "metadata": {},
   "source": [
    "RgoogleMaps library also has its own functions to visualize maps and data. "
   ]
  },
  {
   "cell_type": "code",
   "execution_count": null,
   "metadata": {},
   "outputs": [],
   "source": [
    "# This is how to obtain a map image using RgoogleMaps library \n",
    "library(RgoogleMaps)\n",
    "# Jesse Hall coordinates\n",
    "lat = c(38.945092);\n",
    "lon = c(-92.328806);\n",
    "center = c(mean(lat), mean(lon));\n",
    "\n",
    "Map <- GetMap(center=center, zoom=14); # You can also download from free map resources.\n",
    "\n",
    "PlotOnStaticMap(Map, lat = lat, lon = lon, cex=1.5,pch=20, col=c('red'), add=FALSE);\n"
   ]
  },
  {
   "cell_type": "markdown",
   "metadata": {},
   "source": [
    "**This is an example of how to find the center and zoom factor from the coordinates and get those tiles from server, and how to add Google-style markers to the map.** \n"
   ]
  },
  {
   "cell_type": "code",
   "execution_count": null,
   "metadata": {},
   "outputs": [],
   "source": [
    "# some coordinates \n",
    "lat = c(40.702147, 40.711614, 40.718217);\n",
    "lon = c(-74.015794, -74.012318, -73.998284);\n",
    "\n",
    "# computer center and zoom\n",
    "center = c(mean(lat), mean(lon));\n",
    "zoom <- min(MaxZoom(range(lat), range(lon)));\n",
    "\n",
    "# get the map \n",
    "MyMap <- GetMap(center=center, zoom=zoom, markers = paste0(\"&markers=color:blue|label:S|\",\n",
    "           \"40.702147,-74.015794&markers=color:green|label:G|40.711614,-74.012318&markers=\",\n",
    "           \"color:red|color:red|label:C|40.718217,-73.998284\"), destfile = \"MyTile1.png\"); \n",
    "\n",
    "\n",
    "PlotOnStaticMap(MyMap, lat = lat, \n",
    "                       lon = lon, \n",
    "                       destfile = \"MyTile1.png\", cex=1.5,pch=20,\n",
    "                       col=c('red', 'blue', 'green'), add=FALSE);\n",
    "\n",
    "#and add lines:\n",
    "PlotOnStaticMap(MyMap, lat = c(40.702147,40.711614,40.718217), \n",
    "                       lon = c(-74.015794,-74.012318,-73.998284), \n",
    "                       lwd=1.5,col=c('red', 'blue', 'green'), FUN = lines, add=TRUE)\n"
   ]
  },
  {
   "cell_type": "markdown",
   "metadata": {},
   "source": [
    "`NYleukemia` data set comes with the RgoogleMaps library. **Let's visualize the locations of cases using RgoogleMaps functions.**"
   ]
  },
  {
   "cell_type": "code",
   "execution_count": null,
   "metadata": {},
   "outputs": [],
   "source": [
    "# This data set comes with the RgoogleMaps library \n",
    "data(\"NYleukemia\")\n",
    "\n",
    "head(NYleukemia$data)\n",
    "population <- NYleukemia$data$population\n",
    "cases <- NYleukemia$data$cases\n",
    "\n",
    "geo <- NYleukemia$geo\n",
    "head(geo)\n",
    "lats <-geo$y\n",
    "lons <-geo$x\n",
    "\n",
    "mapNY <- GetMap(center=c(lat=42.67456,lon=-76.00365), destfile = \"NYstate.png\", maptype = \"street\", zoom=9); \n",
    "PlotOnStaticMap(mapNY, lat = lats, lon = lons, cex=2, pch=20, col=\"red\", add=FALSE);"
   ]
  },
  {
   "cell_type": "markdown",
   "metadata": {},
   "source": [
    "---\n",
    "\n",
    "## Let's do it properly in ggplot:\n",
    "\n",
    "ggplot can produce maps with more **concise syntax** as we have seen before. "
   ]
  },
  {
   "cell_type": "code",
   "execution_count": null,
   "metadata": {},
   "outputs": [],
   "source": [
    "# get the map \n",
    "NY <- suppressMessages(get_map(\"homer, new york\", zoom = 9))\n",
    "\n",
    "NYmap <- ggmap(NY, extent = \"device\", legend = \"topleft\", darken = c(.5,\"white\"))\n",
    "\n",
    "# create a data frame \n",
    "NYdf <- data.frame(population, cases, lats, lons)\n",
    "head(NYdf)"
   ]
  },
  {
   "cell_type": "markdown",
   "metadata": {},
   "source": [
    "### Now, map data attributes to visual channels and pick color palette:"
   ]
  },
  {
   "cell_type": "code",
   "execution_count": null,
   "metadata": {},
   "outputs": [],
   "source": [
    "\n",
    "NYmap + \n",
    "\n",
    "geom_point(data=NYdf, aes(x = lons, y = lats, color = cases, size = cases), alpha=0.7) + \n",
    "\n",
    "scale_color_gradient(low = \"yellow\", high = \"red\") + \n",
    "\n",
    "scale_alpha(range = c(0.1, 0.4), guide = FALSE)"
   ]
  },
  {
   "cell_type": "code",
   "execution_count": null,
   "metadata": {},
   "outputs": [],
   "source": []
  }
 ],
 "metadata": {
  "kernelspec": {
   "display_name": "R",
   "language": "R",
   "name": "ir"
  },
  "language_info": {
   "codemirror_mode": "r",
   "file_extension": ".r",
   "mimetype": "text/x-r-source",
   "name": "R",
   "pygments_lexer": "r",
   "version": "3.5.1"
  }
 },
 "nbformat": 4,
 "nbformat_minor": 2
}
