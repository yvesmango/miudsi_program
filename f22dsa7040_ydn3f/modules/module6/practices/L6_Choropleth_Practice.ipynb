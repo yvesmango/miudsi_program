{
 "cells": [
  {
   "cell_type": "markdown",
   "metadata": {},
   "source": [
    "## Module 6 Practice - Choropleth Maps\n",
    "\n",
    "\n",
    "In this notebook, we will see examples of **choropleth maps** using ggplot.\n",
    "\n",
    "Maps are represented by very **detailed polygons in vector form** as we have seen in the [L6 Projections Practice](L6_Projections_Practice.ipynb). \n",
    "\n",
    "\n",
    "First, let's start with simple polygons and see how to define and draw them. \n",
    "\n",
    "To color polygons, we usually need **two data frames**: \n",
    "\n",
    " - one contains the **coordinates** of each polygon (positions),  \n",
    " \n",
    " - and the other one contains the **values** associated with each polygon (values).  \n",
    " \n",
    "A **common variable** (id) links the two together. \n"
   ]
  },
  {
   "cell_type": "code",
   "execution_count": null,
   "metadata": {},
   "outputs": [],
   "source": [
    "library(ggplot2)\n",
    "library(maps)\n",
    "library(ggmap)\n",
    "library(mapproj)"
   ]
  },
  {
   "cell_type": "code",
   "execution_count": null,
   "metadata": {},
   "outputs": [],
   "source": [
    "# Some made up IDs; these connect values to polygons\n",
    "ids <- factor(c(\"1.1\", \"2.1\", \"1.2\", \"2.2\", \"1.3\", \"2.3\"))\n",
    "\n",
    "# Some made up values: the colors will represent these values \n",
    "values <- data.frame(some_column = ids, value = c(3, 3.1, 3.1, 3.2, 3.15, 3.5))\n",
    "\n",
    "# coordinates of some polygons\n",
    "positions <- data.frame(id = rep(ids, each = 4),\n",
    "  x = c(2, 1, 1.1, 2.2, 1, 0, 0.3, 1.1, 2.2, 1.1, 1.2, 2.5, 1.1, 0.3,\n",
    "  0.5, 1.2, 2.5, 1.2, 1.3, 2.7, 1.2, 0.5, 0.6, 1.3),\n",
    "  y = c(-0.5, 0, 1, 0.5, 0, 0.5, 1.5, 1, 0.5, 1, 2.1, 1.7, 1, 1.5,\n",
    "  2.2, 2.1, 1.7, 2.1, 3.2, 2.8, 2.1, 2.2, 3.3, 3.2))\n",
    "\n",
    "head(values)\n",
    "head(positions)"
   ]
  },
  {
   "cell_type": "markdown",
   "metadata": {},
   "source": [
    "**Let's draw and color them:** `map_id` is what associates the two data frames. `geom_map` expects to have either (long,lat,group) or (x,y,id) variable names in the map data. Here, we have the latter. "
   ]
  },
  {
   "cell_type": "code",
   "execution_count": null,
   "metadata": {},
   "outputs": [],
   "source": [
    "ggplot(data=values, aes(fill=value)) +\n",
    "\n",
    "geom_map(map=positions, aes(map_id=some_column)) +\n",
    "\n",
    "expand_limits(positions)\n"
   ]
  },
  {
   "cell_type": "markdown",
   "metadata": {},
   "source": [
    "We associated the map and the values by telling `geom_map` the column `some_column` in the data frame is same as the `id` (or `region`) column in the map data frame. \n",
    "\n",
    "---\n",
    "\n",
    "**Now, let's do the same for US map to visualize the crime data set.** \n",
    "\n",
    "**Important:** We will use state name as the **common variable** so they have to match to the state names in the map data."
   ]
  },
  {
   "cell_type": "code",
   "execution_count": null,
   "metadata": {},
   "outputs": [],
   "source": [
    "head(USArrests)"
   ]
  },
  {
   "cell_type": "markdown",
   "metadata": {},
   "source": [
    "First create **lowercase state names**, because these will be the \"IDs\" that will connect \n",
    "the crimes data to the map data. \n",
    "\n",
    "\n",
    "Since map data also contains lowercase state names and their polygon coordinates, **we will use the lowercase state name as the common ID.** "
   ]
  },
  {
   "cell_type": "code",
   "execution_count": null,
   "metadata": {},
   "outputs": [],
   "source": [
    "crimes <- data.frame(state = tolower(rownames(USArrests)), USArrests)"
   ]
  },
  {
   "cell_type": "code",
   "execution_count": null,
   "metadata": {},
   "outputs": [],
   "source": [
    "# convert arrest variables in the columns to a single column to enable faceting later. \n",
    "crimesm <- reshape2::melt(crimes[,c(1,2,3,5)], id = 1)\n",
    "head(crimes)\n",
    "head(crimesm)"
   ]
  },
  {
   "cell_type": "code",
   "execution_count": null,
   "metadata": {},
   "outputs": [],
   "source": [
    "# Get the map data for US states\n",
    "states_map <- map_data(\"state\")"
   ]
  },
  {
   "cell_type": "code",
   "execution_count": null,
   "metadata": {},
   "outputs": [],
   "source": [
    "head(states_map)"
   ]
  },
  {
   "cell_type": "code",
   "execution_count": null,
   "metadata": {},
   "outputs": [],
   "source": [
    "# color will encode Murder \n",
    "gg <- ggplot(data=crimes) + \n",
    "\n",
    "# \"state\" is the common variable, associate it to \"region\" variable in the map \n",
    "geom_map(map=states_map, aes(map_id=state, fill=Murder), color=\"white\", size=0.1) +\n",
    "\n",
    "# coordinate limits of the map \n",
    "expand_limits(x=states_map$long, y=states_map$lat) + \n",
    "\n",
    "# useful map projection \n",
    "coord_map(\"polyconic\") +\n",
    "\n",
    "# remove grid and coord info \n",
    "theme_void() \n",
    "\n",
    "gg"
   ]
  },
  {
   "cell_type": "markdown",
   "metadata": {},
   "source": [
    "**Now this is a choropleth map.** \n",
    "\n",
    "\n",
    "We can also do small multiples of maps like this: "
   ]
  },
  {
   "cell_type": "code",
   "execution_count": null,
   "metadata": {},
   "outputs": [],
   "source": [
    "ggplot(data=crimesm, aes(fill=value)) +\n",
    "\n",
    "geom_map(map=states_map, aes(map_id = state), color=\"white\", size=0.1) +\n",
    "\n",
    "expand_limits(x = states_map$long, y = states_map$lat) +\n",
    "\n",
    "facet_wrap(~variable, ncol=2) + \n",
    "\n",
    "coord_map(\"polyconic\") +\n",
    "\n",
    "theme_void()"
   ]
  },
  {
   "cell_type": "markdown",
   "metadata": {},
   "source": [
    "### YOUR TURN:\n",
    "\n",
    "**Create a choropleth map for population using the crimes data set. Use `YlOrRd` palette from brewer library and make sure that DARKER colors represent LARGER population numbers.**\n",
    "\n",
    "\n",
    "(Hint: You'll have to do some digging on Internet to figure out how to use the `YlOrRd` for a continuous variable in the right order. Start by looking at `scale_fill_` functions.)"
   ]
  },
  {
   "cell_type": "code",
   "execution_count": null,
   "metadata": {},
   "outputs": [],
   "source": [
    "#< YOUR CODE HERE >\n"
   ]
  },
  {
   "cell_type": "markdown",
   "metadata": {},
   "source": [
    "---\n",
    "\n",
    "**Let's get another data set and work on it.** "
   ]
  },
  {
   "cell_type": "code",
   "execution_count": null,
   "metadata": {},
   "outputs": [],
   "source": [
    "agex <- read.csv(\"/dsa/data/all_datasets/2011_us_ag_exports.csv\")\n",
    "head(agex)"
   ]
  },
  {
   "cell_type": "code",
   "execution_count": null,
   "metadata": {},
   "outputs": [],
   "source": [
    "library(dplyr) \n",
    "# Let's create lowercase state names \n",
    "agex <- mutate(agex, state = tolower(state))\n",
    "head(agex)"
   ]
  },
  {
   "cell_type": "code",
   "execution_count": null,
   "metadata": {},
   "outputs": [],
   "source": [
    "# Let's draw and color them\n",
    "g_ex <- ggplot() +\n",
    "\n",
    " geom_map(data=agex, map=states_map, aes(fill=total.exports, map_id=state), color=\"white\", size=0.3) +\n",
    "\n",
    " expand_limits(x = states_map$long, y = states_map$lat) +\n",
    "\n",
    " coord_map(\"polyconic\") +\n",
    "\n",
    " theme_void() +\n",
    "\n",
    " ggtitle(\"US Agriculture Exports\") \n",
    "\n",
    "g_ex"
   ]
  },
  {
   "cell_type": "markdown",
   "metadata": {},
   "source": [
    "We may prefer to represent the highest number by the darkest color. So, we need to change the direction of the palette: "
   ]
  },
  {
   "cell_type": "code",
   "execution_count": null,
   "metadata": {},
   "outputs": [],
   "source": [
    "g_ex + scale_fill_continuous(trans=\"reverse\")"
   ]
  },
  {
   "cell_type": "code",
   "execution_count": null,
   "metadata": {},
   "outputs": [],
   "source": [
    "# Pick a few variables from the data set \n",
    "sub <- agex[, c(2,14,15,16,17)]\n",
    "head(sub)\n",
    "# melt them into a single variable\n",
    "subm <- reshape2::melt(sub, id = 1)\n",
    "head(subm)"
   ]
  },
  {
   "cell_type": "code",
   "execution_count": null,
   "metadata": {},
   "outputs": [],
   "source": [
    "ggplot(subm) +\n",
    "\n",
    "geom_map(map=states_map, aes(map_id=state, fill=value),  color=\"white\", size=0.1) +\n",
    "\n",
    "scale_fill_continuous(low='thistle2', high='darkblue') +\n",
    "\n",
    "facet_wrap(~variable, ncol=2) +\n",
    "\n",
    "expand_limits(x = states_map$long, y = states_map$lat) + \n",
    "coord_map(\"polyconic\") + \n",
    "theme_void() +\n",
    "#theme(legend.position=\"None\") + \n",
    "ggtitle(\"US Agriculture Exports\") \n"
   ]
  },
  {
   "cell_type": "markdown",
   "metadata": {},
   "source": [
    "**Let's compare the percentage contributions of states for each product instead of actual numbers. It might be more or less meaningful depending on the visual task.**"
   ]
  },
  {
   "cell_type": "code",
   "execution_count": null,
   "metadata": {},
   "outputs": [],
   "source": [
    "subp <- sub\n",
    "subp <-mutate(subp, corn=corn/sum(corn))\n",
    "subp <-mutate(subp, wheat=wheat/sum(wheat))\n",
    "subp <-mutate(subp, cotton=cotton/sum(cotton))\n",
    "subp <-mutate(subp, total.veggies=total.veggies/sum(total.veggies))\n",
    "subpm <- reshape2::melt(subp, id = 1)"
   ]
  },
  {
   "cell_type": "markdown",
   "metadata": {},
   "source": [
    "### YOUR TURN:  \n",
    "\n",
    "**Copy and paste the small multiples plotting code from above and run. Compare the colors of both maps.** \n",
    "\n",
    " - **Which one seems to be more truthful to the data ?**\n",
    " - What kind of scales should we use for color palettes to make it easier for comparison, but also represent the data truthfully? \n",
    " "
   ]
  },
  {
   "cell_type": "code",
   "execution_count": null,
   "metadata": {},
   "outputs": [],
   "source": [
    "#copy code here and run \n"
   ]
  },
  {
   "cell_type": "markdown",
   "metadata": {},
   "source": [
    "\n",
    "If there is a dominating value in a data set, we can apply a log or sqrt transform to our palette to better show the variation in the smaller values. "
   ]
  },
  {
   "cell_type": "code",
   "execution_count": null,
   "metadata": {},
   "outputs": [],
   "source": [
    "ggplot(subm) +\n",
    "geom_map(map=states_map, aes(map_id=state, fill=value),  color=\"white\", size=0.1) +\n",
    "expand_limits(x = states_map$long, y = states_map$lat) + \n",
    "scale_fill_continuous(low='thistle2', high='darkblue', trans=\"sqrt\") +\n",
    "coord_map(\"polyconic\") + \n",
    "facet_wrap(~variable, ncol=2) +\n",
    "theme_void() +\n",
    "#theme(legend.position=\"None\") + \n",
    "ggtitle(\"US Agriculture Exports\") "
   ]
  },
  {
   "cell_type": "markdown",
   "metadata": {},
   "source": [
    "**Is this better or truthful?**\n",
    "\n",
    "**Choosing color palettes, transforms, and limits for choropleth maps is tricky; since human visual system cannot efficiently make direct comparisons of color shades, we can easily undermine or exaggerate the representation of the values in the choropleth maps.**\n",
    "\n"
   ]
  }
 ],
 "metadata": {
  "kernelspec": {
   "display_name": "R",
   "language": "R",
   "name": "ir"
  },
  "language_info": {
   "codemirror_mode": "r",
   "file_extension": ".r",
   "mimetype": "text/x-r-source",
   "name": "R",
   "pygments_lexer": "r",
   "version": "3.5.1"
  }
 },
 "nbformat": 4,
 "nbformat_minor": 2
}
