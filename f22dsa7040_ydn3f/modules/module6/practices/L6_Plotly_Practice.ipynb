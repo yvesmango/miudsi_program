{
 "cells": [
  {
   "cell_type": "markdown",
   "metadata": {},
   "source": [
    "## Module 6 Practice - Plotly Maps\n",
    "\n",
    "\n",
    "In this notebook, we will see examples of how to display **interactive maps with Plotly**. \n",
    "\n",
    "You may have to run some cells **twice** for the Plotly object to appear. "
   ]
  },
  {
   "cell_type": "code",
   "execution_count": null,
   "metadata": {},
   "outputs": [],
   "source": [
    "library(ggplot2)\n",
    "library(plotly)\n",
    "library(dplyr)\n",
    "df <- read.csv('https://raw.githubusercontent.com/plotly/datasets/master/1962_2006_walmart_store_openings.csv')\n",
    "head(df)"
   ]
  },
  {
   "cell_type": "code",
   "execution_count": null,
   "metadata": {},
   "outputs": [],
   "source": [
    "# create common map properties\n",
    "g <- list(\n",
    "  scope = 'usa',\n",
    "  projection = list(type = 'albers usa'),\n",
    "  showlakes = TRUE,\n",
    "  lakecolor = toRGB('white'),\n",
    "  showland = TRUE,\n",
    "  showcountries = FALSE,\n",
    "  landcolor = toRGB(\"gray90\"),  \n",
    "  subunitcolor = toRGB(\"white\")\n",
    ")"
   ]
  },
  {
   "cell_type": "markdown",
   "metadata": {},
   "source": [
    "### You can zoom in, pan, and hover over this map.\n"
   ]
  },
  {
   "cell_type": "code",
   "execution_count": null,
   "metadata": {},
   "outputs": [],
   "source": [
    "p <- plot_ly(df, x = ~LON, y = ~LAT, color = I(\"blue\"), alpha = 0.5, type=\"scattergeo\", mode=\"markers\", text=paste(df$OPENDATE)) %>%     \n",
    "     layout(showlegend = FALSE, title = \"New Walmart Stores per year 1962-2006\", hovermode = TRUE, geo = g) \n",
    "p\n"
   ]
  },
  {
   "cell_type": "markdown",
   "metadata": {},
   "source": [
    "**Now, let's create small multiples for years. This time, we'll write a function that will plot each small map.** "
   ]
  },
  {
   "cell_type": "code",
   "execution_count": null,
   "metadata": {},
   "outputs": [],
   "source": [
    "# run this function for each map \n",
    "one_map <- function(dat) {\n",
    "  plot_geo(dat,width = 800,height = 700) %>%\n",
    "    add_markers(x = ~LON, y = ~LAT, color = I(\"blue\"), alpha = 0.3) %>%\n",
    "    add_text(x = -78, y = 47, text = ~unique(YEAR), color = I(\"black\")) %>%\n",
    "    layout(geo = g)\n",
    "}\n",
    "\n",
    "pp <- df %>%\n",
    "  group_by(YEAR) %>%\n",
    "  do(map = one_map(.)) %>%\n",
    "  subplot(nrows = 9) %>%\n",
    "  layout(showlegend = FALSE,title = \"New Walmart Stores per year 1962-2006\",hovermode = FALSE)\n",
    "pp"
   ]
  },
  {
   "cell_type": "markdown",
   "metadata": {},
   "source": [
    "**Let's create a choropleth map for US exports data set.** "
   ]
  },
  {
   "cell_type": "code",
   "execution_count": null,
   "metadata": {},
   "outputs": [],
   "source": [
    "df <- read.csv(\"/dsa/data/all_datasets/2011_us_ag_exports.csv\")\n",
    "\n",
    "names(df)\n",
    "\n",
    "# create the text that will appear when mouse hovers over a state. \n",
    "df$hover <- with(df, paste(state, '<br>', \"Beef\", beef, \"Dairy\", dairy, \"<br>\",\n",
    "                           \"Fruits\", total.fruits, \"Veggies\", total.veggies,\n",
    "                           \"<br>\", \"Wheat\", wheat, \"Corn\", corn))\n",
    "# give state boundaries a white border\n",
    "l <- list(color = toRGB(\"white\"), width = 2)\n",
    "# specify some map projection/options\n",
    "g <- list(\n",
    "  scope = 'usa',\n",
    "  projection = list(type = 'albers usa'),\n",
    "  showlakes = TRUE,\n",
    "  lakecolor = toRGB('white')\n",
    ")\n",
    " \n",
    "plot_ly(z = df$total.exports, text = df$hover, locations = df$code, type = 'choropleth',\n",
    "        locationmode = 'USA-states', color = df$total.exports, colors = 'Purples',\n",
    "        marker = list(line = l), colorbar = list(title = \"Millions USD\")) %>%\n",
    "  layout(title = '2011 US Agriculture Exports by State<br>(Hover for breakdown)', geo = g)"
   ]
  },
  {
   "cell_type": "markdown",
   "metadata": {},
   "source": [
    "**Even though Plotly is very useful to create interactive maps, it involves a bit of programming and is not as straightforward as ggplot.** "
   ]
  }
 ],
 "metadata": {
  "kernelspec": {
   "display_name": "R",
   "language": "R",
   "name": "ir"
  },
  "language_info": {
   "codemirror_mode": "r",
   "file_extension": ".r",
   "mimetype": "text/x-r-source",
   "name": "R",
   "pygments_lexer": "r",
   "version": "3.5.1"
  }
 },
 "nbformat": 4,
 "nbformat_minor": 1
}
