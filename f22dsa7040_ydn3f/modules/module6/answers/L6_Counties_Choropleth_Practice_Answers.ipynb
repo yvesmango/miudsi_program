{
 "cells": [
  {
   "cell_type": "markdown",
   "metadata": {},
   "source": [
    "## County Choropleth Maps\n",
    "\n",
    "Filling county data for **county level choropleth map** is a bit tricky. \n",
    "\n",
    "`geom_map()` **always** expects the **same** column names in a map data frame as we have seen (either (long,lat,region) or (x,y,id)), and **always** links the data column specified by the `map_id` aes to the `region` or `id` column in the map data frame.\n",
    "\n",
    "So, you can draw and fill states just fine as you have seen in the practice; but for counties, you have to make a change in the map data frame.\n",
    "\n",
    "**See the example below:** \n"
   ]
  },
  {
   "cell_type": "code",
   "execution_count": null,
   "metadata": {},
   "outputs": [],
   "source": [
    "library(ggplot2)\n",
    "\n",
    "# county level map data frame for south carolina\n",
    "\n",
    "sc <- map_data('county', 'south carolina')\n",
    "head(sc)"
   ]
  },
  {
   "cell_type": "markdown",
   "metadata": {},
   "source": [
    "\n",
    "\n",
    "Let's create some made-up data frame to have some values linked to the county data.\n",
    "\n",
    "**We need to make sure that the county names are NOT categories but strings so that they can verbatimly match the county names in the map data frame.** \n"
   ]
  },
  {
   "cell_type": "code",
   "execution_count": null,
   "metadata": {},
   "outputs": [],
   "source": [
    "dsf <- data.frame(county=as.character(unique(sc$subregion)), pop = seq(1,46),  stringsAsFactors = FALSE)\n",
    "head(dsf)\n",
    "str(dsf)"
   ]
  },
  {
   "cell_type": "markdown",
   "metadata": {},
   "source": [
    "**Here is the trick:** geom_map ALWAYS links to the `region` column; so we can do the following to create a region column with county names:"
   ]
  },
  {
   "cell_type": "code",
   "execution_count": null,
   "metadata": {},
   "outputs": [],
   "source": [
    "sc$region = sc$subregion\n",
    "head(sc)"
   ]
  },
  {
   "cell_type": "markdown",
   "metadata": {},
   "source": [
    "Now, the `region` column contains counties; we can link our data to counties."
   ]
  },
  {
   "cell_type": "code",
   "execution_count": null,
   "metadata": {},
   "outputs": [],
   "source": [
    "# use dsf as the data frame and fill the regions with pop\n",
    "ggplot(data=dsf, aes(fill=pop)) + \n",
    "\n",
    "# link \"county\" column in dsf to \"region\" column in sc \n",
    "geom_map(map=sc, aes(map_id=county), color=\"white\", size=0.1) +  \n",
    "\n",
    "# you should have this for the map to appear correctly\n",
    "expand_limits(x = sc$long, y = sc$lat) + \n",
    "\n",
    "coord_map(\"polyconic\") +\n",
    "theme_void()"
   ]
  },
  {
   "cell_type": "markdown",
   "metadata": {},
   "source": [
    "### Let's see how to draw just the boundaries\n",
    "\n"
   ]
  },
  {
   "cell_type": "code",
   "execution_count": null,
   "metadata": {},
   "outputs": [],
   "source": [
    "# get the ORIGINAL map data frame again \n",
    "\n",
    "sc2 <- map_data('county', 'south carolina')\n",
    "head(sc2)"
   ]
  },
  {
   "cell_type": "code",
   "execution_count": null,
   "metadata": {},
   "outputs": [],
   "source": [
    "ggplot() + \n",
    "# use sc2 as BOTH data frame and map \n",
    "\n",
    "geom_map(data=sc2, map=sc2, aes(map_id=region), fill=NA, color=\"black\") + \n",
    "\n",
    "expand_limits(x=sc2$long, y=sc2$lat) +\n",
    "coord_map(\"polyconic\") + \n",
    "theme_void()"
   ]
  },
  {
   "cell_type": "markdown",
   "metadata": {},
   "source": [
    "**So why did it work?** \n",
    "\n",
    "We did not assign `subregion` to `region` in `sc2`, and it still worked, because we are **not** filling regions with a data frame attribute. We use the map data frame **both** as map and data to draw just the boundaries, so we don't need to link the county names to anything. \n",
    "\n",
    "\n",
    "**This example does both as two layers:**\n"
   ]
  },
  {
   "cell_type": "code",
   "execution_count": null,
   "metadata": {},
   "outputs": [],
   "source": [
    "ggplot() + \n",
    "\n",
    "# use dsf as data frame and fill the \"region\"s with pop\n",
    "geom_map(data=dsf, map=sc, aes(map_id=county, fill=pop)) +  # draw \"region\" and link \"county\" in dsf to \"region\" in sc map \n",
    "\n",
    "geom_map(data=sc, map=sc, aes(map_id=region), fill=NA, color=\"lightblue\") + # link \"region\" in sc data to \"region\" in sc map \n",
    "\n",
    "expand_limits(x = sc$long, y = sc$lat) + # you should ALWAYS have this for the map to appear correctly. \n",
    "\n",
    "coord_map(\"polyconic\") +\n",
    "\n",
    "theme_void()"
   ]
  },
  {
   "cell_type": "markdown",
   "metadata": {},
   "source": [
    "Of course, you could have the same visual result with one geom_map, too, but the example above shows how you can manipulate map data frames as separate layers if you want. \n",
    "\n",
    "**The following has the same visual output as above:** "
   ]
  },
  {
   "cell_type": "code",
   "execution_count": null,
   "metadata": {},
   "outputs": [],
   "source": [
    "ggplot() +\n",
    "\n",
    "geom_map(data=dsf, map=sc, aes(map_id=county, fill=pop), color=\"lightblue\") +  # draw \"region\" and link \"county\" in dsf to \"region\" in sc map\n",
    "\n",
    "expand_limits(x = sc$long, y = sc$lat) + # you should ALWAYS have this for the map to appear correctly.\n",
    "\n",
    "coord_map(\"polyconic\") +\n",
    "\n",
    "theme_void()"
   ]
  },
  {
   "cell_type": "markdown",
   "metadata": {},
   "source": [
    "---\n",
    "\n",
    "We can also add text labels on the map. Below, we compute the mean coordinates for each county to create a data frame that contains county names and (long,lat) pairs that approximately represent the centers of counties. Then we can use `geom_text` or `geom_text_repel` to add names on the map.  "
   ]
  },
  {
   "cell_type": "code",
   "execution_count": null,
   "metadata": {},
   "outputs": [],
   "source": [
    "library(dplyr)\n",
    "name_data <- sc %>%\n",
    "  group_by(region) %>%\n",
    "  summarise(long = mean(long), lat = mean(lat))\n",
    "\n",
    "head(name_data)"
   ]
  },
  {
   "cell_type": "code",
   "execution_count": null,
   "metadata": {},
   "outputs": [],
   "source": [
    "library(ggrepel)\n",
    "\n",
    "ggplot() + \n",
    "\n",
    "geom_map(data=dsf, map=sc, aes(map_id=county, fill=pop), color=\"white\", size=0.1, alpha=0.5) +  \n",
    "\n",
    "geom_text_repel(data=name_data, aes(x=long, y=lat, label=region)) + \n",
    "\n",
    "expand_limits(x = sc$long, y = sc$lat) + \n",
    "coord_map(\"polyconic\") +\n",
    "theme_void()"
   ]
  },
  {
   "cell_type": "markdown",
   "metadata": {},
   "source": [
    "---\n",
    "\n",
    "We can overlay this choropleth map on top of other layers like in the following example. \n",
    "\n",
    "\n",
    "You'll remember part of this code from practices:"
   ]
  },
  {
   "cell_type": "code",
   "execution_count": null,
   "metadata": {},
   "outputs": [],
   "source": [
    "state <- map_data(\"state\")\n",
    "county <- map_data(\"county\")\n",
    "usa <- map_data(\"usa\")\n",
    "\n",
    "gg <- ggplot() + \n",
    " geom_map(data=county, map=county, aes(map_id=region), color=\"grey\", fill=NA, size=0.1) +\n",
    " geom_map(data=state, map=state, aes(map_id=region), color=\"red\", fill=NA, size=0.3) +\n",
    " geom_map(data=usa, map=usa, aes(map_id=region), color=\"blue\", fill=NA, size=1) +\n",
    "\n",
    " geom_map(data=dsf, map=sc, aes(map_id=county, fill=pop), color=\"lightblue\", size=0.1) + \n",
    " \n",
    " coord_map(\"albers\", lat0=30, lat1=40) + \n",
    " expand_limits(x = usa$long, y = usa$lat) +\n",
    " theme_void()\n",
    "gg"
   ]
  },
  {
   "cell_type": "markdown",
   "metadata": {},
   "source": [
    "**We can change the limits to focus on the South Carolina.** \n",
    "\n",
    "Also, look how the **order** of geom_maps dictate the drawing order of layers. "
   ]
  },
  {
   "cell_type": "code",
   "execution_count": null,
   "metadata": {},
   "outputs": [],
   "source": [
    "state <- map_data(\"state\")\n",
    "county <- map_data(\"county\")\n",
    "usa <- map_data(\"usa\")\n",
    "\n",
    "gg <- ggplot() + \n",
    " geom_map(data=county, map=county, aes(map_id=region), color=\"grey\", fill=NA, size=0.1) +\n",
    " geom_map(data=state, map=state, aes(map_id=region), color=\"red\", fill=NA, size=0.3) +\n",
    "\n",
    " geom_map(data=dsf, map=sc, aes(map_id=county, fill=pop), color=\"lightblue\", size=0.1) + \n",
    "\n",
    " geom_map(data=usa, map=usa, aes(map_id=region), color=\"blue\", fill=NA, size=1) +\n",
    " \n",
    " coord_map(\"albers\", lat0=30, lat1=40) + \n",
    " expand_limits(x = sc$long, y = sc$lat) + \n",
    " theme_void()\n",
    "gg"
   ]
  },
  {
   "cell_type": "markdown",
   "metadata": {},
   "source": [
    "## YOUR TURN: \n",
    "**Repeat the same visualization from the cell above for Missouri.** \n",
    "\n",
    "Make sure to **expand** the limits of the map to show **the neighbor states in their entirety** (for example, entire state of Kansas should be visible, etc.).  \n",
    "\n",
    "You can make up the data frame for fill values. \n",
    "\n",
    "(Hint: use latlong.net to find coordinates for xlim() and ylim().) "
   ]
  },
  {
   "cell_type": "code",
   "execution_count": null,
   "metadata": {},
   "outputs": [],
   "source": [
    "mo <- map_data('county', 'missouri')\n",
    "\n",
    "# make up some data for pop\n",
    "dsf <- data.frame(county=as.character(unique(mo$subregion)), pop = seq(1,115),  stringsAsFactors = FALSE)\n",
    "head(dsf)\n",
    "str(dsf)\n",
    "\n",
    "# do the trick so that region column in the map data has county names \n",
    "mo$region = mo$subregion"
   ]
  },
  {
   "cell_type": "code",
   "execution_count": null,
   "metadata": {},
   "outputs": [],
   "source": [
    "gg <- ggplot() + \n",
    "\n",
    " geom_map(data=county, map=county, aes(map_id=region), color=\"grey\", fill=NA, size=0.1) +\n",
    " geom_map(data=state, map=state, aes(map_id=region), color=\"red\", fill=NA, size=0.3) +\n",
    "\n",
    " geom_map(map=mo, data=dsf, aes(map_id=county, fill=pop), color=\"lightblue\", size=0.1) + \n",
    "\n",
    " geom_map(data=usa, map=usa, aes(map_id=region), color=\"blue\", fill=NA, size=1) +\n",
    "\n",
    " \n",
    " coord_map(\"albers\", lat0=30, lat1=40) +\n",
    "\n",
    " # these are the coordinates you can find from latlong.net to make sure neighbor states are contained in the map \n",
    " ylim(c(33, 44)) + xlim(c(-102, -82)) + \n",
    " theme_void()\n",
    "gg"
   ]
  }
 ],
 "metadata": {
  "kernelspec": {
   "display_name": "R",
   "language": "R",
   "name": "ir"
  },
  "language_info": {
   "codemirror_mode": "r",
   "file_extension": ".r",
   "mimetype": "text/x-r-source",
   "name": "R",
   "pygments_lexer": "r",
   "version": "3.5.1"
  }
 },
 "nbformat": 4,
 "nbformat_minor": 2
}
