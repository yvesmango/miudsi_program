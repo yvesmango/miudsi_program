{
 "cells": [
  {
   "cell_type": "markdown",
   "metadata": {},
   "source": [
    "# Module 5 Bubble Practice in Python with `plotnine`\n",
    "\n",
    "In this notebook, you'll see the `plotnine` equivalents of the bubble practice. "
   ]
  },
  {
   "cell_type": "code",
   "execution_count": null,
   "metadata": {},
   "outputs": [],
   "source": [
    "from plotnine import *\n",
    "import pandas as pd"
   ]
  },
  {
   "cell_type": "code",
   "execution_count": null,
   "metadata": {},
   "outputs": [],
   "source": [
    "crime=pd.read_csv(\"/dsa/data/all_datasets/crime.csv\")\n",
    "crime.head()"
   ]
  },
  {
   "cell_type": "code",
   "execution_count": null,
   "metadata": {},
   "outputs": [],
   "source": [
    "crime.columns = crime.columns.str.strip()\n",
    "crime.columns"
   ]
  },
  {
   "cell_type": "code",
   "execution_count": null,
   "metadata": {},
   "outputs": [],
   "source": [
    "p = ggplot(crime, aes(x=\"murder\", y=\"burglary\", size=\"population\")) + geom_point(colour=\"red\", alpha = 0.5)\n",
    "p = p + scale_size(range=[1,20]) \n",
    "p"
   ]
  },
  {
   "cell_type": "code",
   "execution_count": null,
   "metadata": {},
   "outputs": [],
   "source": [
    "p = ggplot(crime, aes(x=\"murder\", y=\"burglary\", size=\"population\")) + geom_point(colour=\"red\", alpha = 0.5)\n",
    "p = p + scale_size(range=[1,20]) + geom_text( aes(label=\"state\"), size=6) + xlab(\"Murder Rate\") + ylab(\"Burglary Rate\")\n",
    "p + ylim(200, 1400) + xlim(0,11)"
   ]
  },
  {
   "cell_type": "code",
   "execution_count": null,
   "metadata": {},
   "outputs": [],
   "source": [
    "p = ggplot(crime, aes(x=\"murder\", y=\"burglary\", size=\"population\")) \n",
    "p = p + geom_point(aes(colour=\"motor_vehicle_theft\"), alpha = 0.5)\n",
    "p = p + scale_size(range=[1,20]) + geom_text( aes(label=\"state\"), size=5) + xlab(\"Murder Rate\") + ylab(\"Burglary Rate\")\n",
    "p + ylim(200, 1400) + xlim(0,11) + scale_colour_continuous(low=\"yellow\", high=\"purple\")"
   ]
  },
  {
   "cell_type": "code",
   "execution_count": null,
   "metadata": {},
   "outputs": [],
   "source": []
  }
 ],
 "metadata": {
  "kernelspec": {
   "display_name": "Python 3",
   "language": "python",
   "name": "python3"
  },
  "language_info": {
   "codemirror_mode": {
    "name": "ipython",
    "version": 3
   },
   "file_extension": ".py",
   "mimetype": "text/x-python",
   "name": "python",
   "nbconvert_exporter": "python",
   "pygments_lexer": "ipython3",
   "version": "3.7.3"
  }
 },
 "nbformat": 4,
 "nbformat_minor": 2
}
