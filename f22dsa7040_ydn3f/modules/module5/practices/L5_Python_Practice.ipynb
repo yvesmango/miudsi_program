{
 "cells": [
  {
   "cell_type": "markdown",
   "metadata": {},
   "source": [
    "## Module 5 Python Practice\n",
    "\n",
    "\n",
    "This notebook will reproduce some of the plots created in [L5_Pyramid_Practice](L5_Pyramid_Practice.ipynb) and [L5_Bubble_Practice](L5_Bubble_Practice.ipynb) practice notebooks in Python **without** using the `plotnine` library. \n",
    "\n",
    "For the use of `plotnine` in Python for bubble and pyramid charts, refer to the [L5_Bubble_Practice_plotnine](L5_Bubble_Practice_plotnine.ipynb) and [L5_Pyramid_Practice_plotnine](L5_Pyramid_Practice_plotnine.ipynb) notebooks. \n",
    "\n",
    "Here, we will use Python's matplotlib library and plotly for replicating bubble charts and population pyramids."
   ]
  },
  {
   "cell_type": "code",
   "execution_count": null,
   "metadata": {},
   "outputs": [],
   "source": [
    "import pandas as pd\n",
    "crime = pd.read_csv(\"/dsa/data/all_datasets/crime.csv\")\n",
    "\n",
    "crime.head()"
   ]
  },
  {
   "cell_type": "code",
   "execution_count": null,
   "metadata": {},
   "outputs": [],
   "source": [
    "list(crime)"
   ]
  },
  {
   "cell_type": "markdown",
   "metadata": {},
   "source": [
    "The column names have a space in front of them. remove the spaces or update the column names before trying to access them. "
   ]
  },
  {
   "cell_type": "code",
   "execution_count": null,
   "metadata": {},
   "outputs": [],
   "source": [
    "crime.rename(index=str, columns={\" murder\": \"murder\", \" Forcible_rate\": \"Forcible_rate\", \" Robbery\":\"Robbery\", \\\n",
    "                                \" aggravated_assult\":\"aggravated_assult\", \" burglary\":\"burglary\", \\\n",
    "                                 \" larceny_theft\":\"larceny_theft\", \" motor_vehicle_theft\":\"motor_vehicle_theft\", \\\n",
    "                                \" population\":\"population\"}, inplace=True)"
   ]
  },
  {
   "cell_type": "code",
   "execution_count": null,
   "metadata": {},
   "outputs": [],
   "source": [
    "list(crime)"
   ]
  },
  {
   "cell_type": "code",
   "execution_count": null,
   "metadata": {},
   "outputs": [],
   "source": [
    "import numpy as np\n",
    "import matplotlib.pyplot as plt\n",
    "\n",
    "# facecolor is just the background color of the plot and figsize controls the size of the plot\n",
    "fig, ax = plt.subplots(facecolor='w', figsize=(14, 10))\n",
    "\n",
    "# the bubbles on the plot are plotted based on population of each datapoint. Since the population numbers are huge, \n",
    "# radius variable has smaller numbers.  \n",
    "radius = np.sqrt(crime[\"population\"].astype(float)/np.pi)\n",
    "\n",
    "# Each iteration will give the row index value and the row in dataframe. \n",
    "# Draw the point on the plot and annonate it with state name\n",
    "for key, row in crime.iterrows():\n",
    "    ax.scatter(row['murder'], row['burglary'], s=radius[key], alpha=.5)\n",
    "    ax.annotate(row['state'], xy=(row['murder'], row['burglary']))\n",
    "plt.show()    "
   ]
  },
  {
   "cell_type": "markdown",
   "metadata": {},
   "source": [
    "### Let's create the above plot in plotly"
   ]
  },
  {
   "cell_type": "code",
   "execution_count": null,
   "metadata": {},
   "outputs": [],
   "source": [
    "import pandas as pd\n",
    "import numpy as np\n",
    "\n",
    "# Plotly in Python \n",
    "from plotly.offline import download_plotlyjs, init_notebook_mode, plot, iplot\n",
    "import plotly.graph_objs as go\n",
    "\n",
    "init_notebook_mode(connected=True)"
   ]
  },
  {
   "cell_type": "code",
   "execution_count": null,
   "metadata": {},
   "outputs": [],
   "source": [
    "# The reduced values in radius variable are still big for plotly plot. new_radius has normalized values that can fit \n",
    "# in the plot. \n",
    "new_radius = radius/50"
   ]
  },
  {
   "cell_type": "markdown",
   "metadata": {},
   "source": [
    "(**[text and annotations](https://plot.ly/python/text-and-annotations/#custom-text-color-and-styling) : this link has many options you can play with while drawing a bubble chart.**)\n",
    "\n",
    "The plot has murder on x-axis and burglary on y-axis. The value of mode \"markers+text\" is drawing the bubbles which are markers, and text is displaying text on these markers. state is given to text argument which is displayed on bubbles. market attribute is used to customize the size and color of bubbles."
   ]
  },
  {
   "cell_type": "code",
   "execution_count": null,
   "metadata": {
    "scrolled": false
   },
   "outputs": [],
   "source": [
    "\n",
    "\n",
    "trace = go.Scatter(\n",
    "    x=crime['murder'],\n",
    "    y=crime['burglary'],\n",
    "    mode='markers+text',\n",
    "    text=crime['state'],\n",
    "    textfont=dict(\n",
    "        color='#337711',\n",
    "        size=10\n",
    "    ),\n",
    "        marker = dict(\n",
    "        size=new_radius,\n",
    "        color = crime.aggravated_assult,\n",
    "        colorscale='Viridis',\n",
    "        showscale=True\n",
    "    )\n",
    ")\n",
    "data = [trace]\n",
    "iplot(data)"
   ]
  },
  {
   "cell_type": "markdown",
   "metadata": {},
   "source": [
    "Here's the [pandas documentation](https://pandas.pydata.org/pandas-docs/stable/user_guide/visualization.html#visualization-scatter) for pandas style of creating scatter plots and bubble plots. "
   ]
  },
  {
   "cell_type": "code",
   "execution_count": null,
   "metadata": {},
   "outputs": [],
   "source": [
    "from plotnine.data import diamonds\n",
    "import matplotlib\n",
    "\n",
    "matplotlib.style.use('ggplot')       # Use ggplot style plots*"
   ]
  },
  {
   "cell_type": "code",
   "execution_count": null,
   "metadata": {},
   "outputs": [],
   "source": [
    "diamonds.head()"
   ]
  },
  {
   "cell_type": "markdown",
   "metadata": {},
   "source": [
    "### Stacked Bar Chart\n",
    "\n",
    "Let's try to reproduce the stacked bar chart created in [L5_Pyramid_Practice](L5_Pyramid_Practice.ipynb).\n",
    "\n",
    "In the R version of ggplot, you can tell the plot to create stacks of bars based on y-axis. You can't do that in plotly. \n",
    "\n",
    "R ggplot syntax: \n",
    "\n",
    "```R\n",
    "ggplot(data = diamonds) + geom_bar(mapping = aes(x = cut, fill = clarity))\n",
    "```\n",
    "\n",
    "The fill parameter is filling the bars based on frequency distribution of values. But, plotly takes separate input data for y-axis to create stacks of bars. Run the cell below to see how it is done as an example. "
   ]
  },
  {
   "cell_type": "code",
   "execution_count": null,
   "metadata": {},
   "outputs": [],
   "source": [
    "trace1 = go.Bar(\n",
    "    x=['giraffes', 'orangutans', 'monkeys'],\n",
    "    y=[20, 14, 23],\n",
    "    name='SF Zoo'\n",
    ")\n",
    "trace2 = go.Bar(\n",
    "    x=['giraffes', 'orangutans', 'monkeys'],\n",
    "    y=[12, 18, 29],\n",
    "    name='LA Zoo'\n",
    ")\n",
    "\n",
    "data = [trace1, trace2]\n",
    "layout = go.Layout(\n",
    "    barmode='stack'\n",
    ")\n",
    "\n",
    "fig = go.Figure(data=data, layout=layout)\n",
    "iplot(fig)"
   ]
  },
  {
   "cell_type": "markdown",
   "metadata": {},
   "source": [
    "To imitate this behavior, code cell below is creating eight different traces for each category of clarity to produce the stacked bar chart."
   ]
  },
  {
   "cell_type": "code",
   "execution_count": null,
   "metadata": {},
   "outputs": [],
   "source": [
    "# number of categories in clarity is stored in counts variable. .value_counts() will give levels in a categorical \n",
    "# variable. \n",
    "\n",
    "counts = len(diamonds.clarity.value_counts())"
   ]
  },
  {
   "cell_type": "code",
   "execution_count": null,
   "metadata": {},
   "outputs": [],
   "source": [
    "# The names of different categories are saved in indexes variable. \"Pandas.Series.value_counts().index\" will give\n",
    "# names of the corresponding counrs we are getting from value_counts().\n",
    "\n",
    "indexes = diamonds.clarity.value_counts().index"
   ]
  },
  {
   "cell_type": "markdown",
   "metadata": {},
   "source": [
    "Since traces are added to data before plotting, declare data as a list variable. Add traces to data variable in the for loop. Loop is iterated for each category in clarity. A temporary dataframe is created for a category, and cut and clarity columns are assigned to x and y in trace. The trace is appended to data at the end of each iteration.  "
   ]
  },
  {
   "cell_type": "code",
   "execution_count": null,
   "metadata": {},
   "outputs": [],
   "source": [
    "data=[]\n",
    "for i in range(counts):\n",
    "    temp_data = diamonds.loc[diamonds.clarity==indexes[i]]\n",
    "    trace = go.Bar(\n",
    "        x=temp_data.cut,\n",
    "        y=temp_data.carat,\n",
    "        name=indexes[i]\n",
    "    )\n",
    "data.append(trace)"
   ]
  },
  {
   "cell_type": "code",
   "execution_count": null,
   "metadata": {
    "scrolled": false
   },
   "outputs": [],
   "source": [
    "#data = [trace1, trace2]\n",
    "layout = go.Layout(\n",
    "    barmode='stack'\n",
    ")\n",
    "\n",
    "fig = go.Figure(data=data, layout=layout)\n",
    "iplot(fig)"
   ]
  },
  {
   "cell_type": "markdown",
   "metadata": {},
   "source": [
    "### Population Pyramid"
   ]
  },
  {
   "cell_type": "code",
   "execution_count": null,
   "metadata": {},
   "outputs": [],
   "source": [
    "census = pd.read_csv(\"/dsa/data/all_datasets/census/census2010pyr.csv\")\n",
    "census.head()"
   ]
  },
  {
   "cell_type": "markdown",
   "metadata": {},
   "source": [
    "Two separate lists are needed with population values for males and females for plotting respective bar charts. The columns are extracted and converted into a list. "
   ]
  },
  {
   "cell_type": "code",
   "execution_count": null,
   "metadata": {},
   "outputs": [],
   "source": [
    "# subset are created for male and female data rows\n",
    "male=census[(census.sex == 'Male')]\n",
    "female=census[(census.sex == 'Female')]"
   ]
  },
  {
   "cell_type": "code",
   "execution_count": null,
   "metadata": {},
   "outputs": [],
   "source": [
    "import matplotlib.pyplot as plt\n",
    "import numpy as np\n",
    "\n",
    "fig = plt.figure(figsize=(15, 7))\n",
    "ax1 = fig.add_subplot(111)\n",
    "\n",
    "for (i,row) in male.iterrows():\n",
    "    [barr1, barr2] = plt.bar([i, i], [male['pop'].iloc[i], -female['pop'].iloc[i]], color=['#CC6699', '#008AB8'], width=0.8, align='center', edgecolor='none')\n",
    "    \n",
    "plt.xlim(0, 100)\n",
    "plt.ylim(0, 3e6)\n",
    "#plt.grid(False, axis='x')\n",
    "plt.xticks(np.arange(0, 100, 5), fontsize=11,rotation=45)\n",
    "plt.yticks(np.arange(-3e6, 3e6, 500000))\n",
    "plt.title(\"Population by Age and Gender\")\n",
    "plt.xlabel('Age')\n",
    "plt.ylabel('Population')\n",
    "\n",
    "plt.legend([barr1, barr2], [\"Male\", \"Female\"])"
   ]
  },
  {
   "cell_type": "code",
   "execution_count": null,
   "metadata": {},
   "outputs": [],
   "source": [
    "\n",
    "fig = plt.figure(figsize=(15, 7))\n",
    "ax1 = fig.add_subplot(111)\n",
    "\n",
    "# bars are placed SIDE BY SIDE using this [i - 0.2, i + 0.2]\n",
    "\n",
    "for (i, row) in male.iterrows():\n",
    "    [barr1, barr2] = plt.bar([i - 0.2, i + 0.2], [male['pop'].iloc[i], female['pop'].iloc[i]], color=['#CC6699', '#008AB8'], width=0.4, align='center', edgecolor='none')\n",
    "    \n",
    "plt.xlim(-1, 100)\n",
    "plt.xticks(range(0, 100, 5), fontsize=11)\n",
    "plt.grid(False, axis='x')\n",
    "plt.yticks(np.arange(0, 3e6, 5e5))\n",
    "plt.title(\"Population by Age and Gender\")\n",
    "plt.xlabel('Age')\n",
    "plt.ylabel('Population')\n",
    "\n",
    "plt.legend([barr1, barr2], [\"Male\", \"Female\"])"
   ]
  },
  {
   "cell_type": "code",
   "execution_count": null,
   "metadata": {},
   "outputs": [],
   "source": []
  }
 ],
 "metadata": {
  "kernelspec": {
   "display_name": "Python 3",
   "language": "python",
   "name": "python3"
  },
  "language_info": {
   "codemirror_mode": {
    "name": "ipython",
    "version": 3
   },
   "file_extension": ".py",
   "mimetype": "text/x-python",
   "name": "python",
   "nbconvert_exporter": "python",
   "pygments_lexer": "ipython3",
   "version": "3.7.3"
  }
 },
 "nbformat": 4,
 "nbformat_minor": 2
}
