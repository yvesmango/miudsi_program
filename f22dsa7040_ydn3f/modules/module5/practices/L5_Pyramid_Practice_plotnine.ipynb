{
 "cells": [
  {
   "cell_type": "markdown",
   "metadata": {},
   "source": [
    "# Module 5 Pyramid Practice in Python with `plotnine`\n",
    "\n",
    "In this notebook, you'll see the `plotnine` equivalents of the pyramid practice. "
   ]
  },
  {
   "cell_type": "code",
   "execution_count": null,
   "metadata": {},
   "outputs": [],
   "source": [
    "from plotnine import *\n",
    "from plotnine.data import diamonds\n",
    "import pandas as pd\n",
    "import numpy as np"
   ]
  },
  {
   "cell_type": "code",
   "execution_count": null,
   "metadata": {},
   "outputs": [],
   "source": [
    "ggplot(data=diamonds) + geom_bar(aes(x=\"cut\", fill=\"cut\"))"
   ]
  },
  {
   "cell_type": "code",
   "execution_count": null,
   "metadata": {},
   "outputs": [],
   "source": [
    "ggplot(diamonds) + geom_bar(aes(x=\"cut\", fill=\"clarity\"))"
   ]
  },
  {
   "cell_type": "code",
   "execution_count": null,
   "metadata": {},
   "outputs": [],
   "source": [
    "ggplot(diamonds) + geom_bar(aes(x=\"cut\", fill=\"clarity\"), position=\"identity\")"
   ]
  },
  {
   "cell_type": "code",
   "execution_count": null,
   "metadata": {},
   "outputs": [],
   "source": [
    "ggplot(diamonds) + geom_bar(aes(x=\"cut\", fill=\"clarity\"), position=\"stack\")"
   ]
  },
  {
   "cell_type": "code",
   "execution_count": null,
   "metadata": {},
   "outputs": [],
   "source": [
    "ggplot(diamonds) + geom_bar(aes(x=\"cut\", fill=\"clarity\"), position=\"fill\")"
   ]
  },
  {
   "cell_type": "code",
   "execution_count": null,
   "metadata": {},
   "outputs": [],
   "source": [
    "ggplot(diamonds) + geom_bar(aes(x=\"cut\", fill=\"clarity\"), position=\"dodge\")"
   ]
  },
  {
   "cell_type": "code",
   "execution_count": null,
   "metadata": {},
   "outputs": [],
   "source": [
    "ggplot(diamonds) + geom_bar(aes(x=\"cut\", fill=\"clarity\"), position=\"dodge\") + coord_flip()"
   ]
  },
  {
   "cell_type": "code",
   "execution_count": null,
   "metadata": {},
   "outputs": [],
   "source": [
    "ggplot(diamonds) + geom_bar(aes(x=\"cut\", fill=\"cut\"), position=\"dodge\")"
   ]
  },
  {
   "cell_type": "markdown",
   "metadata": {},
   "source": [
    "**Unfortunately, `coord_polar` is not implemented in `plotnine`, so we can't draw a pie chart like in ggplot2 in R, but we can use matplotlib or plotly to create pie charts.** \n"
   ]
  },
  {
   "cell_type": "code",
   "execution_count": null,
   "metadata": {},
   "outputs": [],
   "source": [
    "# Here is a simple example:\n",
    "\n",
    "import matplotlib.pyplot as plt\n",
    " \n",
    "hours = [4, 8, 12]\n",
    "activities = ['Sleep', 'Code', 'Debug']\n",
    "colors = ['r', 'b', 'y']\n",
    " \n",
    "plt.pie(hours, labels=activities, colors=colors, startangle=90, autopct='%.1f%%')\n",
    "plt.show()"
   ]
  },
  {
   "cell_type": "code",
   "execution_count": null,
   "metadata": {},
   "outputs": [],
   "source": [
    "# And in plotly:\n",
    "\n",
    "from plotly.offline import download_plotlyjs, init_notebook_mode, plot, iplot\n",
    "import plotly.graph_objs as go\n",
    "\n",
    "init_notebook_mode(connected=True)\n",
    "\n",
    "colors = ['#FF0000', '#0000FF', '#FFFF00']\n",
    "\n",
    "trace = go.Pie(labels=activities, values=hours, marker=dict(colors=colors))\n",
    "\n",
    "data = [trace]\n",
    "iplot(data)"
   ]
  },
  {
   "cell_type": "markdown",
   "metadata": {},
   "source": [
    "**Now that we know how to manipulate position and coordinates, let's create a population pyramid.**\n"
   ]
  },
  {
   "cell_type": "code",
   "execution_count": null,
   "metadata": {},
   "outputs": [],
   "source": [
    "census = pd.read_csv(\"/dsa/data/all_datasets/census/census2010pyr.csv\")\n",
    "census.head()"
   ]
  },
  {
   "cell_type": "code",
   "execution_count": null,
   "metadata": {},
   "outputs": [],
   "source": [
    "ggplot(census, aes(x=\"age\", y=\"pop\")) + geom_bar(stat=\"identity\")"
   ]
  },
  {
   "cell_type": "code",
   "execution_count": null,
   "metadata": {},
   "outputs": [],
   "source": [
    "ggplot(census, aes(x=\"age\", y=\"pop\", fill=\"sex\")) + geom_bar(stat=\"identity\")"
   ]
  },
  {
   "cell_type": "code",
   "execution_count": null,
   "metadata": {},
   "outputs": [],
   "source": [
    "ggplot(census, aes(x=\"age\", y=\"pop\", fill=\"sex\")) + geom_bar(data = census[census[\"sex\"]==\"Female\"], stat=\"identity\")"
   ]
  },
  {
   "cell_type": "code",
   "execution_count": null,
   "metadata": {},
   "outputs": [],
   "source": [
    "p = ggplot(census, aes(x=\"age\", y=\"pop\", fill=\"sex\")) + geom_bar(data = census[census[\"sex\"]==\"Female\"], stat=\"identity\")\n",
    "p = p+ geom_bar(data = census[census[\"sex\"]==\"Male\"], stat=\"identity\")\n",
    "p"
   ]
  },
  {
   "cell_type": "code",
   "execution_count": null,
   "metadata": {},
   "outputs": [],
   "source": [
    "p = ggplot(census, aes(x=\"age\", y=\"pop\", fill=\"sex\")) + geom_bar(data = census[census[\"sex\"]==\"Female\"], stat=\"identity\")\n",
    "p = p+ geom_bar(data = census[census[\"sex\"]==\"Male\"], stat=\"identity\",mapping= aes(y=\"-pop\"))\n",
    "p"
   ]
  },
  {
   "cell_type": "code",
   "execution_count": null,
   "metadata": {},
   "outputs": [],
   "source": [
    "p = ggplot(census, aes(x=\"age\", y=\"pop\", fill=\"sex\")) + geom_bar(data = census[census[\"sex\"]==\"Female\"], stat=\"identity\")\n",
    "p = p+ geom_bar(data = census[census[\"sex\"]==\"Male\"], stat=\"identity\",mapping= aes(y=\"-pop\"))\n",
    "p + coord_flip() + theme_minimal() + scale_y_continuous(labels=abs) + ggtitle(\"US Population(2010 Census)\")"
   ]
  },
  {
   "cell_type": "code",
   "execution_count": null,
   "metadata": {},
   "outputs": [],
   "source": [
    "co = pd.read_csv(\"/dsa/data/all_datasets/census/countries.csv\")"
   ]
  },
  {
   "cell_type": "markdown",
   "metadata": {},
   "source": [
    "**We need to rename the \"Life expectancy\" column to a name that complies with the rules of variable naming so that \n",
    " we can do arithmetic like this in `aes(y=\"-lifeExp\")`**"
   ]
  },
  {
   "cell_type": "code",
   "execution_count": null,
   "metadata": {},
   "outputs": [],
   "source": [
    "co.rename(columns={'Life expectancy':'lifeExp'}, inplace=True)\n",
    "co.head()"
   ]
  },
  {
   "cell_type": "code",
   "execution_count": null,
   "metadata": {},
   "outputs": [],
   "source": [
    "p = ggplot(data=co, mapping=aes(x=\"Continent\", y=\"lifeExp\", fill=\"Continent\"))\n",
    "p = p + geom_bar(co[co[\"lifeExp\"]>65], stat=\"summary\", fun_y=np.mean)\n",
    "p = p + geom_bar(data=co[co[\"lifeExp\"]<=65], stat=\"summary\", fun_y=np.mean, mapping=aes(y=\"-lifeExp\"))\n",
    "p = p + geom_abline(slope=0) + scale_y_continuous(labels=abs, limits = [-90, 90], breaks = list(range(-90, 90, 10)))\n",
    "p = p + coord_flip() + ylab(\"averages for 65 and younger vs 66 and older\") + xlab(\"Continents\")\n",
    "p = p + theme_minimal() + ggtitle(\"Average Life Expectancy in Continents\") + theme(legend_position=\"none\")\n",
    "p"
   ]
  },
  {
   "cell_type": "code",
   "execution_count": null,
   "metadata": {},
   "outputs": [],
   "source": []
  }
 ],
 "metadata": {
  "kernelspec": {
   "display_name": "Python 3",
   "language": "python",
   "name": "python3"
  },
  "language_info": {
   "codemirror_mode": {
    "name": "ipython",
    "version": 3
   },
   "file_extension": ".py",
   "mimetype": "text/x-python",
   "name": "python",
   "nbconvert_exporter": "python",
   "pygments_lexer": "ipython3",
   "version": "3.7.3"
  }
 },
 "nbformat": 4,
 "nbformat_minor": 2
}
