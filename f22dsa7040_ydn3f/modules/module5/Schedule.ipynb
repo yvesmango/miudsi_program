{
 "cells": [
  {
   "cell_type": "markdown",
   "metadata": {},
   "source": [
    "# Module Five: Grammar of Graphics\n",
    "\n",
    "\n",
    "## Topics covered    \n",
    "   - Visualization Design Analysis\n",
    "       - Data Abstraction\n",
    "       - Task Abstraction\n",
    "       - Idioms\n",
    "   - Separating visual design into levels (Tamara Munzner)\n",
    "   - Glyph Design\n",
    "   - Components of the layered grammar (Hadley Wickham)\n",
    "   - ggplot2 examples of layered approach\n",
    "   - Practice and exercise\n",
    "     - population pyramids, bubble charts\n",
    "     - Online: gapminder.org - recreating gapminder-like bubble charts\n",
    "\n",
    "\n",
    "## Notebook Shortcuts\n",
    "\n",
    "### Labs\n",
    "- [Grammar of Graphics](labs/L5_DataViz_Grammar.ipynb)\n",
    "- [Lecture Slides](labs/L5_DataViz_Grammar.pdf)\n",
    "\n",
    "\n",
    "### Practices\n",
    "- [L5 Bubble Practice](practices/L5_Bubble_Practice.ipynb)\n",
    "- [L5 Pyramid Practice](practices/L5_Pyramid_Practice.ipynb)\n",
    "- [L5 Python Practice](practices/L5_Python_Practice.ipynb)\n",
    "- [L5_Bubble_Practice_plotnine](practices/L5_Bubble_Practice_plotnine.ipynb) \n",
    "- [L5_Pyramid_Practice_plotnine](practices/L5_Pyramid_Practice_plotnine.ipynb) \n",
    "\n",
    "\n",
    "\n",
    "### Exercises\n",
    "- [L5 Exercise](exercises/L5_Exercise.ipynb)\n",
    "\n",
    "\n",
    "\n",
    "## Readings and Links\n",
    "- Embedded in the lab and practice notebooks\n",
    "\n",
    "\n",
    "## Video topics\n",
    "- **Concept Video**: Grammar of Graphics\n",
    "\n"
   ]
  }
 ],
 "metadata": {
  "kernelspec": {
   "display_name": "Python 3",
   "language": "python",
   "name": "python3"
  },
  "language_info": {
   "codemirror_mode": {
    "name": "ipython",
    "version": 3
   },
   "file_extension": ".py",
   "mimetype": "text/x-python",
   "name": "python",
   "nbconvert_exporter": "python",
   "pygments_lexer": "ipython3",
   "version": "3.7.3"
  }
 },
 "nbformat": 4,
 "nbformat_minor": 1
}
