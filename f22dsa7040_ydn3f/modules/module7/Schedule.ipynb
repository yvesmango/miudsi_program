{
 "cells": [
  {
   "cell_type": "markdown",
   "metadata": {},
   "source": [
    "# Module Seven: Network Visualization\n",
    "\n",
    "## Topics covered\n",
    "   - Graph theory\n",
    "   - Basic graph drawing and layouts\n",
    "   - Network Visualization and analysis\n",
    "   - Trees (radial, treemaps, etc.)\n",
    "   - Practice and exercise     \n",
    "     - igraph and D3 examples of network visualization\n",
    " \n",
    "\n",
    "\n",
    "## Notebook Shortcuts\n",
    "\n",
    "### Labs\n",
    "- [Network Visualization](labs/L7_DataViz_Network.ipynb)\n",
    "- No slides.\n",
    "\n",
    "\n",
    "### Practices\n",
    "- [L7 Network iGraph Practice](practices/L7_Network_igraph_Practice.ipynb)\n",
    "- [L7 NetworkD3 Practice](practices/L7_NetworkD3_Practice.ipynb)\n",
    "- [L7 Python Practice](practices/L7_Python_Practice.ipynb)\n",
    "\n",
    "\n",
    "### Exercises\n",
    "- [L7 Exercise](exercises/L7_Exercise.ipynb)\n",
    "\n",
    "\n",
    "\n",
    "## Readings and Links\n",
    "\n",
    "\n",
    "[Dynamic Graph Visualization](http://dynamicgraphs.fbeck.com/)\n",
    "\n",
    "[D3 Gallery](https://github.com/d3/d3/wiki/Gallery)\n",
    "\n",
    "\n",
    "[Visual Complexity](http://www.visualcomplexity.com/vc/)\n",
    "\n",
    "**Standalone Software for Graph Visualization and/or Analysis:**\n",
    "\n",
    "[Gephi](https://gephi.org/features/)\n",
    "\n",
    "[GraphViz](http://www.graphviz.org/gallery/)\n",
    "\n",
    "[Gruff](http://franz.com/agraph/gruff/)\n",
    "\n",
    "[Cytoscape](http://www.cytoscape.org/)\n",
    "\n",
    "**References:**\n",
    "\n",
    "- [Graph Theory](http://cs.bme.hu/fcs/graphtheory.pdf)\n",
    "\n",
    "\n",
    "## Video topics\n",
    "- **Concept Video**: No video.\n",
    "\n"
   ]
  }
 ],
 "metadata": {
  "kernelspec": {
   "display_name": "Python 3",
   "language": "python",
   "name": "python3"
  },
  "language_info": {
   "codemirror_mode": {
    "name": "ipython",
    "version": 3
   },
   "file_extension": ".py",
   "mimetype": "text/x-python",
   "name": "python",
   "nbconvert_exporter": "python",
   "pygments_lexer": "ipython3",
   "version": "3.7.3"
  }
 },
 "nbformat": 4,
 "nbformat_minor": 1
}
