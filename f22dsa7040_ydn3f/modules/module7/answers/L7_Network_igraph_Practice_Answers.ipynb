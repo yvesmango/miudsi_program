{
 "cells": [
  {
   "cell_type": "markdown",
   "metadata": {},
   "source": [
    "## Module 7 - Network Practice\n",
    "\n",
    "In this notebook, we will see how to create network and tree visualizations using the `igraph` library. \n",
    "\n",
    "\n",
    "Here are some references:\n",
    "\n",
    "- [igraph manual pages](http://igraph.org/r/doc/)\n",
    "\n",
    "- [igraph reference](https://cran.r-project.org/web/packages/igraph/igraph.pdf)\n",
    "\n",
    "- [network data sources](http://www-personal.umich.edu/~mejn/netdata/)\n"
   ]
  },
  {
   "cell_type": "markdown",
   "metadata": {},
   "source": [
    "## `igraph` Library\n",
    "\n",
    "\n",
    "There are several different ways of defining graphs. Let's start with a simple network. Here, we will create the network **from scratch by giving the list of edges**. \n",
    "\n",
    "\n",
    "Edges are represented by **vertex pairs**. Two vertices (nodes) are connected by an edge (link).  In the following example, we give a list of vertices where each pair defines an edge. "
   ]
  },
  {
   "cell_type": "code",
   "execution_count": null,
   "metadata": {},
   "outputs": [],
   "source": [
    "library(igraph)\n",
    "\n",
    "# we can create a graph by giving a list of vertex pairs. \n",
    "edges <- c(1,2, 3,2, 2,4)\n",
    "edges"
   ]
  },
  {
   "cell_type": "code",
   "execution_count": null,
   "metadata": {},
   "outputs": [],
   "source": [
    "# now CONVERT this list to a directed graph\n",
    "g<-graph(edges, n=max(edges), directed=TRUE)\n",
    "\n",
    "# there are 3 pairs, so there will be three edges \n",
    "plot(g)"
   ]
  },
  {
   "cell_type": "markdown",
   "metadata": {},
   "source": [
    "Note that `g` is a graph object, **not** a data frame. Note the represenation of the edges below: "
   ]
  },
  {
   "cell_type": "code",
   "execution_count": null,
   "metadata": {},
   "outputs": [],
   "source": [
    "g"
   ]
  },
  {
   "cell_type": "markdown",
   "metadata": {},
   "source": [
    "---\n",
    "\n",
    "### Graph Statistics\n",
    "\n",
    "We can find out some properties and compute some basic **statistics** about a graph like in the following examples: "
   ]
  },
  {
   "cell_type": "code",
   "execution_count": null,
   "metadata": {},
   "outputs": [],
   "source": [
    "# vertex count of the graph g\n",
    "vcount(g)"
   ]
  },
  {
   "cell_type": "code",
   "execution_count": null,
   "metadata": {},
   "outputs": [],
   "source": [
    "# edge count of the graph g\n",
    "ecount(g)"
   ]
  },
  {
   "cell_type": "code",
   "execution_count": null,
   "metadata": {},
   "outputs": [],
   "source": [
    "# vertices of the graph g\n",
    "V(g)\n",
    "# edges of the graph g\n",
    "E(g)"
   ]
  },
  {
   "cell_type": "code",
   "execution_count": null,
   "metadata": {},
   "outputs": [],
   "source": [
    "# neighbors of the second vertex (v2)\n",
    "neighbors(g, V(g)[2], mode = 1)"
   ]
  },
  {
   "cell_type": "code",
   "execution_count": null,
   "metadata": {},
   "outputs": [],
   "source": [
    "# statistics about neighbors\n",
    "incident(g,V(g)[2], mode=c(\"all\", \"out\", \"in\", \"total\"))"
   ]
  },
  {
   "cell_type": "code",
   "execution_count": null,
   "metadata": {},
   "outputs": [],
   "source": [
    "# are vertices 1 and 3 connected ? \n",
    "are.connected(g, V(g)[1], V(g)[3])"
   ]
  },
  {
   "cell_type": "code",
   "execution_count": null,
   "metadata": {},
   "outputs": [],
   "source": [
    "# get a list of graph edges \n",
    "get.edgelist(g)"
   ]
  },
  {
   "cell_type": "markdown",
   "metadata": {},
   "source": [
    "### YOUR TURN: \n",
    "\n",
    "**Create the first graph** from the lab notebook with five edges using the `igraph` functions. Remember that it is an **undirected** graph. In a **directed** graph, the order of vertex pairs matters. "
   ]
  },
  {
   "cell_type": "code",
   "execution_count": null,
   "metadata": {},
   "outputs": [],
   "source": [
    "#< YOUR CODE HERE >\n",
    "\n",
    "# first define a list of vertex pairs \n",
    "edges1 <- c(1,2, 2,3, 3,5, 1,4, 1,5, 4,5)\n",
    "# then convert it to a graph and plot it \n",
    "g1 <- graph(edges1, n=max(edges1), directed=FALSE)\n",
    "plot(g1, edge.label=E(g1))\n"
   ]
  },
  {
   "cell_type": "markdown",
   "metadata": {},
   "source": [
    "**Can you also create the second graph with the directed edges?** (the order of the vertex pairs matters.)"
   ]
  },
  {
   "cell_type": "code",
   "execution_count": null,
   "metadata": {},
   "outputs": [],
   "source": [
    "#< YOUR CODE HERE >\n",
    "\n",
    "edges2 <- c(1,2, 2,3, 3,2, 3,5, 4,1, 1,5, 5,1, 4,5)\n",
    "\n",
    "g2 <- graph(edges2, n=max(edges2), directed=TRUE)\n",
    "\n",
    "plot(g2, edge.curved=TRUE, edge.label=E(g2))"
   ]
  },
  {
   "cell_type": "markdown",
   "metadata": {},
   "source": [
    "---\n",
    "\n",
    "### Clustering \n",
    "\n",
    "Clustering, also called community detection, is a useful method to find closely connected groups of vertices in a graph that can lead to discoveries in the underlying data. The following code creates a sample graph, and uses `cluster_fast_greedy()` function to find clusters of nodes. There are many functions for clustering that use different algorithms; see the igraph manual for different methods of clustering. \n",
    "\n",
    "(Every time you run the following cell, it will produce a different graph, try it.)"
   ]
  },
  {
   "cell_type": "code",
   "execution_count": null,
   "metadata": {},
   "outputs": [],
   "source": [
    "g3 <- sample_gnp(10, 3/10)\n",
    "plot(g3)\n",
    "clust <- cluster_fast_greedy(g3)\n"
   ]
  },
  {
   "cell_type": "markdown",
   "metadata": {},
   "source": [
    "`clust` is a data structure that contains data about the result of clustering, such as memberships of vertices to the detected clusters. We can visualize this data in several ways like following: "
   ]
  },
  {
   "cell_type": "code",
   "execution_count": null,
   "metadata": {
    "scrolled": false
   },
   "outputs": [],
   "source": [
    "# use communities list to mark the groups of nodes \n",
    "plot(g3, mark.groups=communities(clust))\n",
    "\n",
    "# color each node with respect to their membership to a cluster \n",
    "plot(g3, vertex.color=membership(clust))\n",
    "\n",
    "# do both \n",
    "plot(g3, mark.groups=communities(clust), vertex.color=membership(clust))"
   ]
  },
  {
   "cell_type": "markdown",
   "metadata": {},
   "source": [
    "**This grouping may not make sense but when we change the layout from random to some optimal layout taking into account the connectedness of the nodes, we see that clusters actually make sense.**"
   ]
  },
  {
   "cell_type": "code",
   "execution_count": null,
   "metadata": {},
   "outputs": [],
   "source": [
    "coords = layout_with_fr(g3)\n",
    "plot(g3, layout=coords, vertex.color=membership(clust))"
   ]
  },
  {
   "cell_type": "markdown",
   "metadata": {},
   "source": [
    "We will see how to change the layout later. \n",
    "\n",
    "\n",
    "### YOUR TURN:\n",
    "\n",
    "**Compute and visualize clusters** for the following graph of friendships between 34 members of a club. \n"
   ]
  },
  {
   "cell_type": "code",
   "execution_count": null,
   "metadata": {},
   "outputs": [],
   "source": [
    "gz = make_graph(\"Zachary\")\n",
    "coordsz = layout_with_fr(gz)\n",
    "# plot the graph\n",
    "plot(gz, layout=coordsz, vertex.label=NA, vertex.size=10)"
   ]
  },
  {
   "cell_type": "code",
   "execution_count": null,
   "metadata": {},
   "outputs": [],
   "source": [
    "# < YOUR CODE HERE >\n",
    "clustz <- cluster_fast_greedy(gz)\n",
    "plot(gz, layout=coordsz, vertex.label=NA, vertex.size=10, vertex.color=membership(clustz))"
   ]
  },
  {
   "cell_type": "markdown",
   "metadata": {},
   "source": [
    "\n",
    "--- \n",
    "\n",
    "## Reading Graphs from a File\n",
    "\n",
    "We can also read an **edge list from a plain text file** and convert it to a graph. \n",
    "\n",
    "In this example, the vertices (nodes) are labeled by letters, and each row represents an edge between two vertices. "
   ]
  },
  {
   "cell_type": "code",
   "execution_count": null,
   "metadata": {},
   "outputs": [],
   "source": [
    "# This is the file content:\n",
    "# A,B\n",
    "# A,G\n",
    "# A,Y\n",
    "# G,Y\n",
    "\n",
    "t <-read.csv(\"/dsa/data/all_datasets/networks/graph1.txt\", header=FALSE)\n",
    "\n",
    "# t is a data frame\n",
    "head(t)"
   ]
  },
  {
   "cell_type": "code",
   "execution_count": null,
   "metadata": {},
   "outputs": [],
   "source": [
    "# gt is a graph\n",
    "gt <- graph.data.frame(t)\n",
    "plot(gt)"
   ]
  },
  {
   "cell_type": "markdown",
   "metadata": {},
   "source": [
    "### YOUR TURN: \n",
    "\n",
    "**Compute the same statistics** for `gt` as before done for `g`. "
   ]
  },
  {
   "cell_type": "code",
   "execution_count": null,
   "metadata": {},
   "outputs": [],
   "source": [
    "#< YOUR CODE HERE >\n",
    "\n",
    "vcount(gt)\n",
    "ecount(gt)\n",
    "V(gt)\n",
    "E(gt)\n",
    "get.edgelist(gt)"
   ]
  },
  {
   "cell_type": "markdown",
   "metadata": {},
   "source": [
    "\n",
    "---\n",
    "\n",
    "\n",
    "We can also read an **adjacency matrix** from a text file as opposed to a list of vertex pairs. \n",
    "\n",
    "\n",
    "**Remember what an adjacency matrix is from the lab notebook**. \n",
    "\n",
    "This is a sample row from the file showing the **connectivity of the first vertex** to the other vertices:\n",
    "\n",
    "```\n",
    " 0 1 1 1 0 0 0 0 1 0 0 1 0\n",
    "```"
   ]
  },
  {
   "cell_type": "code",
   "execution_count": null,
   "metadata": {},
   "outputs": [],
   "source": [
    "adj_matrix <- as.matrix(read.table(\"/dsa/data/all_datasets/networks/SAcountries.txt\",header=FALSE, sep=\" \"))\n",
    "adj_matrix"
   ]
  },
  {
   "cell_type": "markdown",
   "metadata": {},
   "source": [
    "We also need **names/labels** for vertices (nodes). The above matrix data actually represents **neighborhood relationships between the countries in South America**. \n",
    "\n",
    "Let's read the country names from a different file:"
   ]
  },
  {
   "cell_type": "code",
   "execution_count": null,
   "metadata": {},
   "outputs": [],
   "source": [
    "SAnames <- read.csv(\"/dsa/data/all_datasets/networks/SAcountrylist.txt\", header=FALSE)\n",
    "head(SAnames)"
   ]
  },
  {
   "cell_type": "markdown",
   "metadata": {},
   "source": [
    "Let's build an **undirected** simple (nonweighted) graph from the above matrix. **Study the following code:**"
   ]
  },
  {
   "cell_type": "code",
   "execution_count": null,
   "metadata": {},
   "outputs": [],
   "source": [
    "gSA <-  graph_from_adjacency_matrix(adj_matrix, weighted = NULL,  mode = \"undirected\")\n",
    "\n",
    "# remove loops\n",
    "gSA <- simplify(gSA)\n",
    "\n",
    "# set labels and degrees of vertices\n",
    "gSA <- set_vertex_attr(gSA, \"label\", value= as.vector(SAnames$V1))"
   ]
  },
  {
   "cell_type": "markdown",
   "metadata": {},
   "source": [
    "**You can create new attributes for each vertex in the graph like this:** "
   ]
  },
  {
   "cell_type": "code",
   "execution_count": null,
   "metadata": {},
   "outputs": [],
   "source": [
    "# create an attribute to hold degree for each vertex\n",
    "V(gSA)$degree <- degree(gSA)"
   ]
  },
  {
   "cell_type": "code",
   "execution_count": null,
   "metadata": {},
   "outputs": [],
   "source": [
    "# do a force-directed layout \n",
    "layout1 <- layout.fruchterman.reingold(gSA)\n",
    "\n",
    "# draw the newtwork \n",
    "plot(gSA, layout=layout1)"
   ]
  },
  {
   "cell_type": "code",
   "execution_count": null,
   "metadata": {},
   "outputs": [],
   "source": [
    "# another layout \n",
    "plot(gSA, layout=layout.kamada.kawai)\n"
   ]
  },
  {
   "cell_type": "code",
   "execution_count": null,
   "metadata": {},
   "outputs": [],
   "source": [
    "# this is an example of a more complicated graph, it'll take a while to draw:\n",
    "gb <- barabasi.game(1000, power=1)\n",
    "l1 <- layout.fruchterman.reingold(gb)\n",
    "l2 <- layout.kamada.kawai\n",
    "plot(gb, layout=l1, vertex.size=2, vertex.label=NA, edge.arrow.size=.2)\n",
    "plot(gb, layout=l2, vertex.size=2, vertex.label=NA, edge.arrow.size=.2)"
   ]
  },
  {
   "cell_type": "markdown",
   "metadata": {},
   "source": [
    "### YOUR TURN: \n",
    "\n",
    "**Find the clusters in the South America network and visualize them.**\n"
   ]
  },
  {
   "cell_type": "code",
   "execution_count": null,
   "metadata": {},
   "outputs": [],
   "source": [
    "# < YOUR CODE HERE > \n",
    "clustgSA <- cluster_fast_greedy(gSA)\n",
    "plot(gSA, layout=layout1, vertex.color=membership(clustgSA))"
   ]
  }
 ],
 "metadata": {
  "kernelspec": {
   "display_name": "R",
   "language": "R",
   "name": "ir"
  },
  "language_info": {
   "codemirror_mode": "r",
   "file_extension": ".r",
   "mimetype": "text/x-r-source",
   "name": "R",
   "pygments_lexer": "r",
   "version": "3.5.1"
  }
 },
 "nbformat": 4,
 "nbformat_minor": 2
}
