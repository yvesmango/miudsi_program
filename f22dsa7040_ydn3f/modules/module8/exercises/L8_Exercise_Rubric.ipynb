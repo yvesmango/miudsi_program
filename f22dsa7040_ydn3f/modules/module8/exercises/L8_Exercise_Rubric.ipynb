{
 "cells": [
  {
   "cell_type": "markdown",
   "metadata": {},
   "source": [
    "# Module 8 Exercise - Data Storytelling\n",
    "\n",
    "In this exercise, you will **create a data story product with a data set of your choosing**. You can choose any data set you can find on the Internet or a data set related to your current line of work. \n",
    "\n",
    "\n",
    "\n",
    "**You will create visualizations to give a message, make a point, or convince your audience by using all the techniques we have \n",
    "seen throughout the course.**\n",
    "\n",
    "This exercise is about creating a quickly consumable product; Do **NOT** create a report or lengthy power point presentation. You can choose a **poster format** or **few slides** to tell your story (with a unique angle) from the conclusions you derive for the audience you have decided. \n",
    "\n",
    "\n",
    "\n",
    "Here is a list of your tasks:\n",
    "\n",
    "1. Find a data set and upload it to your exercises folder in module 8. \n",
    "\n",
    "2. Write your R code **in THIS exercise notebook** to create your visualizations, and save them under the `exercises` folder.\n",
    "\n",
    "3. Create a **narrative visualization document** using **any** software you want (Word, PowerPoint, Photoshop, Adobe, etc.) by **pasting your visualizations and creating all necessary elements** (captions, text annotations, layout, etc.) \n",
    "\n",
    "4. Save your end product as a **PDF FILE** and upload it to your exercises folder (**MAKE SURE TO NAME IT L8_Exercise.pdf**)\n",
    "\n",
    "You should start with a clear message or angle in your mind for your audience, and filter and format your data accordingly, and create the visualizations that will **support that message**. \n",
    "\n",
    "You need to have **at least one major visualization, and a number of supporting smaller graphs (2, 3, or more)** in a nice layout. Make sure to have a **clean layout** they can follow, and **enough text annotations and captions** to make your message/point clear. \n",
    "\n",
    "\n",
    "Look at the **good and bad examples** in the lab notebook and consult the links. \n",
    "\n",
    "You can choose any type of visualization that you believe will be most **effective** for the type of data, characteristics of the data, visual tasks, and the message you have chosen. \n",
    "\n",
    "You will be graded by the quality of your visualizations and storytelling; **make sure to use every principle you have learned in this course.** \n",
    "\n",
    "---\n",
    "\n",
    "Following is to show how to save a plot to a file: "
   ]
  },
  {
   "cell_type": "code",
   "execution_count": null,
   "metadata": {},
   "outputs": [],
   "source": [
    "# this is how you save a plot to a file\n",
    "#library(ggplot2)\n",
    "\n",
    "# comment this out to see the plot in the notebook \n",
    "#png(filename=\"myplot.png\")\n",
    "\n",
    "# your plot here..\n",
    "#qplot(carat, price, data = diamonds)\n",
    "\n",
    "# comment this out to see the plot in the notebook\n",
    "#dev.off()"
   ]
  },
  {
   "cell_type": "markdown",
   "metadata": {},
   "source": [
    "Make sure you have all axis labels set in R notebook before you save your plot. You can adjust width and height when saving your plots.  Here is a reference to png() function:\n",
    "https://stat.ethz.ch/R-manual/R-devel/library/grDevices/html/png.html"
   ]
  },
  {
   "cell_type": "markdown",
   "metadata": {},
   "source": [
    "**Activity:**"
   ]
  },
  {
   "cell_type": "code",
   "execution_count": 1,
   "metadata": {},
   "outputs": [],
   "source": [
    "# Read your data here; \n",
    "\n",
    "# Clean it up, reformat it, filter it, sort it, group it, etc.\n",
    "\n",
    "# Create your visualizations and save them as png files, then prepare your final pdf document elsewhere\n",
    "\n",
    "# <- ALL YOUR CODE BELOW THIS POINT ->\n",
    "\n"
   ]
  },
  {
   "cell_type": "markdown",
   "metadata": {},
   "source": [
    "---\n",
    "\n",
    "# Common Pitfalls / Inefficiencies\n",
    "\n",
    "**BEFORE you submit your end product, pay attention to the following and check your visualizations and story accordingly:**"
   ]
  },
  {
   "cell_type": "markdown",
   "metadata": {},
   "source": [
    "---\n",
    "\n",
    "### - Remember the design analysis questions:\n",
    "\n",
    "**what, how, who, why?** \n",
    "\n",
    "- What are you showing/telling? \n",
    "- How are you going to show it (efficiency? visual tasks like comparison, trends, query, etc.) \n",
    "- Who is your audience? Why should they care about what you have to tell? What are the **actionable** information they can take from your story? \n",
    "- Why are you telling the story? What is your angle, message, point? (make it clear in text AND visuals) "
   ]
  },
  {
   "cell_type": "markdown",
   "metadata": {},
   "source": [
    "---\n",
    "\n",
    "### - Pay attention to the color schemes/palettes:\n",
    "\n",
    " - Do NOT use sequential palettes for data attributes that have no ordering.\n",
    " - Do NOT use qualitative color schemes for attributes where order matters. "
   ]
  },
  {
   "cell_type": "markdown",
   "metadata": {},
   "source": [
    "---\n",
    "\n",
    "###  - Color coordinate among plots so that the same data attributes have the same color in all plots:\n",
    "\n",
    "You can do that by creating a manual palette and use it everywhere to make sure same color is always assigned to the same attribute value (especially important for categories). Do not change color of the same category among plots!"
   ]
  },
  {
   "cell_type": "markdown",
   "metadata": {},
   "source": [
    "---\n",
    "\n",
    "###  - Perceptual grouping is important! group and/or order values:\n",
    "\n",
    "People tend to make sense of things and compare better when they are ordered or grouped:  \n",
    "\n",
    "- In a bar chart, **order the axes** by time, value, etc. to make comparisons more intuitive. \n",
    "\n",
    "- Pie chart: order wedges. \n",
    "\n",
    "- In a bubble map, if you want to show trends, use grouping variable to **connect** bubbles, etc. "
   ]
  },
  {
   "cell_type": "markdown",
   "metadata": {},
   "source": [
    "---\n",
    "\n",
    "### - No lengthy text in x axis:\n",
    "\n",
    "- **Flip** the axes of a bar chart so that character values (text) are **readable on the y axis** left to right, \n",
    "\n",
    "**or** \n",
    "\n",
    "- at least, put them slanted in x axis for better readibility. "
   ]
  },
  {
   "cell_type": "markdown",
   "metadata": {},
   "source": [
    "---\n",
    "\n",
    "### - Plot only those data columns and/or subsets that tell an obvious story:\n",
    "\n",
    " - **No crowded** scatter plots with useless linear regression lines that don't tell anything.  \n",
    " - You do **NOT** have to plot **ALL** your data (most of the time, you should not). \n",
    " - Look at alternative plots to tell your story effectively. \n",
    " - Your plots should be perceived easily and intuitively. \n",
    "  \n",
    "  "
   ]
  },
  {
   "cell_type": "markdown",
   "metadata": {},
   "source": [
    "---\n",
    "\n",
    "### - If you have too many classes (discrete variables/categories), try to GROUP them:\n",
    "\n",
    "- Instead of giving a color to each of the dozen or so categories, you can put them in meaningful groups and color code to reduce clutter. \n",
    "\n",
    "- For sequential variables, you can do the same thing by **binning** numbers into bins (like in a histogram). \n",
    "\n",
    "- **Stepped color palettes** may be more useful than smooth sequential palettes (especially for comparison in choropleth maps) for a large range of values in an attribute. \n",
    "\n",
    "- You can **group/cluster data into meaningful chunks** and display those as bubble charts, networks, geographical regions, etc. \n",
    "\n",
    "- Do **NOT** dump all the data in the plot unless there is a CLEAR pattern/clustering to it that can be **perceived immediately**. "
   ]
  },
  {
   "cell_type": "markdown",
   "metadata": {},
   "source": [
    "---\n",
    "\n",
    "### - ANNOTATE! ANNOTATE! ANNOTATE!\n",
    "\n",
    "- **Tell** your audience what they are supposed to see. \n",
    "\n",
    "- Use **meaningful** titles with a message/statement, no dry titles. \n",
    "\n",
    "- Use nice and concise axis labels (make sure they are large enough).\n",
    "\n",
    "- Use text annotations (look at the **examples in the lab notebook**)."
   ]
  },
  {
   "cell_type": "markdown",
   "metadata": {},
   "source": [
    "---\n",
    "\n",
    "### - THEMING\n",
    "\n",
    "- **Good looking** charts are more **convincing**! Your audience will have more confidence in your work. \n",
    "\n",
    "- **Almost NEVER use the default color palette, default theme, or default fonts.**\n",
    "\n",
    "- Use a subtle color scheme, nice fonts, interesting glyphs, etc. to make your charts look more **sophisticated**. "
   ]
  },
  {
   "cell_type": "markdown",
   "metadata": {},
   "source": [
    "---\n",
    "\n",
    "### - Use space wisely!\n",
    "\n",
    "- **Balance the plots** to use space effectively.\n",
    "\n",
    "- Pay attention to **data-ink ratio**.\n",
    "\n",
    "- **HAVE A FLOW left to right, top to bottom**. \n",
    "\n",
    "- If you must have a line plot or bar plot with a lot of empty space, try to put text annotations with relevant information in them. "
   ]
  }
 ],
 "metadata": {
  "kernelspec": {
   "display_name": "R",
   "language": "R",
   "name": "ir"
  },
  "language_info": {
   "codemirror_mode": "r",
   "file_extension": ".r",
   "mimetype": "text/x-r-source",
   "name": "R",
   "pygments_lexer": "r",
   "version": "3.5.1"
  }
 },
 "nbformat": 4,
 "nbformat_minor": 2
}
