{
 "cells": [
  {
   "cell_type": "markdown",
   "metadata": {},
   "source": [
    "This is an [R Markdown](http://rmarkdown.rstudio.com) Notebook. When you execute code within the notebook, the results appear beneath the code.\n",
    "\n",
    "Try executing this chunk by clicking the *Run* button within the chunk or by placing your cursor inside it and pressing *Cmd+Shift+Enter*.\n",
    "\n",
    "Loading package and dependencies:\n"
   ]
  },
  {
   "cell_type": "code",
   "execution_count": null,
   "metadata": {},
   "outputs": [],
   "source": [
    "library(dplyr)\n",
    "library(ggplot2)\n",
    "library(data.table)\n",
    "library(tidyr)\n",
    "library(forcats)\n",
    "library(stringr)\n"
   ]
  },
  {
   "cell_type": "markdown",
   "metadata": {},
   "source": [
    "Add a new chunk by clicking the *Insert Chunk* button on the toolbar or by pressing *Cmd+Option+I*.\n",
    "\n",
    "When you save the notebook, an HTML file containing the code and output will be saved alongside it (click the *Preview* button or press *Cmd+Shift+K* to preview the HTML file).\n",
    "\n",
    "The preview shows you a rendered HTML copy of the contents of the editor. Consequently, unlike *Knit*, *Preview* does not run any R code chunks. Instead, the output of the chunk when it was last run in the editor is displayed.\n"
   ]
  },
  {
   "cell_type": "code",
   "execution_count": null,
   "metadata": {},
   "outputs": [],
   "source": [
    "df1 <- read.csv('./kagglesurvey/kaggle_survey_2022_responses.csv')\n",
    "\n"
   ]
  },
  {
   "cell_type": "markdown",
   "metadata": {},
   "source": [
    "## Section A. Gender Dynamics\n",
    "\n",
    "### Part 1. Yearly compensation\n",
    "\n",
    "#### Data prepping and manipulation\n"
   ]
  },
  {
   "cell_type": "code",
   "execution_count": null,
   "metadata": {},
   "outputs": [],
   "source": [
    "head(df1$Q5)\n",
    "\n"
   ]
  },
  {
   "cell_type": "markdown",
   "metadata": {},
   "source": [
    "\n"
   ]
  },
  {
   "cell_type": "code",
   "execution_count": null,
   "metadata": {},
   "outputs": [],
   "source": [
    " df1 <- df1[-1,]\n",
    " head(df1$Q5)\n",
    "## removing the first row\n"
   ]
  },
  {
   "cell_type": "markdown",
   "metadata": {},
   "source": [
    "\n"
   ]
  },
  {
   "cell_type": "code",
   "execution_count": null,
   "metadata": {},
   "outputs": [],
   "source": [
    "table(df1$Q5)\n",
    "prop.table(table(df1$Q5))\n",
    "#proportion of non-students to students \n"
   ]
  },
  {
   "cell_type": "markdown",
   "metadata": {},
   "source": [
    "\n"
   ]
  },
  {
   "cell_type": "code",
   "execution_count": null,
   "metadata": {},
   "outputs": [],
   "source": [
    "table(df1$Q3)\n",
    "as.data.frame(prop.table(table(df1$Q3)))\n",
    "#ratio of gender\n"
   ]
  },
  {
   "cell_type": "markdown",
   "metadata": {},
   "source": [
    "\n"
   ]
  },
  {
   "cell_type": "code",
   "execution_count": null,
   "metadata": {},
   "outputs": [],
   "source": [
    "table(df1$Q7)\n",
    "# platform poularity\n"
   ]
  },
  {
   "cell_type": "markdown",
   "metadata": {},
   "source": [
    "\n"
   ]
  },
  {
   "cell_type": "code",
   "execution_count": null,
   "metadata": {},
   "outputs": [],
   "source": [
    "table(df1$Q12_1)\n",
    "data.frame(prop.table(table(df1$Q12_1)))\n"
   ]
  },
  {
   "cell_type": "markdown",
   "metadata": {},
   "source": [
    "\n",
    "\n"
   ]
  },
  {
   "cell_type": "code",
   "execution_count": null,
   "metadata": {},
   "outputs": [],
   "source": [
    "df_index <- read.csv('./kagglesurvey/kaggle_survey_2022_responses.csv', header=0)\n",
    "\n"
   ]
  },
  {
   "cell_type": "markdown",
   "metadata": {},
   "source": [
    "\n"
   ]
  },
  {
   "cell_type": "code",
   "execution_count": null,
   "metadata": {},
   "outputs": [],
   "source": [
    "df_index[1:2,]\n",
    "\n"
   ]
  },
  {
   "cell_type": "markdown",
   "metadata": {},
   "source": [
    "\n"
   ]
  },
  {
   "cell_type": "code",
   "execution_count": null,
   "metadata": {},
   "outputs": [],
   "source": [
    "df_index <- transpose(df_index[1:2,])\n",
    "\n"
   ]
  },
  {
   "cell_type": "markdown",
   "metadata": {},
   "source": [
    "\n"
   ]
  },
  {
   "cell_type": "code",
   "execution_count": null,
   "metadata": {},
   "outputs": [],
   "source": [
    "helpful_platforms <- df1 %>% select(contains(\"Q7_\"))\n",
    "data.frame(x=unlist(helpful_platforms))\n"
   ]
  },
  {
   "cell_type": "markdown",
   "metadata": {},
   "source": [
    "\n"
   ]
  },
  {
   "cell_type": "code",
   "execution_count": null,
   "metadata": {},
   "outputs": [],
   "source": [
    "helpful_platforms <- helpful_platforms %>% mutate_all(na_if, \"\")\n",
    "helpful_platforms <- data.frame(data.frame(x=unlist(helpful_platforms)))\n"
   ]
  },
  {
   "cell_type": "markdown",
   "metadata": {},
   "source": [
    "\n"
   ]
  },
  {
   "cell_type": "code",
   "execution_count": null,
   "metadata": {},
   "outputs": [],
   "source": [
    "data.frame(sort(table(helpful_platforms), decreasing = TRUE))\n",
    "\n"
   ]
  },
  {
   "cell_type": "markdown",
   "metadata": {},
   "source": [
    "\n"
   ]
  },
  {
   "cell_type": "code",
   "execution_count": null,
   "metadata": {},
   "outputs": [],
   "source": [
    "data.frame(sort(table(df1[,173]), decreasing=TRUE))\n",
    "\n"
   ]
  },
  {
   "cell_type": "markdown",
   "metadata": {},
   "source": [
    "## Q3 + Q29\n",
    "\n"
   ]
  },
  {
   "cell_type": "code",
   "execution_count": null,
   "metadata": {},
   "outputs": [],
   "source": [
    "gender_pay <- df1 %>% select(c(\"Q3\",\"Q29\"))\n",
    "#24,000 rows with NULLS\n"
   ]
  },
  {
   "cell_type": "markdown",
   "metadata": {},
   "source": [
    "\n"
   ]
  },
  {
   "cell_type": "code",
   "execution_count": null,
   "metadata": {},
   "outputs": [],
   "source": [
    "gender_pay <- gender_pay %>% mutate_all(na_if, \"\")\n",
    "#clean NAs\n"
   ]
  },
  {
   "cell_type": "markdown",
   "metadata": {},
   "source": [
    "\n"
   ]
  },
  {
   "cell_type": "code",
   "execution_count": null,
   "metadata": {},
   "outputs": [],
   "source": [
    "gender_pay %>% group_by(Q3) %>% count(Q29)\n",
    "\n"
   ]
  },
  {
   "cell_type": "markdown",
   "metadata": {},
   "source": [
    "\n"
   ]
  },
  {
   "cell_type": "code",
   "execution_count": null,
   "metadata": {},
   "outputs": [],
   "source": [
    "#data.frame(table(gender_pay$Q29)) %>% arrange(Freq)\n",
    "gender_pay %>% count(Q3)\n"
   ]
  },
  {
   "cell_type": "markdown",
   "metadata": {},
   "source": [
    "\n"
   ]
  },
  {
   "cell_type": "code",
   "execution_count": null,
   "metadata": {},
   "outputs": [],
   "source": [
    "gender_paygap <- gender_pay %>% filter(Q3 == \"Man\" | Q3 == \"Woman\")\n",
    "gender_paygap %>% group_by(Q3) %>% count(Q29)\n"
   ]
  },
  {
   "cell_type": "markdown",
   "metadata": {},
   "source": [
    "We are almost there, but the dollar signs are messing with the hierarchies...\n",
    "\n"
   ]
  },
  {
   "cell_type": "code",
   "execution_count": null,
   "metadata": {},
   "outputs": [],
   "source": [
    "gender_paygap %>% count(Q29)\n",
    "\n"
   ]
  },
  {
   "cell_type": "markdown",
   "metadata": {},
   "source": [
    "\n",
    "\n"
   ]
  },
  {
   "cell_type": "code",
   "execution_count": null,
   "metadata": {},
   "outputs": [],
   "source": [
    "gender_paygap %>% mutate(across(starts_with(\"Q29\"), ~gsub(\"\\\\$\", \"\", .))) %>% count(Q29) %>% arrange(Q29)\n",
    "\n"
   ]
  },
  {
   "cell_type": "markdown",
   "metadata": {},
   "source": [
    "\n"
   ]
  },
  {
   "cell_type": "code",
   "execution_count": null,
   "metadata": {},
   "outputs": [],
   "source": [
    "gender_paygap %>% mutate(across(starts_with(\"Q29\"), ~gsub(\"\\\\$\", \"\", .))) %>% mutate(across(starts_with(\"Q29\"), ~gsub(\"\\\\,\", \"\", .))) %>% count(Q29) %>% arrange(Q29)\n",
    "\n"
   ]
  },
  {
   "cell_type": "markdown",
   "metadata": {},
   "source": [
    "\n"
   ]
  },
  {
   "cell_type": "code",
   "execution_count": null,
   "metadata": {},
   "outputs": [],
   "source": [
    "gender_paygap <- gender_paygap %>% mutate(across(starts_with(\"Q29\"), ~gsub(\"\\\\$\", \"\", .))) %>% mutate(across(starts_with(\"Q29\"), ~gsub(\"\\\\,\", \"\", .)))\n",
    "# stripping out \"$\" and \"commas\"\n"
   ]
  },
  {
   "cell_type": "markdown",
   "metadata": {},
   "source": [
    "\n"
   ]
  },
  {
   "cell_type": "code",
   "execution_count": null,
   "metadata": {},
   "outputs": [],
   "source": [
    "gender_paygap_range <- gender_paygap %>% separate(Q29, c(\"MINsal\", \"MAXsal\"))\n",
    "#string split by \"-\"\n"
   ]
  },
  {
   "cell_type": "markdown",
   "metadata": {},
   "source": [
    "\n"
   ]
  },
  {
   "cell_type": "code",
   "execution_count": null,
   "metadata": {},
   "outputs": [],
   "source": [
    "millionaires <- gender_paygap %>% filter(Q29 == \">1000000\")\n",
    "#as.numeric(gender_paygap_range$MINsal)\n"
   ]
  },
  {
   "cell_type": "markdown",
   "metadata": {},
   "source": [
    "\n"
   ]
  },
  {
   "cell_type": "code",
   "execution_count": null,
   "metadata": {},
   "outputs": [],
   "source": [
    "as.numeric(millionaires$Q29)\n",
    "#million+ earners would get NA-coerced by data type transformation\n"
   ]
  },
  {
   "cell_type": "markdown",
   "metadata": {},
   "source": [
    "\n"
   ]
  },
  {
   "cell_type": "code",
   "execution_count": null,
   "metadata": {},
   "outputs": [],
   "source": [
    "gender_paygap <- gender_paygap %>% filter(Q29 != \">1000000\")\n",
    "#remove millionaires\n"
   ]
  },
  {
   "cell_type": "markdown",
   "metadata": {},
   "source": [
    "\n"
   ]
  },
  {
   "cell_type": "code",
   "execution_count": null,
   "metadata": {},
   "outputs": [],
   "source": [
    "gender_paygap <- gender_paygap %>% separate(Q29, c(\"MINsal\", \"MAXsal\"))\n",
    "#string split\n",
    "gender_paygap$MINsal <- as.numeric(gender_paygap$MINsal)\n",
    "gender_paygap$MAXsal <- as.numeric(gender_paygap$MAXsal)\n",
    "#convert to numeric data\n"
   ]
  },
  {
   "cell_type": "markdown",
   "metadata": {},
   "source": [
    "\n"
   ]
  },
  {
   "cell_type": "code",
   "execution_count": null,
   "metadata": {},
   "outputs": [],
   "source": [
    "salary_data <- data.frame(gender_paygap)\n",
    "salary_data\n"
   ]
  },
  {
   "cell_type": "markdown",
   "metadata": {},
   "source": [
    "\n"
   ]
  },
  {
   "cell_type": "code",
   "execution_count": null,
   "metadata": {},
   "outputs": [],
   "source": [
    "gender_paygap %>% \n",
    "  mutate(\n",
    "    salary_range = paste0 (\n",
    "  format(MINsal, trim = TRUE),\n",
    "  \"-\", \n",
    "  MAXsal\n",
    "),\n",
    "salary_range = fct_reorder(salary_range, MINsal)\n",
    "  )\n",
    "\n",
    "gender_paygap <- gender_paygap %>% \n",
    "  mutate(\n",
    "    salary_range = paste0 (\n",
    "  format(MINsal, trim = TRUE),\n",
    "  \"-\", \n",
    "  MAXsal\n",
    "),\n",
    "salary_range = fct_reorder(salary_range, MINsal)\n",
    "  )\n",
    "\n",
    "#drop the NAs, then rename gender column\n",
    "gender_paygap <- gender_paygap %>% drop_na()\n",
    "gender_paygap <- gender_paygap %>% rename(\"gender\" =  \"Q3\")\n"
   ]
  },
  {
   "cell_type": "markdown",
   "metadata": {},
   "source": [
    "\n"
   ]
  },
  {
   "cell_type": "code",
   "execution_count": null,
   "metadata": {},
   "outputs": [],
   "source": [
    "gender_paygap %>% arrange(desc(salary_range))\n",
    "\n"
   ]
  },
  {
   "cell_type": "markdown",
   "metadata": {},
   "source": [
    "\n"
   ]
  },
  {
   "cell_type": "code",
   "execution_count": null,
   "metadata": {},
   "outputs": [],
   "source": [
    "aggr_gpg <- gender_paygap %>% group_by(gender) %>% count(salary_range)\n",
    "\n"
   ]
  },
  {
   "cell_type": "markdown",
   "metadata": {},
   "source": [
    "### Mock-up visualizations\n",
    "\n"
   ]
  },
  {
   "cell_type": "code",
   "execution_count": null,
   "metadata": {},
   "outputs": [],
   "source": [
    "ggplot(aggr_gpg, aes(x=salary_range, y=n, fill=gender)) +\n",
    "  \n",
    "geom_bar(data=subset(aggr_gpg, gender == \"Man\"), stat=\"identity\") +\n",
    "\n",
    "geom_bar(data=subset(aggr_gpg, gender == \"Woman\"), stat=\"identity\", aes(y=-n)) +\n",
    "  \n",
    "coord_flip() + scale_fill_manual(values=c(\"lightblue\", \"pink\"))\n",
    "         \n",
    " \n",
    "  \n"
   ]
  },
  {
   "cell_type": "markdown",
   "metadata": {},
   "source": [
    "\n"
   ]
  },
  {
   "cell_type": "code",
   "execution_count": null,
   "metadata": {},
   "outputs": [],
   "source": [
    " gender_paygap %>% group_by(gender) %>% summarise(count = n()/nrow(.))\n",
    "#gender ratio of gender_paygap df\n"
   ]
  },
  {
   "cell_type": "markdown",
   "metadata": {},
   "source": [
    "\n"
   ]
  },
  {
   "cell_type": "code",
   "execution_count": null,
   "metadata": {},
   "outputs": [],
   "source": [
    "gender_demo <- gender_paygap %>% group_by(gender) %>% summarise(percentage = round(n()/nrow(.),4)*100, lab.pos = cumsum(percentage)-.5*percentage)\n",
    "\n"
   ]
  },
  {
   "cell_type": "markdown",
   "metadata": {},
   "source": [
    "\n",
    "\n"
   ]
  },
  {
   "cell_type": "code",
   "execution_count": null,
   "metadata": {},
   "outputs": [],
   "source": [
    "ggplot(gender_demo, aes(x=1, y=percentage, fill=gender)) + \n",
    "  geom_bar(stat=\"identity\") +\n",
    "  coord_polar(\"y\", start = 0) +\n",
    "  geom_text(aes(y = lab.pos, label = paste(percentage,\"%\", sep = \"\")), col = \"white\") + theme_void() +\n",
    "  scale_fill_manual(values=c(\"lightblue\", \"lightpink\")) +\n",
    "  xlim(-1, 2.5)\n",
    "\n",
    "#ggsave(\"gender_demo_white.png\")\n"
   ]
  },
  {
   "cell_type": "markdown",
   "metadata": {},
   "source": [
    "\n",
    "\n"
   ]
  },
  {
   "cell_type": "code",
   "execution_count": null,
   "metadata": {},
   "outputs": [],
   "source": [
    "aggr_gpg2 <- gender_paygap %>% group_by(salary_range, gender) %>% summarise(n = n()) %>% mutate(freq = n /sum(n))\n",
    "\n"
   ]
  },
  {
   "cell_type": "markdown",
   "metadata": {},
   "source": [
    "\n"
   ]
  },
  {
   "cell_type": "code",
   "execution_count": null,
   "metadata": {},
   "outputs": [],
   "source": [
    "ggplot(aggr_gpg2, aes(x=salary_range, y=freq, fill=gender)) +\n",
    "  \n",
    "geom_bar(data=subset(aggr_gpg2, gender == \"Man\"), stat=\"identity\") +\n",
    "\n",
    "geom_bar(data=subset(aggr_gpg2, gender == \"Woman\"), stat=\"identity\", aes(y=-freq)) +\n",
    "\n",
    "geom_hline(yintercept = 0, linetype=\"dotted\", alpha=0.6) +\n",
    "\n",
    "# Accuracy of y-axis \n",
    "scale_y_continuous( labels=c(\"30%\",\"0%\",\"30%\",\"60%\",\"90%\"))  +\n",
    "  \n",
    "coord_flip() + scale_fill_manual(values=c(\"lightblue\", \"pink\")) + theme_minimal() +\n",
    "  \n",
    "labs(x = \"salary range (USD)\", y = \"percent share\")\n",
    "\n",
    "#ggsave(\"gendersalaryratio.png\")     \n"
   ]
  },
  {
   "cell_type": "markdown",
   "metadata": {},
   "source": [
    "\n"
   ]
  },
  {
   "cell_type": "code",
   "execution_count": null,
   "metadata": {},
   "outputs": [],
   "source": [
    "gender_paygap %>% group_by(salary_range, gender) %>% summarise(n = n()) %>% mutate(freq = n /sum(n))\n",
    "\n",
    "gender_paygap %>% group_by(gender) %>% summarise(n = n()) %>% mutate(freq = n /sum(n))\n",
    "#gender ratio and relative group percentage\n"
   ]
  },
  {
   "cell_type": "markdown",
   "metadata": {},
   "source": [
    "## Section A. Gender Dynamics\n",
    "\n",
    "### Part 2. Job role popularity\n",
    "\n",
    "#### Data prepping and manipulation\n"
   ]
  },
  {
   "cell_type": "code",
   "execution_count": null,
   "metadata": {},
   "outputs": [],
   "source": [
    "df1 %>% select(Q23) %>% count(Q23)\n",
    "\n"
   ]
  },
  {
   "cell_type": "markdown",
   "metadata": {},
   "source": [
    "\n",
    "\n"
   ]
  },
  {
   "cell_type": "code",
   "execution_count": null,
   "metadata": {},
   "outputs": [],
   "source": [
    "gender_job <- df1 %>% select(c(\"Q3\", \"Q23\"))\n",
    "gender_job <- gender_job %>% mutate_all(na_if, \"\")\n",
    "gender_job <- gender_job %>% filter(Q3 == \"Man\" | Q3 == \"Woman\")\n",
    "gender_job <- gender_job %>% filter(Q23 != \"Currently not employed\" & Q23 != \"Other\")\n",
    "gender_job <- gender_job %>% drop_na()\n",
    "#house cleaning code chunk\n",
    "\n",
    "gender_job <- gender_job %>% mutate(Q23 = replace(Q23, Q23 == \"Data Analyst (Business, Marketing, Financial, Quantitative, etc)\", \"Data Analyst\")) %>% mutate(Q23 = replace(Q23, Q23 == \"Manager (Program, Project, Operations, Executive-level, etc)\", \"Manager\")) \n",
    "#simplifying strings of some job roles\n",
    "\n",
    "gender_job <- gender_job %>% rename(\"gender\" = \"Q3\", \"job_title\" = \"Q23\")\n"
   ]
  },
  {
   "cell_type": "markdown",
   "metadata": {},
   "source": [
    "\n"
   ]
  },
  {
   "cell_type": "code",
   "execution_count": null,
   "metadata": {},
   "outputs": [],
   "source": [
    "gender_job %>% select(job_title) %>% count(job_title) %>% arrange(desc(n))\n",
    "\n"
   ]
  },
  {
   "cell_type": "markdown",
   "metadata": {},
   "source": [
    "##### Group statistics\n",
    "\n"
   ]
  },
  {
   "cell_type": "code",
   "execution_count": null,
   "metadata": {},
   "outputs": [],
   "source": [
    "gender_job %>% group_by(job_title) %>% summarise(n = n()) %>% mutate(freq = n /sum(n)) %>% arrange(desc(n))\n",
    "\n"
   ]
  },
  {
   "cell_type": "markdown",
   "metadata": {},
   "source": [
    "\n",
    "\n"
   ]
  },
  {
   "cell_type": "code",
   "execution_count": null,
   "metadata": {},
   "outputs": [],
   "source": [
    "gender_job_ratio <- gender_job %>% group_by(job_title, gender) %>% summarise(n = n()) %>% mutate(freq = n /sum(n))\n",
    "\n",
    "gender_job %>% group_by(job_title, gender) %>% summarise(n = n()) %>% mutate(freq = n /sum(n))\n"
   ]
  },
  {
   "cell_type": "markdown",
   "metadata": {},
   "source": [
    "\n",
    "### Mock-up visualization of gender-job ratio\n"
   ]
  },
  {
   "cell_type": "code",
   "execution_count": null,
   "metadata": {},
   "outputs": [],
   "source": [
    "ggplot(gender_job_ratio, aes(x=job_title, y=freq, fill=gender)) +\n",
    "  \n",
    "geom_bar(data=subset(gender_job_ratio, gender == \"Man\"), stat=\"identity\") +\n",
    "\n",
    "geom_bar(data=subset(gender_job_ratio, gender == \"Woman\"), stat=\"identity\", aes(y=-freq)) +\n",
    "\n",
    "geom_hline(yintercept = 0, linetype=\"dotted\", alpha=0.6) +\n",
    "# Accuracy of y-axis\n",
    "scale_y_continuous(breaks=c(-0.25,0,0.25,0.5,0.75),labels=c(\"25%\", \"0%\", \"25%\",\"50%\", \"75%\")) +\n",
    "\n",
    "coord_flip() + scale_fill_manual(values=c(\"lightblue\", \"pink\")) + theme_minimal() +\n",
    "  \n",
    "labs(x=\"job title\", y=\"percent share\")\n",
    "\n",
    "#ggsave(\"genderjobratio.png\")\n"
   ]
  },
  {
   "cell_type": "markdown",
   "metadata": {},
   "source": [
    "#### cloud computing exploration\n",
    "\n"
   ]
  },
  {
   "cell_type": "code",
   "execution_count": null,
   "metadata": {},
   "outputs": [],
   "source": [
    "cc_usage <- df1 %>% select(contains(c(\"Q31\")))\n",
    "\n"
   ]
  },
  {
   "cell_type": "markdown",
   "metadata": {},
   "source": [
    "\n",
    "\n"
   ]
  },
  {
   "cell_type": "code",
   "execution_count": null,
   "metadata": {},
   "outputs": [],
   "source": [
    "cc_enjoyability <- df1 %>% select(Q32)\n",
    "\n"
   ]
  },
  {
   "cell_type": "markdown",
   "metadata": {},
   "source": [
    "\n",
    "\n"
   ]
  },
  {
   "cell_type": "code",
   "execution_count": null,
   "metadata": {},
   "outputs": [],
   "source": [
    "cc_enjoyability %>% count(Q32) %>% arrange(desc(n))\n",
    "\n"
   ]
  },
  {
   "cell_type": "markdown",
   "metadata": {},
   "source": [
    "\n",
    "\n"
   ]
  },
  {
   "cell_type": "code",
   "execution_count": null,
   "metadata": {},
   "outputs": [],
   "source": [
    "cc_usage %>% gather(\"key\", \"value\") %>% group_by(value) %>% summarise(n=n()) %>% arrange(desc(n))\n",
    "\n"
   ]
  },
  {
   "cell_type": "markdown",
   "metadata": {},
   "source": [
    "## cc spending\n",
    "\n"
   ]
  },
  {
   "cell_type": "code",
   "execution_count": null,
   "metadata": {},
   "outputs": [],
   "source": [
    "cc_spending <- df1 %>% select(c(Q30, Q23))\n",
    "\n"
   ]
  },
  {
   "cell_type": "markdown",
   "metadata": {},
   "source": [
    "\n"
   ]
  },
  {
   "cell_type": "code",
   "execution_count": null,
   "metadata": {},
   "outputs": [],
   "source": [
    "df1 %>% select(contains(c(\"Q44\"))) %>% gather(\"key\", \"value\") %>% group_by(value) %>% summarise(n=n()) %>% arrange(desc(n))\n",
    "\n"
   ]
  },
  {
   "cell_type": "markdown",
   "metadata": {},
   "source": [
    " ### distribution of salary range\n",
    " \n"
   ]
  },
  {
   "cell_type": "code",
   "execution_count": null,
   "metadata": {},
   "outputs": [],
   "source": [
    "salary_range_dist <- gender_paygap %>% select(salary_range) %>% count(salary_range)\n",
    "\n"
   ]
  },
  {
   "cell_type": "markdown",
   "metadata": {},
   "source": [
    " \n",
    " \n",
    "\n",
    " \n"
   ]
  },
  {
   "cell_type": "code",
   "execution_count": null,
   "metadata": {},
   "outputs": [],
   "source": [
    "ggplot(salary_range_dist, aes(x=salary_range, y=n)) +\n",
    "\n",
    "  geom_col(fill=\"skyblue\") +\n",
    "  \n",
    "  coord_flip() + theme_minimal()\n"
   ]
  },
  {
   "cell_type": "markdown",
   "metadata": {},
   "source": [
    " \n",
    "\n",
    "\n",
    "plot above is skewed, need to consolidate to USA-only\n",
    "\n",
    "\n",
    "\n",
    "next, tidying up data\n"
   ]
  },
  {
   "cell_type": "code",
   "execution_count": null,
   "metadata": {},
   "outputs": [],
   "source": [
    "clean_sal <- df1 %>% select(c(\"Q4\",\"Q29\")) %>% mutate(across(starts_with(\"Q29\"), ~gsub(\"\\\\$\", \"\", .))) %>% mutate(across(starts_with(\"Q29\"), ~gsub(\"\\\\,\", \"\", .)))\n",
    "#strip out $ and commas\n",
    "\n",
    "clean_sal <- clean_sal  %>% filter(Q29 != \">1000000\")\n",
    "#remove millionaires\n",
    "\n",
    "clean_sal<- clean_sal %>% separate(Q29, c(\"MINsal\", \"MAXsal\"))\n",
    "#string split by \"-\"\n"
   ]
  },
  {
   "cell_type": "markdown",
   "metadata": {},
   "source": [
    "\n"
   ]
  },
  {
   "cell_type": "code",
   "execution_count": null,
   "metadata": {},
   "outputs": [],
   "source": [
    "clean_sal\n",
    "\n"
   ]
  },
  {
   "cell_type": "markdown",
   "metadata": {},
   "source": [
    "\n",
    "bind clean salaries\n"
   ]
  },
  {
   "cell_type": "code",
   "execution_count": null,
   "metadata": {},
   "outputs": [],
   "source": [
    "global_sal_range <- clean_sal\n",
    "\n"
   ]
  },
  {
   "cell_type": "markdown",
   "metadata": {},
   "source": [
    "\n",
    "\n"
   ]
  },
  {
   "cell_type": "code",
   "execution_count": null,
   "metadata": {},
   "outputs": [],
   "source": [
    "global_sal_range\n",
    "\n"
   ]
  },
  {
   "cell_type": "markdown",
   "metadata": {},
   "source": [
    "## Section A\n",
    "### Part 3. Salary Range Distribution\n"
   ]
  },
  {
   "cell_type": "code",
   "execution_count": null,
   "metadata": {},
   "outputs": [],
   "source": [
    "usa_sal_range <- global_sal_range %>% filter(Q4 == \"United States of America\")\n",
    "usa_sal_range <- usa_sal_range %>% drop_na()\n",
    "#drop na, then convert columns to numeric\n",
    "usa_sal_range$MINsal <- as.numeric(usa_sal_range$MINsal)\n",
    "usa_sal_range$MAXsal <- as.numeric(usa_sal_range$MAXsal)\n",
    "#after, create factor column corresponding to original salary range columns\n",
    "usa_sal_range <- usa_sal_range %>% \n",
    "  mutate(\n",
    "    salary_range = paste0 (\n",
    "  format(MINsal, trim = TRUE),\n",
    "  \"-\", \n",
    "  MAXsal\n",
    "),\n",
    "salary_range = fct_reorder(salary_range, MINsal)\n",
    "  )\n"
   ]
  },
  {
   "cell_type": "markdown",
   "metadata": {},
   "source": [
    "after all that, now we can attempt to visualize\n",
    "\n"
   ]
  },
  {
   "cell_type": "code",
   "execution_count": null,
   "metadata": {},
   "outputs": [],
   "source": [
    "usa_sal_range\n",
    "\n"
   ]
  },
  {
   "cell_type": "markdown",
   "metadata": {},
   "source": [
    "\n",
    "\n"
   ]
  },
  {
   "cell_type": "code",
   "execution_count": null,
   "metadata": {},
   "outputs": [],
   "source": [
    "usa_salary <- usa_sal_range %>% select(salary_range) %>% count(salary_range)\n",
    "\n",
    "ggplot(usa_salary, aes(x=salary_range, y=n)) +\n",
    "\n",
    "  geom_col(fill=\"skyblue\") +\n",
    "  \n",
    "  coord_flip() + theme_minimal() + labs(x=\"salary range, annual (USD)\", y=\"count\")\n"
   ]
  },
  {
   "cell_type": "markdown",
   "metadata": {},
   "source": [
    "\n"
   ]
  },
  {
   "cell_type": "code",
   "execution_count": null,
   "metadata": {},
   "outputs": [],
   "source": [
    "usa_salary\n",
    "\n"
   ]
  },
  {
   "cell_type": "markdown",
   "metadata": {},
   "source": [
    "\n",
    "\n"
   ]
  },
  {
   "cell_type": "code",
   "execution_count": null,
   "metadata": {},
   "outputs": [],
   "source": [
    "#filter for non-USA countries, then drop_na\n",
    "not_usa_salary <- global_sal_range %>% filter(Q4 != \"United States of America\")\n",
    "not_usa_salary <- not_usa_salary %>% drop_na()\n",
    "\n",
    "#convert to numeric dtype\n",
    "not_usa_salary$MINsal <- as.numeric(not_usa_salary$MINsal)\n",
    "not_usa_salary$MAXsal <- as.numeric(not_usa_salary$MAXsal)\n",
    "#after, create factor column corresponding to original salary range columns\n",
    "not_usa_salary <- not_usa_salary %>% \n",
    "  mutate(\n",
    "    salary_range = paste0 (\n",
    "  format(MINsal, trim = TRUE),\n",
    "  \"-\", \n",
    "  MAXsal\n",
    "),\n",
    "salary_range = fct_reorder(salary_range, MINsal)\n",
    "  )\n",
    "\n",
    "#convert values to \"rest of world\"\n",
    "not_usa_salary['Q4'] <- \"Rest of World\"\n"
   ]
  },
  {
   "cell_type": "markdown",
   "metadata": {},
   "source": [
    "\n",
    "\n"
   ]
  },
  {
   "cell_type": "code",
   "execution_count": null,
   "metadata": {},
   "outputs": [],
   "source": [
    "#combine the two dataframes by row (not by column)\n",
    "usa_v_row_sal <- rbind(usa_sal_range, not_usa_salary)\n"
   ]
  },
  {
   "cell_type": "markdown",
   "metadata": {},
   "source": [
    "\n"
   ]
  },
  {
   "cell_type": "code",
   "execution_count": null,
   "metadata": {},
   "outputs": [],
   "source": [
    "usa_v_row_sal <- usa_v_row_sal %>% rename(\"country\" = \"Q4\")\n",
    "\n"
   ]
  },
  {
   "cell_type": "markdown",
   "metadata": {},
   "source": [
    "\n"
   ]
  },
  {
   "cell_type": "code",
   "execution_count": null,
   "metadata": {},
   "outputs": [],
   "source": [
    "usa_v_row_sal\n",
    "\n"
   ]
  },
  {
   "cell_type": "markdown",
   "metadata": {},
   "source": [
    "attempt to plot histogram with USA salary range vs Rest of World\n",
    "\n"
   ]
  },
  {
   "cell_type": "code",
   "execution_count": null,
   "metadata": {},
   "outputs": [],
   "source": [
    "ggplot(usa_v_row_sal, aes(x=salary_range, fill=country, color=country)) +\n",
    "  \n",
    "  geom_bar(color=\"white\", width=1, linewidth=0) + coord_flip() + theme_minimal() +\n",
    "  \n",
    "  scale_fill_manual(values=c(\"grey90\",\"skyblue\")) + \n",
    "  \n",
    "  labs(x=\"salary range, annual (USD)\", y=\"count\") +\n",
    "  theme(panel.grid.major = element_blank(),\n",
    "        panel.grid.minor = element_blank(),\n",
    "        legend.position = c(0.87, 0.25))\n",
    "\n",
    "ggsave(\"salary_distribution.png\")\n"
   ]
  },
  {
   "cell_type": "markdown",
   "metadata": {},
   "source": [
    "## Section B. Job Dynamics\n",
    "\n",
    "### Part 1.Salary Range Density, by Job title, by Gender\n"
   ]
  },
  {
   "cell_type": "code",
   "execution_count": null,
   "metadata": {},
   "outputs": [],
   "source": [
    "gender_job\n",
    "\n",
    "gender_paygap\n"
   ]
  },
  {
   "cell_type": "markdown",
   "metadata": {},
   "source": [
    "\n",
    "\n"
   ]
  },
  {
   "cell_type": "code",
   "execution_count": null,
   "metadata": {},
   "outputs": [],
   "source": [
    "salrange_density <- df1 %>% select(\"Q3\",\"Q4\", \"Q23\", \"Q29\")\n",
    "\n"
   ]
  },
  {
   "cell_type": "markdown",
   "metadata": {},
   "source": [
    "\n",
    "\n"
   ]
  },
  {
   "cell_type": "code",
   "execution_count": null,
   "metadata": {},
   "outputs": [],
   "source": [
    "salrange_density <- salrange_density %>% \n",
    "  #filter(Q4 == \"United States of America\") %>% #filter to US salaries only\n",
    "  filter(Q3 == \"Man\" | Q3 == \"Woman\") %>% #confine to man/woman\n",
    "  filter(Q23 != \"Currently not employed\" & Q23 != \"Other\") %>% #remove unemployed/other\n",
    "  filter(Q29 != \">$1,000,000\") %>% #remove millionaires \n",
    "  mutate_all(na_if, \"\") #fill blank data with NA\n"
   ]
  },
  {
   "cell_type": "markdown",
   "metadata": {},
   "source": [
    "\n",
    "\n"
   ]
  },
  {
   "cell_type": "code",
   "execution_count": null,
   "metadata": {},
   "outputs": [],
   "source": [
    "salrange_density <- salrange_density %>% filter_at(vars(Q23, Q29), all_vars(!is.na(.))) \n",
    "#remove incomplete rows (left with ~7,000 rows)\n",
    "\n",
    "\n",
    "salrange_density <- salrange_density %>% mutate(Q23 = replace(Q23, Q23 == \"Data Analyst (Business, Marketing, Financial, Quantitative, etc)\", \"Data Analyst\")) %>% mutate(Q23 = replace(Q23, Q23 == \"Manager (Program, Project, Operations, Executive-level, etc)\", \"Manager\")) \n",
    "#simplifying strings of some job roles\n"
   ]
  },
  {
   "cell_type": "markdown",
   "metadata": {},
   "source": [
    "\n",
    "\n"
   ]
  },
  {
   "cell_type": "code",
   "execution_count": null,
   "metadata": {},
   "outputs": [],
   "source": [
    "#split salary range column(Q29), turn to numeric dtype, then add factor type column\n",
    "salrange_density <- salrange_density  %>% mutate(across(starts_with(\"Q29\"), ~gsub(\"\\\\$\", \"\", .))) %>% mutate(across(starts_with(\"Q29\"), ~gsub(\"\\\\,\", \"\", .)))\n",
    "#strip out $ and commas\n",
    "\n",
    "salrange_density <- salrange_density %>% separate(Q29, c(\"MINsal\", \"MAXsal\"))\n",
    "#string split\n",
    "\n",
    "salrange_density$MINsal <- as.numeric(salrange_density$MINsal)\n",
    "salrange_density$MAXsal <- as.numeric(salrange_density$MAXsal)\n",
    "#as numeric conversion\n",
    "\n",
    "salrange_density <- salrange_density %>% \n",
    "  mutate(\n",
    "    salary_range = paste0 (\n",
    "  format(MINsal, trim = TRUE),\n",
    "  \"-\", \n",
    "  MAXsal\n",
    "),\n",
    "salary_range = fct_reorder(salary_range, MINsal)\n",
    "  )\n",
    "#re-combine newly separated column and create a corresponding factor column\n"
   ]
  },
  {
   "cell_type": "markdown",
   "metadata": {},
   "source": [
    "\n",
    "\n"
   ]
  },
  {
   "cell_type": "code",
   "execution_count": null,
   "metadata": {},
   "outputs": [],
   "source": [
    "salrange_density <- salrange_density %>% rename(\"gender\" = \"Q3\", \"job_title\" = \"Q23\")\n",
    "\n"
   ]
  },
  {
   "cell_type": "markdown",
   "metadata": {},
   "source": [
    "\n"
   ]
  },
  {
   "cell_type": "code",
   "execution_count": null,
   "metadata": {},
   "outputs": [],
   "source": [
    "head(salrange_density)\n",
    "\n"
   ]
  },
  {
   "cell_type": "markdown",
   "metadata": {},
   "source": [
    "\n"
   ]
  },
  {
   "cell_type": "code",
   "execution_count": null,
   "metadata": {},
   "outputs": [],
   "source": [
    "#col_grid <- rgb(235, 235, 235, 100, maxColorValue = 300)\n",
    "\n"
   ]
  },
  {
   "cell_type": "markdown",
   "metadata": {},
   "source": [
    "visualization attempt\n",
    "\n"
   ]
  },
  {
   "cell_type": "code",
   "execution_count": null,
   "metadata": {},
   "outputs": [],
   "source": [
    "ggplot(salrange_density, aes(x=job_title, y=salary_range)) +\n",
    "  \n",
    "  geom_jitter(aes(colour=gender), height = 0.3, width = 0.3, alpha=0.8)+\n",
    "  \n",
    "  scale_color_manual(values=c(\"deepskyblue\",\"deeppink\")) +\n",
    "  \n",
    "  theme(axis.text.x = element_text(angle = 45, hjust=1),\n",
    "        axis.text = element_text(size=rel(1.5)),\n",
    "        axis.title = element_text(size=rel(1.5), face=\"bold\"),\n",
    "        panel.background = element_rect(fill = 'black'),\n",
    "        panel.grid.major = element_line(color = \"grey\", linetype = 'dotted')) +\n",
    "  \n",
    "   labs(x=\"job title\", y=\"salary range, annual (USD)\")\n",
    "  \n",
    "  #theme_bw()\n",
    "\n",
    "#ggsave(\"nightUSsalary_density.png\", width = 8000, height = 4000, units=\"px\")\n"
   ]
  },
  {
   "cell_type": "markdown",
   "metadata": {},
   "source": [
    "\n",
    "\n"
   ]
  },
  {
   "cell_type": "code",
   "execution_count": null,
   "metadata": {},
   "outputs": [],
   "source": [
    "ggplot(salrange_density, aes(x=job_title, y=salary_range)) +\n",
    "  \n",
    "  geom_jitter(aes(colour=gender), height = 0.3, width = 0.3, alpha=0.8)+\n",
    "  \n",
    "  scale_color_manual(values=c(\"deepskyblue\",\"deeppink\")) +\n",
    "  \n",
    "   labs(x=\"job title\", y=\"salary range, annual (USD)\") +\n",
    "  \n",
    "  theme_minimal() +\n",
    "  \n",
    "  theme(axis.text.x = element_text(angle = 45, hjust=1),\n",
    "        axis.text = element_text(size=rel(2)),\n",
    "        axis.title = element_text(size=rel(1)))\n",
    "\n",
    "#ggsave(\"whiteUSsalary_density.png\", width = 7000, height = 4096, units=\"px\")\n"
   ]
  },
  {
   "cell_type": "markdown",
   "metadata": {},
   "source": [
    "#### scatter brain \n",
    "\n",
    "##### Part 1. gender ratiod donut chart\n"
   ]
  },
  {
   "cell_type": "code",
   "execution_count": null,
   "metadata": {},
   "outputs": [],
   "source": [
    "df1 %>% select(Q2) %>% gather(\"key\", \"value\") %>% group_by(value) %>% summarise(n=n()) %>% arrange((value))\n",
    "\n"
   ]
  },
  {
   "cell_type": "markdown",
   "metadata": {},
   "source": [
    "\n",
    "\n"
   ]
  },
  {
   "cell_type": "code",
   "execution_count": null,
   "metadata": {},
   "outputs": [],
   "source": [
    "age_demo <- df1 %>% select(Q2) %>% gather(\"key\", \"value\") %>% group_by(value) %>% summarise(n=n()) %>% arrange((value))\n",
    "\n"
   ]
  },
  {
   "cell_type": "markdown",
   "metadata": {},
   "source": [
    "\n"
   ]
  },
  {
   "cell_type": "code",
   "execution_count": null,
   "metadata": {},
   "outputs": [],
   "source": [
    "ggplot(age_demo, aes(x=n, y=value)) +\n",
    "  geom_col(fill=\"gold\") +\n",
    "  scale_x_continuous(expand = c(0, 0)) + \n",
    "  scale_x_reverse() +\n",
    "  scale_y_discrete(position=\"right\") +\n",
    "  geom_vline(xintercept = 0, linetype=\"dashed\") +\n",
    "  theme_minimal() +\n",
    "  labs(x=\"count\", y=\"\") +\n",
    "  theme(panel.grid.major = element_blank(),\n",
    "        panel.grid.minor = element_blank())\n",
    "\n",
    "#ggsave(\"age_demographics.png\")\n"
   ]
  },
  {
   "cell_type": "markdown",
   "metadata": {},
   "source": [
    "\n",
    "\n"
   ]
  },
  {
   "cell_type": "code",
   "execution_count": null,
   "metadata": {},
   "outputs": [],
   "source": [
    "age_demo\n",
    "\n"
   ]
  },
  {
   "cell_type": "markdown",
   "metadata": {},
   "source": [
    "\n",
    "##### Part 2. programming donutchart\n"
   ]
  },
  {
   "cell_type": "code",
   "execution_count": null,
   "metadata": {},
   "outputs": [],
   "source": [
    "df1 %>% select(contains(\"Q12_\")) %>% gather(\"key\", \"value\") %>% mutate_all(na_if, \"\") %>% drop_na() %>% group_by(value) %>% summarise(n=n()) %>% arrange(desc(n))\n",
    "\n"
   ]
  },
  {
   "cell_type": "markdown",
   "metadata": {},
   "source": [
    "\n",
    "\n"
   ]
  },
  {
   "cell_type": "code",
   "execution_count": null,
   "metadata": {},
   "outputs": [],
   "source": [
    "pop_language <- df1 %>% select(contains(\"Q12_\")) %>% gather(\"key\", \"value\") %>% mutate_all(na_if, \"\") %>% drop_na() %>% group_by(value) %>% summarise(n=n()) %>% arrange(desc(n))\n",
    "\n"
   ]
  },
  {
   "cell_type": "markdown",
   "metadata": {},
   "source": [
    "\n",
    "reformat keys to simplify our donut chart\n"
   ]
  },
  {
   "cell_type": "code",
   "execution_count": null,
   "metadata": {},
   "outputs": [],
   "source": [
    "pop_language <- pop_language %>% mutate(value = ifelse(n < 3000, \"Other*\", value)) %>% group_by(value) %>% summarise(n = sum(n)) %>% arrange(desc(n))\n",
    "\n"
   ]
  },
  {
   "cell_type": "markdown",
   "metadata": {},
   "source": [
    "\n",
    "\n"
   ]
  },
  {
   "cell_type": "code",
   "execution_count": null,
   "metadata": {},
   "outputs": [],
   "source": [
    "pop_language\n",
    "\n"
   ]
  },
  {
   "cell_type": "markdown",
   "metadata": {},
   "source": [
    "\n",
    "\n"
   ]
  },
  {
   "cell_type": "code",
   "execution_count": null,
   "metadata": {},
   "outputs": [],
   "source": [
    "pop_language$fraction <- pop_language$n / sum(pop_language$n)\n",
    "\n",
    "pop_language$ymax <- cumsum(pop_language$fraction)\n",
    "\n",
    "pop_language$ymin <- c(0, head(pop_language$ymax, n=-1))\n",
    "\n",
    "# Compute label position\n",
    "pop_language$labelPosition <- (pop_language$ymax + pop_language$ymin) / 2\n",
    "\n",
    "pop_language$label <- paste0(pop_language$category, \"\\n value: \", pop_language$count)\n"
   ]
  },
  {
   "cell_type": "markdown",
   "metadata": {},
   "source": [
    "\n",
    "making the plot\n"
   ]
  },
  {
   "cell_type": "code",
   "execution_count": null,
   "metadata": {},
   "outputs": [],
   "source": [
    "ggplot(pop_language, aes(ymax=ymax, ymin=ymin, xmax=4, xmin=3, fill=value)) +\n",
    "  geom_rect() +\n",
    "  geom_label(x=3.5, aes(y=labelPosition, label=value)) +\n",
    "  #geom_label( x=3.5, aes(y=labelPosition, label=label), size=6) +\n",
    "  scale_fill_brewer(palette= \"Set2\") +\n",
    "  coord_polar(theta=\"y\") +\n",
    "  xlim(c(0, 4)) +\n",
    "  theme_void() +\n",
    "  theme(legend.position = \"none\") +\n",
    "  labs(caption=\"*Other includes: C#, MATLAB, Bash, PHP, Go, and Julia\")\n",
    "\n",
    "#ggsave(\"donutchart_lang.png\")\n"
   ]
  },
  {
   "cell_type": "markdown",
   "metadata": {},
   "source": [
    "\n",
    "\n"
   ]
  },
  {
   "cell_type": "code",
   "execution_count": null,
   "metadata": {},
   "outputs": [],
   "source": [
    "pop_language\n",
    "\n"
   ]
  },
  {
   "cell_type": "markdown",
   "metadata": {},
   "source": [
    "\n",
    "\n"
   ]
  }
 ],
 "metadata": {
  "anaconda-cloud": "",
  "kernelspec": {
   "display_name": "R",
   "language": "R",
   "name": "ir"
  },
  "language_info": {
   "codemirror_mode": "r",
   "file_extension": ".r",
   "mimetype": "text/x-r-source",
   "name": "R",
   "pygments_lexer": "r",
   "version": "3.5.1"
  }
 },
 "nbformat": 4,
 "nbformat_minor": 1
}
