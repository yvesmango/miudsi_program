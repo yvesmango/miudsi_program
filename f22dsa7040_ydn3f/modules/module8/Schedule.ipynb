{
 "cells": [
  {
   "cell_type": "markdown",
   "metadata": {},
   "source": [
    "# Module Eight: Storytelling with Visualizations\n",
    "\n",
    "## Topics covered\n",
    "   - Data Storytelling\n",
    "   - Narrative Visualizations \n",
    "   - Final Project\n",
    "     - Creating a narrative visualization\n",
    " \n",
    "\n",
    "\n",
    "## Notebook Shortcuts\n",
    "\n",
    "### Labs\n",
    "- [Data Storytelling](labs/L8_DataViz_Storytelling.ipynb)\n",
    "- No slides.\n",
    "\n",
    "\n",
    "### Practices\n",
    "- No practice.\n",
    "\n",
    "\n",
    "### Exercises\n",
    "- [L8 Exercise](exercises/L8_Exercise.ipynb)\n",
    "\n",
    "\n",
    "\n",
    "## Suggested Schedule\n",
    "\n",
    "### Saturday-Saturday \n",
    "- **Lab Notebook**: L8_DataViz_Storytelling.ipynb\n",
    "- **Exercise**: L8_Exercise.ipynb **Final Project**\n"
   ]
  }
 ],
 "metadata": {
  "kernelspec": {
   "display_name": "Python 3",
   "language": "python",
   "name": "python3"
  },
  "language_info": {
   "codemirror_mode": {
    "name": "ipython",
    "version": 3
   },
   "file_extension": ".py",
   "mimetype": "text/x-python",
   "name": "python",
   "nbconvert_exporter": "python",
   "pygments_lexer": "ipython3",
   "version": "3.7.3"
  }
 },
 "nbformat": 4,
 "nbformat_minor": 1
}
