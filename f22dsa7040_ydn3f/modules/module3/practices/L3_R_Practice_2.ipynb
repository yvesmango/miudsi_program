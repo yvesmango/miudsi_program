{
 "cells": [
  {
   "cell_type": "markdown",
   "metadata": {},
   "source": [
    "# Module 3 R Practice 2"
   ]
  },
  {
   "cell_type": "markdown",
   "metadata": {},
   "source": [
    "In this notebook, we will do more practices of creating plots to explore data. "
   ]
  },
  {
   "cell_type": "markdown",
   "metadata": {},
   "source": [
    "### References for plotting in R\n",
    "\n",
    "\n",
    "* **Reference** [ggplot documentation](https://ggplot2.tidyverse.org/reference/)\n",
    "* **Reference** [R ggplot package](https://cran.r-project.org/web/packages/ggplot2/ggplot2.pdf)\n",
    "* **Reference** [R ggplot cheatsheet](https://github.com/rstudio/cheatsheets/blob/master/data-visualization-2.1.pdf)\n",
    "* **Reference** Nice ggplot examples: [example 1](https://www.bioss.ac.uk/people/helen/ggplot2Intro.html), [example 2](http://rstudio-pubs-static.s3.amazonaws.com/284329_c7e660636fec4a42a09eed968dc47f32.html)\n",
    "* **Reference** [R color cheatsheet](http://www.guianaplants.stir.ac.uk/seminar/materials/colorPaletteCheatsheet.pdf)\n",
    "\n",
    "---"
   ]
  },
  {
   "cell_type": "code",
   "execution_count": 1,
   "metadata": {},
   "outputs": [],
   "source": [
    "library(ggplot2)"
   ]
  },
  {
   "cell_type": "markdown",
   "metadata": {},
   "source": [
    "**Let's create some plots with the `iris` data set.** "
   ]
  },
  {
   "cell_type": "code",
   "execution_count": null,
   "metadata": {},
   "outputs": [],
   "source": [
    "str(iris)\n",
    "head(iris)"
   ]
  },
  {
   "cell_type": "code",
   "execution_count": null,
   "metadata": {},
   "outputs": [],
   "source": [
    "# start with a simple scatter plot: \n",
    "\n",
    "iris1 <- ggplot(data=iris, aes(x=Sepal.Length, y=Sepal.Width)) \n",
    "iris1 + geom_point()"
   ]
  },
  {
   "cell_type": "markdown",
   "metadata": {},
   "source": [
    "**YOUR TURN: Add color and shape aesthetics to the geom_point() so that Species are visualized by both visual channels:**"
   ]
  },
  {
   "cell_type": "code",
   "execution_count": null,
   "metadata": {},
   "outputs": [],
   "source": [
    "iris1 + geom_point(aes(<YOUR CODE>))"
   ]
  },
  {
   "cell_type": "markdown",
   "metadata": {},
   "source": [
    "**Let's make this plot nicer:** Let's add nice labels and make it visually more pleasing. We can also add lines to show the mean values. "
   ]
  },
  {
   "cell_type": "code",
   "execution_count": null,
   "metadata": {},
   "outputs": [],
   "source": [
    "iris2 <- iris1 + geom_point(aes(<YOUR CODE>), size=3, alpha=0.6) + \n",
    "\n",
    "                 geom_vline(aes(xintercept = mean(Sepal.Length)), color = \"black\", linetype = \"dashed\") +\n",
    "                 geom_hline(aes(yintercept = mean(Sepal.Width)), color = \"black\", linetype = \"dashed\") +\n",
    "\n",
    "                theme_minimal() + \n",
    "                labs(x=\"Sepal Length\", y=\"Sepal Width\") +\n",
    "                theme(aspect.ratio=0.7)\n",
    "iris2"
   ]
  },
  {
   "cell_type": "markdown",
   "metadata": {},
   "source": [
    "A scatter plot can show the distribution of data points for two dimensions (data atttributes). \n",
    "\n",
    "\n",
    "\n",
    "**Let's do a boxplot to see if attribute distributions are separable among the species.** Boxplots are good to visualize some descriptive statistics. "
   ]
  },
  {
   "cell_type": "code",
   "execution_count": null,
   "metadata": {},
   "outputs": [],
   "source": [
    "iris3 <- ggplot(data=iris, aes(x=Species, y=Sepal.Length)) + geom_boxplot()\n",
    "iris3"
   ]
  },
  {
   "cell_type": "markdown",
   "metadata": {},
   "source": [
    "### YOUR TURN: \n",
    "Create the boxplots for the remaining three attributes, add fill aesthetic to the boxplot to fill the boxes colored by the Species. Also, we will make the plots look nice."
   ]
  },
  {
   "cell_type": "code",
   "execution_count": null,
   "metadata": {},
   "outputs": [],
   "source": [
    "\n",
    "iris4 <- <YOUR CODE>\n",
    "iris4"
   ]
  },
  {
   "cell_type": "code",
   "execution_count": null,
   "metadata": {},
   "outputs": [],
   "source": [
    "\n",
    "iris5 <- <YOUR CODE>\n",
    "iris5"
   ]
  },
  {
   "cell_type": "code",
   "execution_count": null,
   "metadata": {},
   "outputs": [],
   "source": [
    "\n",
    "iris6 <- <YOUR CODE>\n",
    "iris6"
   ]
  },
  {
   "cell_type": "markdown",
   "metadata": {},
   "source": [
    "**Now, let's look at histograms:** Let's plot a histogram of Sepal.Width attribute. "
   ]
  },
  {
   "cell_type": "code",
   "execution_count": null,
   "metadata": {},
   "outputs": [],
   "source": [
    "iris7 <-  ggplot(data=iris, aes(x=Sepal.Width)) + geom_histogram(binwidth=0.2)\n",
    "iris7"
   ]
  },
  {
   "cell_type": "code",
   "execution_count": null,
   "metadata": {},
   "outputs": [],
   "source": [
    "# We can also fill histograms by Species\n",
    "\n",
    "iris7 <-  ggplot(data=iris, aes(x=Sepal.Width)) + geom_histogram(binwidth=0.2, color=\"black\", aes(fill=Species))\n",
    "iris7"
   ]
  },
  {
   "cell_type": "markdown",
   "metadata": {},
   "source": [
    "The histogram above gives some idea about the species' sepal width distribution, but we can do better than this. \n",
    "\n",
    "\n",
    "**YOUR TURN: create histograms for the remaining three attributes, make them look nice.**\n"
   ]
  },
  {
   "cell_type": "code",
   "execution_count": null,
   "metadata": {
    "scrolled": false
   },
   "outputs": [],
   "source": [
    "## YOUR CODE HERE \n",
    "\n",
    "iris8 <- <YOUR CODE>\n",
    "iris8 \n",
    "\n",
    "iris9 <- <YOUR CODE>\n",
    "iris9\n",
    "\n",
    "iris10 <-<YOUR CODE>\n",
    "iris10 \n",
    "\n"
   ]
  },
  {
   "cell_type": "markdown",
   "metadata": {},
   "source": [
    "**We can add density plot on top of the histogram as we have seen in the first practice notebook.** It is a nicer visualization of distribution. "
   ]
  },
  {
   "cell_type": "code",
   "execution_count": null,
   "metadata": {},
   "outputs": [],
   "source": [
    "density <- ggplot(data=iris, aes(x=Sepal.Width))\n",
    "density + geom_histogram(binwidth=0.2, color=\"black\", fill=\"steelblue\", aes(y=..density..)) +\n",
    "  geom_density(alpha=0.2,  fill=\"blue\") "
   ]
  },
  {
   "cell_type": "markdown",
   "metadata": {},
   "source": [
    "**We can also visualize per species, but it is getting CROWDED.** "
   ]
  },
  {
   "cell_type": "code",
   "execution_count": null,
   "metadata": {},
   "outputs": [],
   "source": [
    "density <- ggplot(data=iris, aes(x=Sepal.Width, fill=Species))\n",
    "density + geom_histogram(binwidth=0.2, color=\"black\", aes(y=0.3*(..density..)), alpha=0.7) +\n",
    "  geom_density(alpha=0.2) "
   ]
  },
  {
   "cell_type": "markdown",
   "metadata": {},
   "source": [
    "**Let's do a density plot of the Sepal.Width attribute for all species:**"
   ]
  },
  {
   "cell_type": "code",
   "execution_count": null,
   "metadata": {},
   "outputs": [],
   "source": [
    "density2 <- ggplot(data=iris, aes(x=Sepal.Width, fill=Species)) +\n",
    "            geom_density(alpha=0.2) +\n",
    "            theme_minimal() + \n",
    "            theme(legend.position = \"none\")\n",
    "density2"
   ]
  },
  {
   "cell_type": "markdown",
   "metadata": {},
   "source": [
    "This gives a better idea of the distributions. It seems like Sepal.Width is not a good attribute to separate the three species. "
   ]
  },
  {
   "cell_type": "markdown",
   "metadata": {},
   "source": [
    "---\n",
    "\n",
    "### More Advanced Plots\n",
    "\n",
    "\n",
    "We can add layers of plots in a ggplot object by adding new geom objects. The following plot shows both boxplot and scatter plot on the same graph. "
   ]
  },
  {
   "cell_type": "code",
   "execution_count": null,
   "metadata": {},
   "outputs": [],
   "source": [
    "iris_j <- ggplot(data=iris, aes(x=Species, y=Petal.Width)) + geom_boxplot(aes(fill=Species)) + \n",
    "         geom_jitter(aes(fill=Species), color=\"black\", shape=21, alpha=0.2, size=2) + \n",
    "         theme_minimal() + \n",
    "         labs(title=\"Iris\", x=\"Species\", y=\"Petal Width\") +\n",
    "         theme(aspect.ratio=0.7, plot.title = element_text(size= 24, hjust=0.5))\n",
    "iris_j"
   ]
  },
  {
   "cell_type": "markdown",
   "metadata": {},
   "source": [
    "This is a nice way of visualizing some descriptive statistics and data points themselves. \n",
    "\n",
    "\n",
    "**YOUR TURN: The order of geoms matter:** swap jitter and boxplot to see how it will look like:  "
   ]
  },
  {
   "cell_type": "code",
   "execution_count": null,
   "metadata": {},
   "outputs": [],
   "source": [
    "iris_j <- ggplot(data=iris, aes(x=Species, y=Petal.Width)) +\n",
    "         \n",
    "          <YOUR CODE>\n",
    "\n",
    "iris_j"
   ]
  },
  {
   "cell_type": "markdown",
   "metadata": {},
   "source": [
    "**YOUR TURN: Now, create a density plot for the Sepal.Length attribute similar to `density2` plot above.**"
   ]
  },
  {
   "cell_type": "code",
   "execution_count": null,
   "metadata": {},
   "outputs": [],
   "source": [
    "density3 <- <YOUR CODE>\n",
    "\n",
    "density3"
   ]
  },
  {
   "cell_type": "markdown",
   "metadata": {},
   "source": [
    "**Now, we have three plots which we can arrange into a grid to show the distribution of data points.** \n",
    "\n",
    "First, we will modify `iris2` ggplot object:"
   ]
  },
  {
   "cell_type": "code",
   "execution_count": null,
   "metadata": {},
   "outputs": [],
   "source": [
    "iris_t <- iris2 +  theme(legend.position=c(1,1),legend.justification=c(1,1)) \n",
    "iris_t"
   ]
  },
  {
   "cell_type": "markdown",
   "metadata": {},
   "source": [
    "Then, we will flip `density2` object:"
   ]
  },
  {
   "cell_type": "code",
   "execution_count": null,
   "metadata": {},
   "outputs": [],
   "source": [
    "density2_f <- density2 + coord_flip() "
   ]
  },
  {
   "cell_type": "markdown",
   "metadata": {},
   "source": [
    "To do a 2x2 grid with three plots, we need one \"empty\" plot: "
   ]
  },
  {
   "cell_type": "code",
   "execution_count": null,
   "metadata": {},
   "outputs": [],
   "source": [
    "# Empty plot\n",
    "empty <- ggplot()+geom_point(aes(1,1), color=\"white\") +\n",
    "theme(                              \n",
    "plot.background = element_blank(), \n",
    "panel.grid.major = element_blank(), \n",
    "panel.grid.minor = element_blank(), \n",
    "panel.border = element_blank(), \n",
    "panel.background = element_blank(),\n",
    "axis.title.x = element_blank(),\n",
    "axis.title.y = element_blank(),\n",
    "axis.text.x = element_blank(),\n",
    "axis.text.y = element_blank(),\n",
    "axis.ticks = element_blank()\n",
    ")"
   ]
  },
  {
   "cell_type": "markdown",
   "metadata": {},
   "source": [
    "**Now, we can arrange these three plots in a grid:"
   ]
  },
  {
   "cell_type": "code",
   "execution_count": null,
   "metadata": {},
   "outputs": [],
   "source": [
    "library(gridExtra)"
   ]
  },
  {
   "cell_type": "code",
   "execution_count": null,
   "metadata": {},
   "outputs": [],
   "source": [
    "grid.arrange(density3, empty, iris_t, density2_f, ncol=2, nrow=2, widths=c(4, 1), heights=c(1, 4))"
   ]
  },
  {
   "cell_type": "markdown",
   "metadata": {},
   "source": [
    "## YOUR TURN:\n",
    "**Create a similar plot like above for Petal.Width and Petal.Length.**"
   ]
  },
  {
   "cell_type": "code",
   "execution_count": null,
   "metadata": {},
   "outputs": [],
   "source": [
    "# YOUR CODE HERE\n",
    "\n",
    "# do the scatter plot first,\n",
    "\n",
    "iris_petal_scatter <- <YOUR CODE>\n",
    "\n",
    "iris_petal_scatter "
   ]
  },
  {
   "cell_type": "code",
   "execution_count": null,
   "metadata": {},
   "outputs": [],
   "source": [
    "# then, the two density plots, \n",
    "\n",
    "density_petal_length <- <YOUR CODE>\n",
    "density_petal_length\n",
    "\n",
    "density_petal_width <-  <YOUR CODE>\n",
    "density_petal_width\n",
    "\n"
   ]
  },
  {
   "cell_type": "code",
   "execution_count": null,
   "metadata": {},
   "outputs": [],
   "source": [
    "# then, use the same empty plot and arrange them to a grid. \n",
    "grid.arrange(density_petal_length, empty, iris_petal_scatter, density_petal_width, ncol=2, nrow=2, widths=c(4, 1), heights=c(1, 4))"
   ]
  },
  {
   "cell_type": "markdown",
   "metadata": {},
   "source": [
    "### Which species can be easily separated from the others? "
   ]
  }
 ],
 "metadata": {
  "anaconda-cloud": {},
  "kernelspec": {
   "display_name": "R",
   "language": "R",
   "name": "ir"
  },
  "language_info": {
   "codemirror_mode": "r",
   "file_extension": ".r",
   "mimetype": "text/x-r-source",
   "name": "R",
   "pygments_lexer": "r",
   "version": "3.5.1"
  }
 },
 "nbformat": 4,
 "nbformat_minor": 1
}
