{
 "cells": [
  {
   "cell_type": "markdown",
   "metadata": {},
   "source": [
    "# Module 1 Practice: Anscombe's Quartet\n",
    "\n",
    "In this practice, we will recreate the Anscombe's Quartet visualization using ggplot2 functionality. Following is the statistics and the graphics we have seen in the lab notebook."
   ]
  },
  {
   "cell_type": "markdown",
   "metadata": {},
   "source": [
    "\n",
    "<img src=\"../images/AnscombeStats.png\">\n",
    "\n",
    "<img src=\"../images/AnscombeGraph.png\">\n",
    "\n",
    "We will use the **`ggplot2`** library which has many useful functions to create nice plots and graphics. We will also use some other libraries to help with the layout. "
   ]
  },
  {
   "cell_type": "code",
   "execution_count": 1,
   "metadata": {},
   "outputs": [
    {
     "data": {
      "text/html": [
       "<table>\n",
       "<caption>A data.frame: 11 × 8</caption>\n",
       "<thead>\n",
       "\t<tr><th scope=col>x1</th><th scope=col>x2</th><th scope=col>x3</th><th scope=col>x4</th><th scope=col>y1</th><th scope=col>y2</th><th scope=col>y3</th><th scope=col>y4</th></tr>\n",
       "\t<tr><th scope=col>&lt;dbl&gt;</th><th scope=col>&lt;dbl&gt;</th><th scope=col>&lt;dbl&gt;</th><th scope=col>&lt;dbl&gt;</th><th scope=col>&lt;dbl&gt;</th><th scope=col>&lt;dbl&gt;</th><th scope=col>&lt;dbl&gt;</th><th scope=col>&lt;dbl&gt;</th></tr>\n",
       "</thead>\n",
       "<tbody>\n",
       "\t<tr><td>10</td><td>10</td><td>10</td><td> 8</td><td> 8.04</td><td>9.14</td><td> 7.46</td><td> 6.58</td></tr>\n",
       "\t<tr><td> 8</td><td> 8</td><td> 8</td><td> 8</td><td> 6.95</td><td>8.14</td><td> 6.77</td><td> 5.76</td></tr>\n",
       "\t<tr><td>13</td><td>13</td><td>13</td><td> 8</td><td> 7.58</td><td>8.74</td><td>12.74</td><td> 7.71</td></tr>\n",
       "\t<tr><td> 9</td><td> 9</td><td> 9</td><td> 8</td><td> 8.81</td><td>8.77</td><td> 7.11</td><td> 8.84</td></tr>\n",
       "\t<tr><td>11</td><td>11</td><td>11</td><td> 8</td><td> 8.33</td><td>9.26</td><td> 7.81</td><td> 8.47</td></tr>\n",
       "\t<tr><td>14</td><td>14</td><td>14</td><td> 8</td><td> 9.96</td><td>8.10</td><td> 8.84</td><td> 7.04</td></tr>\n",
       "\t<tr><td> 6</td><td> 6</td><td> 6</td><td> 8</td><td> 7.24</td><td>6.13</td><td> 6.08</td><td> 5.25</td></tr>\n",
       "\t<tr><td> 4</td><td> 4</td><td> 4</td><td>19</td><td> 4.26</td><td>3.10</td><td> 5.39</td><td>12.50</td></tr>\n",
       "\t<tr><td>12</td><td>12</td><td>12</td><td> 8</td><td>10.84</td><td>9.13</td><td> 8.15</td><td> 5.56</td></tr>\n",
       "\t<tr><td> 7</td><td> 7</td><td> 7</td><td> 8</td><td> 4.82</td><td>7.26</td><td> 6.42</td><td> 7.91</td></tr>\n",
       "\t<tr><td> 5</td><td> 5</td><td> 5</td><td> 8</td><td> 5.68</td><td>4.74</td><td> 5.73</td><td> 6.89</td></tr>\n",
       "</tbody>\n",
       "</table>\n"
      ],
      "text/latex": [
       "A data.frame: 11 × 8\n",
       "\\begin{tabular}{r|llllllll}\n",
       " x1 & x2 & x3 & x4 & y1 & y2 & y3 & y4\\\\\n",
       " <dbl> & <dbl> & <dbl> & <dbl> & <dbl> & <dbl> & <dbl> & <dbl>\\\\\n",
       "\\hline\n",
       "\t 10 & 10 & 10 &  8 &  8.04 & 9.14 &  7.46 &  6.58\\\\\n",
       "\t  8 &  8 &  8 &  8 &  6.95 & 8.14 &  6.77 &  5.76\\\\\n",
       "\t 13 & 13 & 13 &  8 &  7.58 & 8.74 & 12.74 &  7.71\\\\\n",
       "\t  9 &  9 &  9 &  8 &  8.81 & 8.77 &  7.11 &  8.84\\\\\n",
       "\t 11 & 11 & 11 &  8 &  8.33 & 9.26 &  7.81 &  8.47\\\\\n",
       "\t 14 & 14 & 14 &  8 &  9.96 & 8.10 &  8.84 &  7.04\\\\\n",
       "\t  6 &  6 &  6 &  8 &  7.24 & 6.13 &  6.08 &  5.25\\\\\n",
       "\t  4 &  4 &  4 & 19 &  4.26 & 3.10 &  5.39 & 12.50\\\\\n",
       "\t 12 & 12 & 12 &  8 & 10.84 & 9.13 &  8.15 &  5.56\\\\\n",
       "\t  7 &  7 &  7 &  8 &  4.82 & 7.26 &  6.42 &  7.91\\\\\n",
       "\t  5 &  5 &  5 &  8 &  5.68 & 4.74 &  5.73 &  6.89\\\\\n",
       "\\end{tabular}\n"
      ],
      "text/markdown": [
       "\n",
       "A data.frame: 11 × 8\n",
       "\n",
       "| x1 &lt;dbl&gt; | x2 &lt;dbl&gt; | x3 &lt;dbl&gt; | x4 &lt;dbl&gt; | y1 &lt;dbl&gt; | y2 &lt;dbl&gt; | y3 &lt;dbl&gt; | y4 &lt;dbl&gt; |\n",
       "|---|---|---|---|---|---|---|---|\n",
       "| 10 | 10 | 10 |  8 |  8.04 | 9.14 |  7.46 |  6.58 |\n",
       "|  8 |  8 |  8 |  8 |  6.95 | 8.14 |  6.77 |  5.76 |\n",
       "| 13 | 13 | 13 |  8 |  7.58 | 8.74 | 12.74 |  7.71 |\n",
       "|  9 |  9 |  9 |  8 |  8.81 | 8.77 |  7.11 |  8.84 |\n",
       "| 11 | 11 | 11 |  8 |  8.33 | 9.26 |  7.81 |  8.47 |\n",
       "| 14 | 14 | 14 |  8 |  9.96 | 8.10 |  8.84 |  7.04 |\n",
       "|  6 |  6 |  6 |  8 |  7.24 | 6.13 |  6.08 |  5.25 |\n",
       "|  4 |  4 |  4 | 19 |  4.26 | 3.10 |  5.39 | 12.50 |\n",
       "| 12 | 12 | 12 |  8 | 10.84 | 9.13 |  8.15 |  5.56 |\n",
       "|  7 |  7 |  7 |  8 |  4.82 | 7.26 |  6.42 |  7.91 |\n",
       "|  5 |  5 |  5 |  8 |  5.68 | 4.74 |  5.73 |  6.89 |\n",
       "\n"
      ],
      "text/plain": [
       "   x1 x2 x3 x4 y1    y2   y3    y4   \n",
       "1  10 10 10  8  8.04 9.14  7.46  6.58\n",
       "2   8  8  8  8  6.95 8.14  6.77  5.76\n",
       "3  13 13 13  8  7.58 8.74 12.74  7.71\n",
       "4   9  9  9  8  8.81 8.77  7.11  8.84\n",
       "5  11 11 11  8  8.33 9.26  7.81  8.47\n",
       "6  14 14 14  8  9.96 8.10  8.84  7.04\n",
       "7   6  6  6  8  7.24 6.13  6.08  5.25\n",
       "8   4  4  4 19  4.26 3.10  5.39 12.50\n",
       "9  12 12 12  8 10.84 9.13  8.15  5.56\n",
       "10  7  7  7  8  4.82 7.26  6.42  7.91\n",
       "11  5  5  5  8  5.68 4.74  5.73  6.89"
      ]
     },
     "metadata": {},
     "output_type": "display_data"
    }
   ],
   "source": [
    "library(ggplot2)\n",
    "library(gridExtra)\n",
    "\n",
    "# First, call the data set to the workspace and display it (like in the lab notebook)\n",
    "\n",
    "# YOUR CODE HERE #\n",
    "data(anscombe)\n",
    "anscombe"
   ]
  },
  {
   "cell_type": "code",
   "execution_count": 2,
   "metadata": {},
   "outputs": [
    {
     "data": {
      "text/plain": [
       "       x1             x2             x3             x4           y1        \n",
       " Min.   : 4.0   Min.   : 4.0   Min.   : 4.0   Min.   : 8   Min.   : 4.260  \n",
       " 1st Qu.: 6.5   1st Qu.: 6.5   1st Qu.: 6.5   1st Qu.: 8   1st Qu.: 6.315  \n",
       " Median : 9.0   Median : 9.0   Median : 9.0   Median : 8   Median : 7.580  \n",
       " Mean   : 9.0   Mean   : 9.0   Mean   : 9.0   Mean   : 9   Mean   : 7.501  \n",
       " 3rd Qu.:11.5   3rd Qu.:11.5   3rd Qu.:11.5   3rd Qu.: 8   3rd Qu.: 8.570  \n",
       " Max.   :14.0   Max.   :14.0   Max.   :14.0   Max.   :19   Max.   :10.840  \n",
       "       y2              y3              y4        \n",
       " Min.   :3.100   Min.   : 5.39   Min.   : 5.250  \n",
       " 1st Qu.:6.695   1st Qu.: 6.25   1st Qu.: 6.170  \n",
       " Median :8.140   Median : 7.11   Median : 7.040  \n",
       " Mean   :7.501   Mean   : 7.50   Mean   : 7.501  \n",
       " 3rd Qu.:8.950   3rd Qu.: 7.98   3rd Qu.: 8.190  \n",
       " Max.   :9.260   Max.   :12.74   Max.   :12.500  "
      ]
     },
     "metadata": {},
     "output_type": "display_data"
    }
   ],
   "source": [
    "# display summary statistics here \n",
    "# YOUR CODE HERE #\n",
    "summary(anscombe)"
   ]
  },
  {
   "cell_type": "code",
   "execution_count": 3,
   "metadata": {},
   "outputs": [
    {
     "data": {
      "text/html": [
       "<ol class=list-inline>\n",
       "\t<li>0.81642051634484</li>\n",
       "\t<li>0.816236506000243</li>\n",
       "\t<li>0.816286739489598</li>\n",
       "\t<li>0.816521436888503</li>\n",
       "</ol>\n"
      ],
      "text/latex": [
       "\\begin{enumerate*}\n",
       "\\item 0.81642051634484\n",
       "\\item 0.816236506000243\n",
       "\\item 0.816286739489598\n",
       "\\item 0.816521436888503\n",
       "\\end{enumerate*}\n"
      ],
      "text/markdown": [
       "1. 0.81642051634484\n",
       "2. 0.816236506000243\n",
       "3. 0.816286739489598\n",
       "4. 0.816521436888503\n",
       "\n",
       "\n"
      ],
      "text/plain": [
       "[1] 0.8164205 0.8162365 0.8162867 0.8165214"
      ]
     },
     "metadata": {},
     "output_type": "display_data"
    }
   ],
   "source": [
    "# Let's compute the correlation\n",
    "sapply(1:4, function(x) cor(anscombe[, x], anscombe[, x+4]))"
   ]
  },
  {
   "cell_type": "code",
   "execution_count": 4,
   "metadata": {},
   "outputs": [
    {
     "data": {
      "text/html": [
       "<ol class=list-inline>\n",
       "\t<li>4.12726909090909</li>\n",
       "\t<li>4.12762909090909</li>\n",
       "\t<li>4.12262</li>\n",
       "\t<li>4.12324909090909</li>\n",
       "</ol>\n"
      ],
      "text/latex": [
       "\\begin{enumerate*}\n",
       "\\item 4.12726909090909\n",
       "\\item 4.12762909090909\n",
       "\\item 4.12262\n",
       "\\item 4.12324909090909\n",
       "\\end{enumerate*}\n"
      ],
      "text/markdown": [
       "1. 4.12726909090909\n",
       "2. 4.12762909090909\n",
       "3. 4.12262\n",
       "4. 4.12324909090909\n",
       "\n",
       "\n"
      ],
      "text/plain": [
       "[1] 4.127269 4.127629 4.122620 4.123249"
      ]
     },
     "metadata": {},
     "output_type": "display_data"
    }
   ],
   "source": [
    "# and compute variance\n",
    "sapply(5:8, function(x) var(anscombe[, x]))"
   ]
  },
  {
   "cell_type": "code",
   "execution_count": 5,
   "metadata": {},
   "outputs": [
    {
     "data": {
      "text/plain": [
       "\n",
       "Call:\n",
       "lm(formula = y1 ~ x1, data = anscombe)\n",
       "\n",
       "Coefficients:\n",
       "(Intercept)           x1  \n",
       "     3.0001       0.5001  \n"
      ]
     },
     "metadata": {},
     "output_type": "display_data"
    }
   ],
   "source": [
    "# linear regression (first pair)\n",
    "lm(y1 ~ x1, data = anscombe)"
   ]
  },
  {
   "cell_type": "code",
   "execution_count": 6,
   "metadata": {},
   "outputs": [
    {
     "data": {
      "text/plain": [
       "\n",
       "Call:\n",
       "lm(formula = y2 ~ x2, data = anscombe)\n",
       "\n",
       "Coefficients:\n",
       "(Intercept)           x2  \n",
       "      3.001        0.500  \n"
      ]
     },
     "metadata": {},
     "output_type": "display_data"
    }
   ],
   "source": [
    "# linear regression (second pair)\n",
    "lm(y2 ~ x2, data = anscombe)"
   ]
  },
  {
   "cell_type": "markdown",
   "metadata": {},
   "source": [
    "### Now, it's your turn: Find the linear regression coefficients for the next two data sets:"
   ]
  },
  {
   "cell_type": "code",
   "execution_count": 7,
   "metadata": {},
   "outputs": [
    {
     "data": {
      "text/plain": [
       "\n",
       "Call:\n",
       "lm(formula = y3 ~ x3, data = anscombe)\n",
       "\n",
       "Coefficients:\n",
       "(Intercept)           x3  \n",
       "     3.0025       0.4997  \n"
      ]
     },
     "metadata": {},
     "output_type": "display_data"
    }
   ],
   "source": [
    "# linear regression (next two pairs)\n",
    "\n",
    "lm(y3 ~ x3, data = anscombe)"
   ]
  },
  {
   "cell_type": "code",
   "execution_count": 8,
   "metadata": {},
   "outputs": [
    {
     "data": {
      "text/plain": [
       "\n",
       "Call:\n",
       "lm(formula = y4 ~ x4, data = anscombe)\n",
       "\n",
       "Coefficients:\n",
       "(Intercept)           x4  \n",
       "     3.0017       0.4999  \n"
      ]
     },
     "metadata": {},
     "output_type": "display_data"
    }
   ],
   "source": [
    "lm(y4 ~ x4, data = anscombe)"
   ]
  },
  {
   "cell_type": "markdown",
   "metadata": {},
   "source": [
    "**Let's create a plot with x1 and y1 as the inputs and use the geom_point; it will be a scatterplot.** ggplot2 constructs the graphs in a modular way: first we define the data to be used, then the type of the plot, and then the other parameters and functionality we desire. All these can be added to the plot by using the **+** operator as below. \n"
   ]
  },
  {
   "cell_type": "code",
   "execution_count": 9,
   "metadata": {},
   "outputs": [
    {
     "data": {
      "image/png": "[encoded data removed]",
      "text/plain": [
       "plot without title"
      ]
     },
     "metadata": {},
     "output_type": "display_data"
    },
    {
     "data": {
      "image/png": "[encoded data removed]",
      "text/plain": [
       "plot without title"
      ]
     },
     "metadata": {},
     "output_type": "display_data"
    }
   ],
   "source": [
    "# Inputs: x1 and y1. Use the geom_point to make it a scatterplot. \n",
    "\n",
    "p1 <- ggplot(anscombe, aes(x=x1, y=y1)) + geom_point() \n",
    "\n",
    "# add a linear regression line and set minimum x,y limits on the plot\n",
    "p1 <- p1 + geom_smooth(method = lm) + expand_limits(x = 7, y = 7)\n",
    "p1\n",
    "\n",
    "# Now, let's do the same for x2,y2; we can remove the confidence interval with se=FALSE \n",
    "p2 <- ggplot(anscombe, aes(x=x2, y=y2)) + geom_point() \n",
    "p2 <- p2 + geom_smooth(method = lm, se = FALSE) + expand_limits(x = 7, y = 7)\n",
    "p2"
   ]
  },
  {
   "cell_type": "markdown",
   "metadata": {},
   "source": [
    "### Now, it's your turn: create the plots for x3,y3 and x4,y4 in similar way as above :"
   ]
  },
  {
   "cell_type": "code",
   "execution_count": 10,
   "metadata": {},
   "outputs": [
    {
     "ename": "ERROR",
     "evalue": "Error in parse(text = x, srcfile = src): <text>:1:7: unexpected assignment\n1: p3 <- <-\n          ^\n",
     "output_type": "error",
     "traceback": [
      "Error in parse(text = x, srcfile = src): <text>:1:7: unexpected assignment\n1: p3 <- <-\n          ^\nTraceback:\n"
     ]
    }
   ],
   "source": [
    "p3 <- <--YOUR CODE HERE-->\n",
    "\n",
    "p3 <- p3 + <--YOUR CODE HERE-->\n",
    "p3\n",
    "\n",
    "p4 <- <--YOUR CODE HERE-->\n",
    "\n",
    "p4 <- p4 + <--YOUR CODE HERE-->\n",
    "p4"
   ]
  },
  {
   "cell_type": "code",
   "execution_count": null,
   "metadata": {},
   "outputs": [],
   "source": [
    "# Now, we plot them as a grid using the grid.arrange \n",
    "grid.arrange(p1, p2, p3, p4)"
   ]
  },
  {
   "cell_type": "markdown",
   "metadata": {},
   "source": [
    "**`ggplot2` has many ways of manipulating the plot. Let's try to make our plots look very close to the original picture above.** "
   ]
  },
  {
   "cell_type": "code",
   "execution_count": null,
   "metadata": {},
   "outputs": [],
   "source": [
    "# This is another way of drawing the scatterplot in order to make it look very close to our original graph. \n",
    "\n",
    "# change color and size of the marker\n",
    "pp1 <- ggplot(anscombe) + geom_point(aes(x1, y1), color = \"darkorange\", size = 3) \n",
    "\n",
    "# add black and white theme\n",
    "pp1 <- pp1 + theme_bw()\n",
    "\n",
    "# adjust the limits on the axes\n",
    "pp1 <- pp1 + scale_x_continuous(breaks = seq(0, 18, 2)) + scale_y_continuous(breaks = seq(0, 12, 2)) \n",
    "\n",
    "# draw a line with an intercept and slope -- see the difference from above\n",
    "pp1 <- pp1 + geom_abline(intercept = 3, slope = 0.5, color = \"cornflowerblue\") \n",
    "\n",
    "# more axis stuff\n",
    "pp1 <- pp1 + expand_limits(x = c(4,18), y = c(4,12)) \n",
    "\n",
    "# and add a title \n",
    "pp1 <- pp1 + labs(title = \"dataset 1\")\n",
    "pp1"
   ]
  },
  {
   "cell_type": "markdown",
   "metadata": {},
   "source": [
    "### Again, it's your turn: create the rest of the plots: "
   ]
  },
  {
   "cell_type": "code",
   "execution_count": null,
   "metadata": {},
   "outputs": [],
   "source": [
    "pp2 <- ggplot(anscombe) + <--YOUR CODE HERE-->\n",
    "pp2 <- pp2 + theme_bw() \n",
    "pp2 <- pp2 + scale_x_continuous(breaks = seq(0, 18, 2)) + scale_y_continuous(breaks = seq(0, 12, 2)) \n",
    "pp2 <- pp2 + geom_abline(intercept = 3, slope = 0.5, color = \"cornflowerblue\") \n",
    "pp2 <- pp2 + expand_limits(x = c(4,18), y = c(4,12)) \n",
    "pp2 <- pp2 + <--YOUR CODE HERE-->"
   ]
  },
  {
   "cell_type": "code",
   "execution_count": null,
   "metadata": {},
   "outputs": [],
   "source": [
    "pp3 <- <--YOUR CODE HERE-->\n",
    "\n",
    "pp4 <- <--YOUR CODE HERE-->\n",
    "\n",
    "grid.arrange(pp1, pp2, pp3, pp4)"
   ]
  },
  {
   "cell_type": "markdown",
   "metadata": {},
   "source": [
    "**In the coming labs and practices, we will learn how to manipulate different types of visualizations (plots, bar charts, histograms, etc.) using ggplot2.**"
   ]
  }
 ],
 "metadata": {
  "anaconda-cloud": {},
  "kernelspec": {
   "display_name": "R",
   "language": "R",
   "name": "ir"
  },
  "language_info": {
   "codemirror_mode": "r",
   "file_extension": ".r",
   "mimetype": "text/x-r-source",
   "name": "R",
   "pygments_lexer": "r",
   "version": "3.5.1"
  }
 },
 "nbformat": 4,
 "nbformat_minor": 1
}
