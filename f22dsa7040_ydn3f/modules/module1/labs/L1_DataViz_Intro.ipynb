{
 "cells": [
  {
   "cell_type": "markdown",
   "metadata": {},
   "source": [
    "# Lab 1 - Introduction to Data Visualization\n",
    "\n",
    "This is your first lab for the Data Visualization course. We will cover the fundamentals of visualization concepts and technologies. We will start with the principles of data visualization, human visual perception; and then we will learn how to select the appropriate visualization methods for various types of data, and we will implement our visualizations in R and Python using several libraries such as ggplot2 and plotly. We will also refer to the slides as we go through the labs. For this lab, we will refer to the slides in the file  [L1_DataViz_Intro.pdf](L1_DataViz_Intro.pdf) (you can right-click and save the pdf document)."
   ]
  },
  {
   "cell_type": "markdown",
   "metadata": {},
   "source": [
    "## What is data visualization?\n",
    "\n",
    "Data visualization is the visual representation of data in order to explore, discover, analyze, and gain insight about the phenomena. This facet of the visualization is mainly about understanding data better through visual representation. The other facet of data visualization is to effectively communicate ideas, convey a consistent message, and convince people. So, we have several types of visualization depending on the purpose:\n",
    "\n",
    "### Types of visualization\n",
    "\n",
    "* **Scientific visualization** (SciVis): SciVis is the visualization of the structured data, usually in 3D, in order to simulate or recreate real, physical models such as storm forecasting, seismic data, fluid dynamics, medical image visualization, etc. (**slide #5** in [L1_DataViz_Intro.pdf](L1_DataViz_Intro.pdf)). \n",
    "\n",
    "<img src=\"../images/scivis.png\">\n",
    "\n",
    "* **Information visualization** (InfoVis): This usually covers all kinds of data with or without any inherent structure and can span from statistical plots with mathematical accuracy to the infographics that we see in newspapers or news web sites. It can be relational (networks of data items such as facebook connections), geographical (maps), or simple measurements or time series such as stock market data. The main purpose of this type of visualization is to effectively communicate a message\n",
    "(**slide #6** in [L1_DataViz_Intro.pdf](L1_DataViz_Intro.pdf)). \n",
    "\n",
    "<img src=\"../images/infovis.png\">\n",
    "\n",
    "* **Visual Analytics**: **This is the visualization of data to explore and *gain insight* toward understanding some phenomenon in the data** (correlations, clusters, outliers, etc.) which helps us to choose the right mathematical and statistical tools to analyze the data.\n"
   ]
  },
  {
   "cell_type": "markdown",
   "metadata": {},
   "source": [
    "## Why visualize data ? \n",
    "\n",
    "As we discussed above, **we visualize the data either to explore and understand it, or to communicate a message.**\n",
    "\n",
    "Why can't we simply use some mathematical tools to get an understanding of the data, or why can't we use words, descriptions to communicate a message ? Human visual perception is a very well developed system that is an integral part of our perception of the world. We can use it to our advantage. \n",
    "\n",
    "**Let's look at an example. How many letter V's do you see in here ?** \n",
    "\n",
    "<img src=\"../images/numberofvs.png\">\n",
    "\n",
    "It's hard to say, we need to go through it one by one and count. Now look at the this:\n",
    "\n",
    "<img src=\"../images/numberofvs2.png\">\n",
    "\n",
    "V's are distinctively colored, and **we can immediately count them**. Our visual perception, as we will see later, can process visual elements with some distinction much faster. \n",
    "\n",
    "**So, for the data analysis purpose, we can exploit the human visual perception in order to easily explore and discover characteristics, or relationships in the data. For the communication purposes, we can exploit the same in order to represent the data in a manner that is suitable to convey an idea or message effectively.** \n",
    "\n",
    "Later, we will see another simple example where we can gain much better insight on data by simply visualizing it rather than using mathematical and statistical tools. \n"
   ]
  },
  {
   "cell_type": "markdown",
   "metadata": {},
   "source": [
    "## Impact of Visualization\n",
    "\n",
    "Let's look at three examples of visualization and see what kind of **impact** they can have. The last two are **significant historical examples that made a big impact**. "
   ]
  },
  {
   "cell_type": "markdown",
   "metadata": {},
   "source": [
    "---\n",
    "\n",
    "### Causes of Untimely Death \n",
    "\n",
    "This is a *tree map* that shows the annual percentage change from 2005 to 2010 of untimely deaths due to different causes (**Slide #12**). It shows us **a hierarchy with three top level causes: infectious diseases, injuries, and noncommunicable diseases**. \n",
    "\n",
    "By giving them **different colors, it helps us to distinguish between them**; and by changing **the shade of the colors, it helps us understand which diseases cause more deaths**. Also note the text annotations that **emphasize the message**. \n",
    "\n",
    "This visualization can be used effectively to communicate several messages instantly:  \n",
    " - We can easily see that infectious diseases are still a very big problem.\n",
    " - Diseases like Malaria or AIDS still have big impact. \n",
    " \n",
    "This is a good example of **information visualization with the purpose of conveying a message or idea**. Discussion point: does 3D help or hurt ? \n",
    "\n",
    "<img src=\"../images/Deaths.png\">"
   ]
  },
  {
   "cell_type": "markdown",
   "metadata": {},
   "source": [
    "---\n",
    "\n",
    "### Minard's Map of Napoleon's Russian Campaign of 1812\n",
    "\n",
    "This is one of the first significant examples of visualization where six attributes of data were represented in a map: number of troops, distance traveled, temperature, position, direction of travel, and dates (**Slide #10**). The impact of it is how it showed the diminishing number of troops as the campaign progressed. With one look at this map, people could comprehend the disastrous nature of the campaign.\n",
    "\n",
    "<img src=\"../images/Minard.png\">"
   ]
  },
  {
   "cell_type": "markdown",
   "metadata": {},
   "source": [
    "---\n",
    "\n",
    "### John Snow’s Cholera Map in the London Epidemic of 1854\n",
    "\n",
    "This is also a significant visualization for its time (**Slide #11**) as it was helpful to understand the nature of the epidemic in London. \n",
    "\n",
    "John Snow mapped the number of deaths to their locations which helped to discover an **important pattern: deaths clustered around water pumps.** But it also showed **an outlier: those who drink beer survived.** This kind of **exploratory visual analysis** was key to understand the relation between cholera and the water sources and eventually led to the development of epidemiology. \n",
    "\n",
    "<img src=\"../images/Snow.png\">\n",
    "\n",
    "---"
   ]
  },
  {
   "cell_type": "code",
   "execution_count": null,
   "metadata": {},
   "outputs": [],
   "source": [
    "# This is a copy of John Snow's data set. \n",
    "df <- read.csv(\"/dsa/data/all_datasets/CholeraDeathsPumps.csv\")\n",
    "\n",
    "# this data set has the number of deaths and geographical coordinates (longitudes and latitudes) of the deaths. \n",
    "# water pump locations are given where count is -999. \n",
    "\n",
    "# display the data frame here. \n",
    "\n",
    "# can you find the number of water pumps ? "
   ]
  },
  {
   "cell_type": "markdown",
   "metadata": {},
   "source": [
    "### Other Notable Figures in History of Visualization\n",
    "\n",
    "### William Playfair \n",
    "\n",
    "Founder of graphical methods for statistics: **invented bar charts, pie charts**, etc. [Wikipedia Article](https://en.wikipedia.org/wiki/William_Playfair)\n",
    "\n",
    "### Florence Nightingale \n",
    "\n",
    "Founder of modern nursing and statistician: **invented [coxcomb (or rose) charts](https://www.anychart.com/chartopedia/chart-type/nightingale-rose-chart/).**\n",
    "<img src=\"../images/Nightingale-mortality.jpg\">\n",
    "\n",
    "[Wikipedia Article](https://en.wikipedia.org/wiki/Florence_Nightingale)\n",
    "\n",
    "**Nice analysis of her diagrams: good examples to show how much thought should go into even seemingly simple visualizations!**\n",
    " - http://www.florence-nightingale-avenging-angel.co.uk/?p=462\n",
    " - https://www.r-bloggers.com/going-beyond-florence-nightingales-data-diagram-did-flo-blow-it-with-wedges/\n",
    " \n",
    " \n",
    "\n"
   ]
  },
  {
   "cell_type": "markdown",
   "metadata": {},
   "source": [
    "---\n",
    "\n",
    "## Anscombe's Quartet\n",
    "\n",
    "Now, let's look at a simple numerical example to see the importance of **exploratory visualization**. The following four sets of (x,y) coordinates are known as *Anscombe's Quartet*. **What you see below is actually the simplest form of visualization: simply putting numbers in a table.** Can you see anything of importance when you look at this data? Probably not, because it is _not_ visualized to exploit the characteristics of human visual perception.\n",
    "\n",
    "<img src=\"../images/Anscombe.png\">"
   ]
  },
  {
   "cell_type": "markdown",
   "metadata": {},
   "source": [
    "If you run some simple statistics, you'll see that all four of these (very simple) data sets have almost exact same statistics. \n",
    "\n",
    "<img src=\"../images/AnscombeStats.png\">"
   ]
  },
  {
   "cell_type": "code",
   "execution_count": null,
   "metadata": {},
   "outputs": [],
   "source": [
    "library(ggplot2)\n",
    "library(gridExtra)\n",
    "\n",
    "# the data set already comes with the library itself, we just call it to the workspace.\n",
    "data(anscombe)\n",
    "\n",
    "# let's look at the data itself\n",
    "anscombe"
   ]
  },
  {
   "cell_type": "code",
   "execution_count": null,
   "metadata": {},
   "outputs": [],
   "source": [
    "#Now let's look at some statistics\n",
    "summary(anscombe)"
   ]
  },
  {
   "cell_type": "markdown",
   "metadata": {},
   "source": [
    "We will compute other statistics in the practice notebook. Let's see what happens if the same data set is visualized as a simple scatter plot.\n",
    "\n",
    "<img src=\"../images/AnscombeGraph.png\">\n",
    "\n",
    "**As you can see, these data sets have very different characteristics, yet we could not discover it by running statistics, we had to visualize in order to understand and explore data**. \n",
    "\n",
    "Even this simple example shows the importance of visual exploration. By looking at this, we can come up with hypotheses regarding the data; for example, we can easily see that there are some outliers in the bottom plots, and we can explore further whether they are simply noise or important data points to consider. \n",
    "\n",
    "**Visualization helps us to understand data and represent it effectively to make decisions.** In the practices, we will see how to create these plots. "
   ]
  },
  {
   "cell_type": "markdown",
   "metadata": {},
   "source": [
    "\n",
    "## Dive Deeper\n",
    "\n",
    "\n",
    "### Video \n",
    "\n",
    "[How We Got To Now - S01E01 Clean](https://vimeo.com/182860286): This episode contains the **story of John Snow's cholera map and its impact leading to the development of epidemiology**. Watch betweeen time stamps 19:35 and 29:50. Here is a synopsis to time stamps in the video:\n",
    "\n",
    " - 19:35 beginning\n",
    " - 24:30 1836, John Snow arrives in London.\n",
    " - 26:30 the map \n",
    " - 27:00 **the pattern and the outlier**\n",
    " - 27:30 the insight: \"drink beer\", **the real insight: \"access to clean drinking water is crucial to prevent disease.\"**\n",
    " - 28:10 Leading to epidemiology: **maps and surveys to uncover the patterns** and causes of disease. \n",
    " - 29:50 end \n",
    "\n",
    "  \n",
    "\n",
    "### Reading \n",
    "\n",
    "[Minard's World](https://www.youtube.com/watch?v=sQdpQkDGCAU) contains a nice video about his visualization of cotton trade.\n",
    "\n",
    "[DataViz History: Charles Minard’s Flow Map of Napoleon’s Russian Campaign of 1812](https://datavizblog.com/2013/05/26/dataviz-history-charles-minards-flow-map-of-napoleons-russian-campaign-of-1812-part-5/)\n",
    "\n",
    "[Re-Visions of Minard](http://www.datavis.ca/gallery/re-minard.php)\n",
    "\n",
    "[John Snow’s Cholera data in more formats](http://blog.rtwilson.com/john-snows-cholera-data-in-more-formats/): modern renderings of John Snow's map. \n",
    "\n",
    "[John Snow's Map](https://www.arcgis.com/apps/PublicInformation/index.html?appid=d7deb67f810d46dfacb80ff80ac224e9): interactive map (click on legend and layers; by the end of the visualization courses, you will be able to create visualizations like this).\n",
    "\n"
   ]
  }
 ],
 "metadata": {
  "kernelspec": {
   "display_name": "R",
   "language": "R",
   "name": "ir"
  },
  "language_info": {
   "codemirror_mode": "r",
   "file_extension": ".r",
   "mimetype": "text/x-r-source",
   "name": "R",
   "pygments_lexer": "r",
   "version": "3.5.1"
  }
 },
 "nbformat": 4,
 "nbformat_minor": 1
}
